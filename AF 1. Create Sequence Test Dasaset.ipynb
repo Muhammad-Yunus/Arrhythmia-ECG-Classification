{
 "cells": [
  {
   "cell_type": "markdown",
   "metadata": {},
   "source": [
    "![](resource/ECG-waves.jpg)\n",
    "\n",
    "sumber : [link](https://litfl.com/qt-interval-ecg-library/)"
   ]
  },
  {
   "cell_type": "code",
   "execution_count": 1,
   "metadata": {},
   "outputs": [],
   "source": [
    "import os \n",
    "import numpy as np\n",
    "import pandas as pd \n",
    "import datetime\n",
    "import matplotlib.pyplot as plt\n",
    "from datetime import timedelta"
   ]
  },
  {
   "cell_type": "code",
   "execution_count": 2,
   "metadata": {},
   "outputs": [
    {
     "data": {
      "text/plain": [
       "['Fikar.csv', 'Hari.csv', 'Ikhsan.csv', 'Imam.csv', 'Putu.csv', 'Zein.csv']"
      ]
     },
     "execution_count": 2,
     "metadata": {},
     "output_type": "execute_result"
    }
   ],
   "source": [
    "data_type = 'Normal' # pilih 'Normal' untuk normal dan 'AF' untuk atrial fibrilliation\n",
    "\n",
    "folder_dataset = \"dataset/data pasien/pasien %s\" % data_type\n",
    "\n",
    "os.listdir(folder_dataset)"
   ]
  },
  {
   "cell_type": "code",
   "execution_count": 3,
   "metadata": {},
   "outputs": [
    {
     "ename": "SyntaxError",
     "evalue": "EOL while scanning string literal (<ipython-input-3-0a0b85a29c0e>, line 1)",
     "output_type": "error",
     "traceback": [
      "\u001b[1;36m  File \u001b[1;32m\"<ipython-input-3-0a0b85a29c0e>\"\u001b[1;36m, line \u001b[1;32m1\u001b[0m\n\u001b[1;33m    filename = 'Hari.csv\u001b[0m\n\u001b[1;37m                        ^\u001b[0m\n\u001b[1;31mSyntaxError\u001b[0m\u001b[1;31m:\u001b[0m EOL while scanning string literal\n"
     ]
    }
   ],
   "source": [
    "filename = 'Hari.csv"
   ]
  },
  {
   "cell_type": "code",
   "execution_count": null,
   "metadata": {},
   "outputs": [],
   "source": [
    "# read dataset, skip first row\n",
    "ECG = pd.read_csv(os.path.join(folder_dataset, filename), skiprows = [0])\n",
    "\n",
    "ECG.columns = ['Time', 'ECG']\n",
    "\n",
    "ECG.head()"
   ]
  },
  {
   "cell_type": "code",
   "execution_count": null,
   "metadata": {},
   "outputs": [],
   "source": [
    "# replace not required char in Time_norm Series \n",
    "# ECG[\"Time_norm\"] = ECG.Time.apply(lambda x:  \"00:0\" + x.replace(\"[\", \"\") \\\n",
    "#                                                       .replace(\"]\", \"\") \\\n",
    "#                                                       .replace(\"'\", \"\") \\\n",
    "#                                                       .replace(\"'\",\"\"))\n",
    "\n",
    "# create Series with dtype Time\n",
    "ECG[\"Idx_Time\"] = pd.to_datetime(ECG[\"Time\"]) #, errors='coerce', format=\"%H:%M:%S.%f\")\n",
    "\n",
    "#Set Time as Index\n",
    "ECG.index = ECG[\"Idx_Time\"]\n",
    "\n",
    "# delete unused column \n",
    "ECG.drop('Idx_Time', axis=1, inplace=True)\n",
    "# ECG.drop('Time_norm', axis=1, inplace=True)\n",
    "ECG.drop('Time', axis=1, inplace=True)"
   ]
  },
  {
   "cell_type": "code",
   "execution_count": null,
   "metadata": {},
   "outputs": [],
   "source": [
    "# set sampling rate\n",
    "fs = 25 #Hz"
   ]
  },
  {
   "cell_type": "code",
   "execution_count": null,
   "metadata": {},
   "outputs": [],
   "source": [
    "def plot_signal(data, fs, label=\"ECG sample raw data\"):\n",
    "    plt.figure(figsize=(20, 5))\n",
    "    plt.ylabel(\"Amplitude\")\n",
    "\n",
    "    # Calculate time values in seconds\n",
    "    times = np.arange(data.shape[0], dtype='float') / fs\n",
    "\n",
    "    plt.plot(times, data)\n",
    "    plt.xlabel(\"Time (s)\")\n",
    "    plt.title(label)\n",
    "    plt.grid(True)\n",
    "    plt.show()"
   ]
  },
  {
   "cell_type": "code",
   "execution_count": null,
   "metadata": {},
   "outputs": [],
   "source": [
    "ECG.tail()"
   ]
  },
  {
   "cell_type": "code",
   "execution_count": null,
   "metadata": {},
   "outputs": [],
   "source": [
    "str(ECG.index.min().time()), str(ECG.index.max().time())"
   ]
  },
  {
   "cell_type": "code",
   "execution_count": null,
   "metadata": {},
   "outputs": [],
   "source": [
    "start = ECG.index[0].time()\n",
    "end = (ECG.index[0] + datetime.timedelta(seconds=16)).time()\n",
    "print(start, end)\n",
    "\n",
    "plot_signal(ECG.between_time(start, end), fs, \"ECG sample raw data 16 second\")"
   ]
  },
  {
   "cell_type": "code",
   "execution_count": null,
   "metadata": {},
   "outputs": [],
   "source": [
    "start = (ECG.index[0] + datetime.timedelta(seconds=32)).time()\n",
    "end = (ECG.index[0] + datetime.timedelta(seconds=48)).time()\n",
    "print(start, end)\n",
    "\n",
    "plot_signal(ECG.between_time(start, end), fs, \"ECG sample raw data 16 second\")"
   ]
  },
  {
   "cell_type": "markdown",
   "metadata": {},
   "source": [
    "___\n",
    "## Baseline Wander Removal\n",
    "### Asymmetric Least Squares Smoothing"
   ]
  },
  {
   "cell_type": "code",
   "execution_count": null,
   "metadata": {},
   "outputs": [],
   "source": [
    "from scipy.signal import argrelextrema"
   ]
  },
  {
   "cell_type": "code",
   "execution_count": null,
   "metadata": {},
   "outputs": [],
   "source": [
    "from scipy.signal import find_peaks "
   ]
  },
  {
   "cell_type": "code",
   "execution_count": null,
   "metadata": {},
   "outputs": [],
   "source": [
    "from scipy import sparse\n",
    "from scipy.sparse.linalg import spsolve"
   ]
  },
  {
   "cell_type": "code",
   "execution_count": null,
   "metadata": {},
   "outputs": [],
   "source": [
    "def plot_16s_sample(original, als, baseline, label=\"Plot 16 s sample\"):\n",
    "    times = np.arange(len(original), dtype='float') / fs\n",
    "    \n",
    "    plt.figure(figsize=(20, 10))\n",
    "    plt.subplot(2,1,1)\n",
    "    plt.plot(times, original)\n",
    "    plt.plot(times, baseline)\n",
    "    plt.legend(['original signal', 'baseline'])\n",
    "    plt.title(label)\n",
    "    plt.grid(True)\n",
    "    plt.subplot(2,1,2)\n",
    "    plt.plot(times, als)\n",
    "    plt.legend(['signal - als'])\n",
    "    plt.grid(True)\n",
    "    plt.show()"
   ]
  },
  {
   "cell_type": "code",
   "execution_count": null,
   "metadata": {},
   "outputs": [],
   "source": [
    "def baseline_als(y, lam=10000, p=0.05, n_iter=10):\n",
    "    L = len(y)\n",
    "    D = sparse.diags([1,-2,1],[0,-1,-2], shape=(L,L-2))\n",
    "    w = np.ones(L)\n",
    "    for i in range(n_iter):\n",
    "        W = sparse.spdiags(w, 0, L, L)\n",
    "        Z = W + lam * D.dot(D.transpose())\n",
    "        z = spsolve(Z, w*y)\n",
    "        w = p * (y > z) + (1-p) * (y < z)\n",
    "    return z"
   ]
  },
  {
   "cell_type": "markdown",
   "metadata": {},
   "source": [
    "- apply to all sample signal"
   ]
  },
  {
   "cell_type": "code",
   "execution_count": null,
   "metadata": {},
   "outputs": [],
   "source": [
    "ECG.index.min(), ECG.index.max()"
   ]
  },
  {
   "cell_type": "code",
   "execution_count": null,
   "metadata": {},
   "outputs": [],
   "source": [
    "def perdelta(start, end, delta):\n",
    "    curr = start\n",
    "    while curr < end:\n",
    "        yield curr\n",
    "        curr += delta\n",
    "        \n",
    "time_interval = [time_result for time_result in perdelta(ECG.index.min(), ECG.index.max(), timedelta(seconds=16))]"
   ]
  },
  {
   "cell_type": "code",
   "execution_count": null,
   "metadata": {},
   "outputs": [],
   "source": [
    "ECG_ALS = []\n",
    "BASELINE_ALS = []\n",
    "ORI = []\n",
    "for time_intv in list(zip(time_interval, time_interval[1:])):\n",
    "    X = ECG.between_time(time_intv[0].time(), time_intv[1].time())\n",
    "    X_val = X.values[:,0]\n",
    "    if len(X_val) > 0 :\n",
    "        \n",
    "#         min_id = argrelextrema(X_val, np.less, order=7)[0]\n",
    "#         h = np.mean(X_val) + np.std(X_val)\n",
    "        \n",
    "#         max_id = find_peaks(X_val, height=h)[0] \n",
    "        \n",
    "#         max_val = np.mean(X_val) + (np.max([X_val[i] for i in range(len(X_val)) if i in max_id]) - np.mean(X_val))*0.5\n",
    "#         min_val = np.mean(X_val) - (max_val - np.mean(X_val))\n",
    "         \n",
    "#         for idx in max_id:\n",
    "#             X_val[idx] = max_val\n",
    "#         for idx in min_id:\n",
    "#             X_val[idx] = min_val\n",
    "        \n",
    "        baseline = baseline_als(X_val)\n",
    "        ALS = X_val - baseline\n",
    "        \n",
    "        ORI.append(X_val)\n",
    "        ECG_ALS.append(np.array(ALS))\n",
    "        BASELINE_ALS.append(baseline)"
   ]
  },
  {
   "cell_type": "code",
   "execution_count": null,
   "metadata": {},
   "outputs": [],
   "source": [
    "plot_16s_sample(ORI[0], ECG_ALS[0], BASELINE_ALS[0], label=\"Baseline Wander Removal - Asymmetric Least Squares Smoothing\")"
   ]
  },
  {
   "cell_type": "markdown",
   "metadata": {},
   "source": [
    "___\n",
    "## Signal Normalization"
   ]
  },
  {
   "cell_type": "code",
   "execution_count": null,
   "metadata": {},
   "outputs": [],
   "source": [
    "from sklearn.preprocessing import MinMaxScaler, MaxAbsScaler, StandardScaler\n"
   ]
  },
  {
   "cell_type": "code",
   "execution_count": null,
   "metadata": {},
   "outputs": [],
   "source": [
    "scaler = MaxAbsScaler()\n",
    "ECG_Norm = []\n",
    "\n",
    "for als in ECG_ALS :\n",
    "    als = np.expand_dims(als, 1)\n",
    "    scaler = scaler.fit(als)\n",
    "    \n",
    "    als_norm = scaler.transform(als) \n",
    "    ECG_Norm.append(als_norm)"
   ]
  },
  {
   "cell_type": "code",
   "execution_count": null,
   "metadata": {},
   "outputs": [],
   "source": [
    "plot_signal(ECG_Norm[0], fs, \"ECG sample raw data 16 second\")"
   ]
  },
  {
   "cell_type": "markdown",
   "metadata": {},
   "source": [
    "___\n",
    "\n",
    "## QRS Detection"
   ]
  },
  {
   "cell_type": "markdown",
   "metadata": {},
   "source": [
    "pip package : `pip install py-ecg-detectors`"
   ]
  },
  {
   "cell_type": "code",
   "execution_count": null,
   "metadata": {},
   "outputs": [],
   "source": [
    "from ecgdetectors import Detectors\n"
   ]
  },
  {
   "cell_type": "code",
   "execution_count": null,
   "metadata": {},
   "outputs": [],
   "source": [
    "def plot_r_peaks(r_peaks, data, fs, label = \"Detected R peaks\"):\n",
    "    times = np.arange(data.shape[0], dtype='float') / fs\n",
    "\n",
    "    ymin = np.min(data)\n",
    "    ymax = np.max(data)\n",
    "    alpha = 0.2 * (ymax - ymin)\n",
    "    ymax += alpha\n",
    "    ymin -= alpha\n",
    "\n",
    "    plt.figure(figsize=(20, 5))\n",
    "    plt.plot(times, data)\n",
    "    \n",
    "    plt.vlines([r / fs for r in r_peaks], ymin, ymax,\n",
    "               color=\"r\",\n",
    "               linewidth=2)\n",
    "\n",
    "    plt.title(label)\n",
    "    plt.grid(True)\n",
    "    plt.show()"
   ]
  },
  {
   "cell_type": "code",
   "execution_count": null,
   "metadata": {},
   "outputs": [],
   "source": [
    "idx = 0\n",
    "\n",
    "data = np.array(ECG_Norm[idx])\n",
    "\n",
    "h = np.mean(data[:,0]) + np.std(data[:,0])\n",
    "r_peaks = find_peaks(data[:,0], height=h)[0] \n",
    "\n",
    "plot_r_peaks(r_peaks, data, fs, label=\"Detected R Peaks\")"
   ]
  },
  {
   "cell_type": "code",
   "execution_count": null,
   "metadata": {},
   "outputs": [],
   "source": [
    "# idx = 3\n",
    "\n",
    "# data = np.array(ECG_Norm[idx])\n",
    "\n",
    "# detectors = Detectors(50)\n",
    "# r_peaks = detectors.christov_detector(data)\n",
    "\n",
    "# plot_r_peaks(r_min, data, fs, label=\"Detected R Peaks - Christov Detector\")"
   ]
  },
  {
   "cell_type": "markdown",
   "metadata": {},
   "source": [
    "## generate R - R interval for al signal"
   ]
  },
  {
   "cell_type": "code",
   "execution_count": null,
   "metadata": {},
   "outputs": [],
   "source": [
    "ECG_split = []\n",
    "pad_size = 30\n",
    "for data in ECG_Norm :\n",
    "    data = np.array(data)\n",
    "    \n",
    "    h = np.mean(data[:,0]) + np.std(data[:,0])\n",
    "    r_peaks = find_peaks(data[:,0], height=h)[0]\n",
    "    #r_peaks = detectors.christov_detector(data)\n",
    "    RRs = np.diff(r_peaks)\n",
    "    RRs_med = np.median(RRs)\n",
    "    if not np.isnan(RRs_med) :\n",
    "        for rp in r_peaks :\n",
    "            split = data[:,0][rp : rp + int(RRs_med * 1.2)] \n",
    "            pad = np.zeros(pad_size)\n",
    "            n_max = len(split) if len(split) <= pad_size else pad_size\n",
    "            pad[0:n_max] = split[0:n_max]\n",
    "            ECG_split.append(pad)"
   ]
  },
  {
   "cell_type": "code",
   "execution_count": null,
   "metadata": {},
   "outputs": [],
   "source": [
    "def plot_1_sample(data, fs):\n",
    "    times = np.arange(data.shape[0]) / fs * 1000 \n",
    "\n",
    "    plt.plot(times, data)\n",
    "    plt.title(\"Plot 1 sample\")\n",
    "    plt.xlabel(\"Time (ms)\")\n",
    "    plt.ylabel(\"Normalized Value\")\n",
    "    plt.grid(True)\n",
    "    plt.show()"
   ]
  },
  {
   "cell_type": "code",
   "execution_count": null,
   "metadata": {},
   "outputs": [],
   "source": [
    "ECG_split[1].shape[0]"
   ]
  },
  {
   "cell_type": "code",
   "execution_count": null,
   "metadata": {},
   "outputs": [],
   "source": [
    "plot_1_sample(ECG_split[3], fs)"
   ]
  },
  {
   "cell_type": "markdown",
   "metadata": {},
   "source": [
    "___\n",
    "\n",
    "## Upsampling Signal"
   ]
  },
  {
   "cell_type": "code",
   "execution_count": null,
   "metadata": {},
   "outputs": [],
   "source": [
    "from scipy.signal import resample, resample_poly"
   ]
  },
  {
   "cell_type": "code",
   "execution_count": null,
   "metadata": {},
   "outputs": [],
   "source": [
    "def upsampling_twice(data):\n",
    "    # upsampling interpolation\n",
    "    result = np.zeros(2*len(data)-1)\n",
    "    result[0::2] = data\n",
    "    result[1::2] = (data[1:] + data[:-1]) / 2\n",
    "    return result"
   ]
  },
  {
   "cell_type": "code",
   "execution_count": null,
   "metadata": {},
   "outputs": [],
   "source": [
    "new_fs = 250 # Hz \n",
    "ECG_Split_Up = []\n",
    "for data in ECG_split :\n",
    "    data = np.array(data)\n",
    "    data = upsampling_twice(data) \n",
    "    data = resample_poly(data, new_fs, int(new_fs/5))\n",
    "    pad = np.zeros(300)\n",
    "    pad[:len(data)] = data\n",
    "    ECG_Split_Up.append(pad)"
   ]
  },
  {
   "cell_type": "code",
   "execution_count": null,
   "metadata": {},
   "outputs": [],
   "source": [
    "plot_1_sample(ECG_Split_Up[1], fs=new_fs)"
   ]
  },
  {
   "cell_type": "code",
   "execution_count": null,
   "metadata": {},
   "outputs": [],
   "source": [
    "ECG_DF = pd.DataFrame(ECG_Split_Up)"
   ]
  },
  {
   "cell_type": "code",
   "execution_count": null,
   "metadata": {},
   "outputs": [],
   "source": [
    "ECG_DF.to_csv(\"dataset/AFDB_pasien_%s_%s\" % (data_type, filename), index=False, header=False)"
   ]
  },
  {
   "cell_type": "code",
   "execution_count": null,
   "metadata": {},
   "outputs": [],
   "source": []
  }
 ],
 "metadata": {
  "kernelspec": {
   "display_name": "Python 3",
   "language": "python",
   "name": "python3"
  },
  "language_info": {
   "codemirror_mode": {
    "name": "ipython",
    "version": 3
   },
   "file_extension": ".py",
   "mimetype": "text/x-python",
   "name": "python",
   "nbconvert_exporter": "python",
   "pygments_lexer": "ipython3",
   "version": "3.7.9"
  }
 },
 "nbformat": 4,
 "nbformat_minor": 4
}
