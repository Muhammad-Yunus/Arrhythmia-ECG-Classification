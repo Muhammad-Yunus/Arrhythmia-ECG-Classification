{
 "cells": [
  {
   "cell_type": "code",
   "execution_count": 4,
   "metadata": {},
   "outputs": [],
   "source": [
    "import pandas as pd\n",
    "import numpy as np \n",
    "import matplotlib.pyplot as plt"
   ]
  },
  {
   "cell_type": "code",
   "execution_count": 14,
   "metadata": {},
   "outputs": [],
   "source": [
    "labels = ['AF', 'N']"
   ]
  },
  {
   "cell_type": "code",
   "execution_count": 1,
   "metadata": {},
   "outputs": [],
   "source": [
    "import os\n",
    "\n",
    "dataset_folder = 'dataset/'\n",
    "filenames = []\n",
    "for filename in os.listdir(dataset_folder):\n",
    "    if filename.find(\"_AFDB_\") > -1 or filename.find(\"_NSRDB_\") > -1:\n",
    "        filenames.append(filename)"
   ]
  },
  {
   "cell_type": "code",
   "execution_count": 2,
   "metadata": {
    "scrolled": true
   },
   "outputs": [
    {
     "data": {
      "text/plain": [
       "['NSRDB_NSRDB_16265_sequence_300_pt.csv',\n",
       " 'NSRDB_NSRDB_16272_sequence_300_pt.csv',\n",
       " 'NSRDB_NSRDB_16273_sequence_300_pt.csv',\n",
       " 'NSRDB_NSRDB_16420_sequence_300_pt.csv',\n",
       " 'NSRDB_NSRDB_16483_sequence_300_pt.csv',\n",
       " 'NSRDB_NSRDB_16539_sequence_300_pt.csv',\n",
       " 'NSRDB_NSRDB_16773_sequence_300_pt.csv',\n",
       " 'NSRDB_NSRDB_16786_sequence_300_pt.csv',\n",
       " 'NSRDB_NSRDB_16795_sequence_300_pt.csv',\n",
       " 'NSRDB_NSRDB_17052_sequence_300_pt.csv',\n",
       " 'NSRDB_NSRDB_17453_sequence_300_pt.csv',\n",
       " 'NSRDB_NSRDB_18177_sequence_300_pt.csv',\n",
       " 'NSRDB_NSRDB_18184_sequence_300_pt.csv',\n",
       " 'NSRDB_NSRDB_19088_sequence_300_pt.csv',\n",
       " 'NSRDB_NSRDB_19090_sequence_300_pt.csv',\n",
       " 'NSRDB_NSRDB_19093_sequence_300_pt.csv',\n",
       " 'NSRDB_NSRDB_19140_sequence_300_pt.csv',\n",
       " 'NSRDB_NSRDB_19830_sequence_300_pt.csv',\n",
       " 'test_AFDB_04015.csv',\n",
       " 'test_AFDB_04043.csv',\n",
       " 'test_AFDB_04048.csv',\n",
       " 'test_AFDB_04936.csv',\n",
       " 'test_AFDB_05091.csv',\n",
       " 'test_AFDB_05121.csv',\n",
       " 'test_AFDB_05261.csv',\n",
       " 'test_AFDB_06426.csv',\n",
       " 'test_AFDB_06453.csv',\n",
       " 'test_AFDB_06995.csv',\n",
       " 'test_AFDB_07910.csv',\n",
       " 'test_AFDB_08215.csv',\n",
       " 'test_AFDB_08219.csv',\n",
       " 'test_AFDB_08378.csv',\n",
       " 'test_AFDB_08455.csv',\n",
       " 'train_AFDB_04015_balanced.csv',\n",
       " 'train_AFDB_04043_balanced.csv',\n",
       " 'train_AFDB_04048_balanced.csv',\n",
       " 'train_AFDB_04936_balanced.csv',\n",
       " 'train_AFDB_05091_balanced.csv',\n",
       " 'train_AFDB_05121_balanced.csv',\n",
       " 'train_AFDB_05261_balanced.csv',\n",
       " 'train_AFDB_06426_balanced.csv',\n",
       " 'train_AFDB_06453_balanced.csv',\n",
       " 'train_AFDB_06995_balanced.csv',\n",
       " 'train_AFDB_07910_balanced.csv',\n",
       " 'train_AFDB_08215_balanced.csv',\n",
       " 'train_AFDB_08219_balanced.csv',\n",
       " 'train_AFDB_08378_balanced.csv',\n",
       " 'train_AFDB_08455_balanced.csv']"
      ]
     },
     "execution_count": 2,
     "metadata": {},
     "output_type": "execute_result"
    }
   ],
   "source": [
    "filenames"
   ]
  },
  {
   "cell_type": "code",
   "execution_count": 7,
   "metadata": {},
   "outputs": [],
   "source": [
    "train_dfs = []\n",
    "test_dfs = []\n",
    "normal_dfs = []\n",
    "for name in filenames :\n",
    "    if name.find('train_') > -1:\n",
    "        train_df = pd.read_csv(dataset_folder + name, header=None)\n",
    "        train_dfs.append(train_df)\n",
    "    if name.find('test_') > -1:\n",
    "        test_df = pd.read_csv(dataset_folder + name, header=None)\n",
    "        test_dfs.append(test_df)\n",
    "    if name.find('_NSRDB_') > -1:\n",
    "        normal_df = pd.read_csv(dataset_folder + name, header=None)\n",
    "        normal_dfs.append(normal_df)"
   ]
  },
  {
   "cell_type": "code",
   "execution_count": 8,
   "metadata": {},
   "outputs": [],
   "source": [
    "train_df_all = pd.concat(train_dfs, ignore_index=True)\n",
    "test_df_all = pd.concat(test_dfs, ignore_index=True)\n",
    "normal_df_all = pd.concat(normal_dfs, ignore_index=True)"
   ]
  },
  {
   "cell_type": "code",
   "execution_count": 9,
   "metadata": {},
   "outputs": [
    {
     "name": "stdout",
     "output_type": "stream",
     "text": [
      "<class 'pandas.core.frame.DataFrame'>\n",
      "RangeIndex: 33060 entries, 0 to 33059\n",
      "Columns: 301 entries, 0 to 300\n",
      "dtypes: float64(300), int64(1)\n",
      "memory usage: 75.9 MB\n"
     ]
    }
   ],
   "source": [
    "train_df_all.info()"
   ]
  },
  {
   "cell_type": "code",
   "execution_count": 10,
   "metadata": {},
   "outputs": [
    {
     "name": "stdout",
     "output_type": "stream",
     "text": [
      "<class 'pandas.core.frame.DataFrame'>\n",
      "RangeIndex: 15167 entries, 0 to 15166\n",
      "Columns: 301 entries, 0 to 300\n",
      "dtypes: float64(301)\n",
      "memory usage: 34.8 MB\n"
     ]
    }
   ],
   "source": [
    "test_df_all.info()"
   ]
  },
  {
   "cell_type": "code",
   "execution_count": 11,
   "metadata": {},
   "outputs": [
    {
     "name": "stdout",
     "output_type": "stream",
     "text": [
      "<class 'pandas.core.frame.DataFrame'>\n",
      "RangeIndex: 39118 entries, 0 to 39117\n",
      "Columns: 301 entries, 0 to 300\n",
      "dtypes: float64(300), object(1)\n",
      "memory usage: 89.8+ MB\n"
     ]
    }
   ],
   "source": [
    "normal_df_all.info()"
   ]
  },
  {
   "cell_type": "markdown",
   "metadata": {},
   "source": [
    "### Remove Normal Sample from AFDB (train & test)"
   ]
  },
  {
   "cell_type": "code",
   "execution_count": 18,
   "metadata": {},
   "outputs": [],
   "source": [
    "train_df_AF = train_df_all[train_df_all[300] == 0]"
   ]
  },
  {
   "cell_type": "code",
   "execution_count": 19,
   "metadata": {},
   "outputs": [],
   "source": [
    "test_df_AF = test_df_all[test_df_all[300] == 0]"
   ]
  },
  {
   "cell_type": "markdown",
   "metadata": {},
   "source": [
    "### Concate Dataset"
   ]
  },
  {
   "cell_type": "code",
   "execution_count": 21,
   "metadata": {},
   "outputs": [],
   "source": [
    "normal_df_all[300] = 1"
   ]
  },
  {
   "cell_type": "code",
   "execution_count": 25,
   "metadata": {},
   "outputs": [],
   "source": [
    "df_AF_N = pd.concat([train_df_AF, test_df_AF, normal_df_all])"
   ]
  },
  {
   "cell_type": "markdown",
   "metadata": {},
   "source": [
    "### Balancing Dataset (After Merging with NSRDB)"
   ]
  },
  {
   "cell_type": "code",
   "execution_count": 26,
   "metadata": {},
   "outputs": [
    {
     "name": "stdout",
     "output_type": "stream",
     "text": [
      "1    39118\n",
      "0    22914\n",
      "Name: 300, dtype: int64\n"
     ]
    }
   ],
   "source": [
    "df_AF_N[300]=df_AF_N[300].astype(int)\n",
    "equilibre=df_AF_N[300].value_counts()\n",
    "\n",
    "print(equilibre)"
   ]
  },
  {
   "cell_type": "code",
   "execution_count": 29,
   "metadata": {},
   "outputs": [],
   "source": [
    "# sampling and resampling dataset\n",
    "\n",
    "from sklearn.utils import resample\n",
    "n_samples = 30000 \n",
    "random_states = [123, 124]\n",
    "\n",
    "dfs = []\n",
    "\n",
    "for i in range(len(equilibre)):\n",
    "    dfs.append(df_AF_N[df_AF_N[300]==i])\n",
    "    dfs[i]=resample(dfs[i],replace=True,n_samples=n_samples,random_state=random_states[i])\n",
    "\n",
    "df_AF_N_balanced =pd.concat(dfs)"
   ]
  },
  {
   "cell_type": "code",
   "execution_count": 30,
   "metadata": {},
   "outputs": [
    {
     "name": "stdout",
     "output_type": "stream",
     "text": [
      "1    30000\n",
      "0    30000\n",
      "Name: 300, dtype: int64\n"
     ]
    }
   ],
   "source": [
    "df_AF_N_balanced[300]=df_AF_N_balanced[300].astype(int)\n",
    "equilibre=df_AF_N_balanced[300].value_counts()\n",
    "\n",
    "print(equilibre)"
   ]
  },
  {
   "cell_type": "markdown",
   "metadata": {},
   "source": [
    "### Split Dataset"
   ]
  },
  {
   "cell_type": "code",
   "execution_count": 33,
   "metadata": {},
   "outputs": [],
   "source": [
    "from sklearn.model_selection import train_test_split"
   ]
  },
  {
   "cell_type": "code",
   "execution_count": 31,
   "metadata": {},
   "outputs": [],
   "source": [
    "y = df_AF_N_balanced.iloc[:, 300].values\n",
    "X = df_AF_N_balanced.iloc[:, :300].values"
   ]
  },
  {
   "cell_type": "code",
   "execution_count": 34,
   "metadata": {},
   "outputs": [],
   "source": [
    "X_train, X_test, y_train, y_test = train_test_split(\n",
    "                                    X, y, test_size=0.15, random_state=42)"
   ]
  },
  {
   "cell_type": "code",
   "execution_count": 51,
   "metadata": {},
   "outputs": [
    {
     "data": {
      "text/plain": [
       "((51000, 300), (9000, 300), (51000,), (9000,))"
      ]
     },
     "execution_count": 51,
     "metadata": {},
     "output_type": "execute_result"
    }
   ],
   "source": [
    "X_train.shape, X_test.shape, y_train.shape, y_test.shape"
   ]
  },
  {
   "cell_type": "markdown",
   "metadata": {},
   "source": [
    "### Save Dataset"
   ]
  },
  {
   "cell_type": "code",
   "execution_count": 53,
   "metadata": {},
   "outputs": [],
   "source": [
    "train_df_all = pd.DataFrame(np.hstack((X_train, np.expand_dims(y_train, 1))))"
   ]
  },
  {
   "cell_type": "code",
   "execution_count": 54,
   "metadata": {},
   "outputs": [],
   "source": [
    "test_df_all = pd.DataFrame(np.hstack((X_test, np.expand_dims(y_test, 1))))"
   ]
  },
  {
   "cell_type": "code",
   "execution_count": 55,
   "metadata": {},
   "outputs": [],
   "source": [
    "train_df_all.to_csv(dataset_folder + \"train_all-v2.csv\", index=None, header=None)"
   ]
  },
  {
   "cell_type": "code",
   "execution_count": 56,
   "metadata": {},
   "outputs": [],
   "source": [
    "test_df_all.to_csv(dataset_folder + \"test_all-v2.csv\", index=None, header=None)"
   ]
  },
  {
   "cell_type": "code",
   "execution_count": null,
   "metadata": {},
   "outputs": [],
   "source": []
  }
 ],
 "metadata": {
  "kernelspec": {
   "display_name": "Python [conda env:GPU_ENV]",
   "language": "python",
   "name": "conda-env-GPU_ENV-py"
  },
  "language_info": {
   "codemirror_mode": {
    "name": "ipython",
    "version": 3
   },
   "file_extension": ".py",
   "mimetype": "text/x-python",
   "name": "python",
   "nbconvert_exporter": "python",
   "pygments_lexer": "ipython3",
   "version": "3.6.12"
  }
 },
 "nbformat": 4,
 "nbformat_minor": 4
}
