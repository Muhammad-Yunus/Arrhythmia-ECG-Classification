{
 "cells": [
  {
   "cell_type": "markdown",
   "metadata": {},
   "source": [
    "# Load dataset"
   ]
  },
  {
   "cell_type": "code",
   "execution_count": 1,
   "metadata": {},
   "outputs": [
    {
     "name": "stderr",
     "output_type": "stream",
     "text": [
      "C:\\Users\\yunus\\Anaconda3\\envs\\GPU_ENV\\lib\\site-packages\\ipykernel\\parentpoller.py:116: UserWarning: Parent poll failed.  If the frontend dies,\n",
      "                the kernel may be left running.  Please let us know\n",
      "                about your system (bitness, Python, etc.) at\n",
      "                ipython-dev@scipy.org\n",
      "  ipython-dev@scipy.org\"\"\")\n"
     ]
    }
   ],
   "source": [
    "labels = ['AF', 'N']"
   ]
  },
  {
   "cell_type": "code",
   "execution_count": 2,
   "metadata": {},
   "outputs": [],
   "source": [
    "import os\n",
    "# disable GPU\n",
    "#os.environ['CUDA_VISIBLE_DEVICES'] = '-1'\n",
    "\n",
    "dataset_folder = 'dataset/'\n",
    "filenames = []\n",
    "for filename in os.listdir(dataset_folder):\n",
    "    if filename.find(\"_all\") > -1 :\n",
    "        filenames.append(filename)"
   ]
  },
  {
   "cell_type": "code",
   "execution_count": 3,
   "metadata": {},
   "outputs": [
    {
     "data": {
      "text/plain": [
       "['test_all.csv',\n",
       " 'test_all_lms.csv',\n",
       " 'test_all_nlms.csv',\n",
       " 'test_all_noised.csv',\n",
       " 'test_all_rls.csv',\n",
       " 'train_all.csv',\n",
       " 'train_all_lms.csv',\n",
       " 'train_all_nlms.csv',\n",
       " 'train_all_noised.csv',\n",
       " 'train_all_rls.csv']"
      ]
     },
     "execution_count": 3,
     "metadata": {},
     "output_type": "execute_result"
    }
   ],
   "source": [
    "filenames"
   ]
  },
  {
   "cell_type": "code",
   "execution_count": 4,
   "metadata": {},
   "outputs": [
    {
     "name": "stderr",
     "output_type": "stream",
     "text": [
      "Using TensorFlow backend.\n"
     ]
    }
   ],
   "source": [
    "import pandas as pd\n",
    "import numpy as np \n",
    "import matplotlib.pyplot as plt\n",
    "\n",
    "from sklearn.model_selection import train_test_split\n",
    "from sklearn.metrics import classification_report\n",
    "from sklearn.metrics import f1_score\n",
    "from sklearn.metrics import confusion_matrix\n",
    "from sklearn.utils import class_weight\n",
    "\n",
    "from keras.utils.np_utils import to_categorical"
   ]
  },
  {
   "cell_type": "code",
   "execution_count": 5,
   "metadata": {},
   "outputs": [],
   "source": [
    "train_lms_df = pd.read_csv(dataset_folder + \"train_all_lms.csv\", header=None)\n",
    "train_nlms_df = pd.read_csv(dataset_folder + \"train_all_nlms.csv\", header=None)\n",
    "train_rls_df = pd.read_csv(dataset_folder + \"train_all_rls.csv\", header=None)\n",
    "train_ori_df = pd.read_csv(dataset_folder + \"train_all.csv\", header=None)\n",
    "train_noised_df = pd.read_csv(dataset_folder + \"train_all_noised.csv\", header=None)\n",
    "\n",
    "test_lms_df = pd.read_csv(dataset_folder + \"test_all_lms.csv\", header=None)\n",
    "test_nlms_df = pd.read_csv(dataset_folder + \"test_all_nlms.csv\", header=None)\n",
    "test_rls_df = pd.read_csv(dataset_folder + \"test_all_rls.csv\", header=None)\n",
    "test_ori_df = pd.read_csv(dataset_folder + \"test_all.csv\", header=None)\n",
    "test_noised_df = pd.read_csv(dataset_folder + \"test_all_noised.csv\", header=None)"
   ]
  },
  {
   "cell_type": "code",
   "execution_count": 6,
   "metadata": {},
   "outputs": [],
   "source": [
    "denoised = 'noised' # isi dengan 'lms', 'nlms', 'rls' untuk memilih sumber dataset dari hasil denoising tsb.\n",
    "                  # isi dengan 'ori' jika ingin menggunakan original dataset\n",
    "                  # isi dengan 'noised' jika ingin menggunakan noised dataset\n",
    "\n",
    "if denoised == 'lms':\n",
    "    train_df = train_lms_df\n",
    "    test_df = test_lms_df\n",
    "elif denoised == 'nlms':\n",
    "    train_df = train_nlms_df\n",
    "    test_df = test_nlms_df\n",
    "elif denoised == 'rls':\n",
    "    train_df = train_rls_df\n",
    "    test_df = test_rls_df\n",
    "elif denoised == 'ori':\n",
    "    train_df = train_ori_df\n",
    "    test_df = test_ori_df\n",
    "elif denoised == 'noised':\n",
    "    train_df = train_noised_df\n",
    "    test_df = test_noised_df\n"
   ]
  },
  {
   "cell_type": "markdown",
   "metadata": {},
   "source": [
    "## Dataset AFDB\n",
    "Dataset AFDB terdiri dari 300 kolom, dimana kolom ke 300 merupakan katerori/class."
   ]
  },
  {
   "cell_type": "code",
   "execution_count": 7,
   "metadata": {},
   "outputs": [
    {
     "data": {
      "text/html": [
       "<div>\n",
       "<style scoped>\n",
       "    .dataframe tbody tr th:only-of-type {\n",
       "        vertical-align: middle;\n",
       "    }\n",
       "\n",
       "    .dataframe tbody tr th {\n",
       "        vertical-align: top;\n",
       "    }\n",
       "\n",
       "    .dataframe thead th {\n",
       "        text-align: right;\n",
       "    }\n",
       "</style>\n",
       "<table border=\"1\" class=\"dataframe\">\n",
       "  <thead>\n",
       "    <tr style=\"text-align: right;\">\n",
       "      <th></th>\n",
       "      <th>0</th>\n",
       "      <th>1</th>\n",
       "      <th>2</th>\n",
       "      <th>3</th>\n",
       "      <th>4</th>\n",
       "      <th>5</th>\n",
       "      <th>6</th>\n",
       "      <th>7</th>\n",
       "      <th>8</th>\n",
       "      <th>9</th>\n",
       "      <th>...</th>\n",
       "      <th>291</th>\n",
       "      <th>292</th>\n",
       "      <th>293</th>\n",
       "      <th>294</th>\n",
       "      <th>295</th>\n",
       "      <th>296</th>\n",
       "      <th>297</th>\n",
       "      <th>298</th>\n",
       "      <th>299</th>\n",
       "      <th>300</th>\n",
       "    </tr>\n",
       "  </thead>\n",
       "  <tbody>\n",
       "    <tr>\n",
       "      <th>0</th>\n",
       "      <td>0.841315</td>\n",
       "      <td>0.208993</td>\n",
       "      <td>-0.401075</td>\n",
       "      <td>-0.674432</td>\n",
       "      <td>-0.640010</td>\n",
       "      <td>-0.551361</td>\n",
       "      <td>-0.430947</td>\n",
       "      <td>-0.326886</td>\n",
       "      <td>-0.296921</td>\n",
       "      <td>-0.296099</td>\n",
       "      <td>...</td>\n",
       "      <td>0.0</td>\n",
       "      <td>0.0</td>\n",
       "      <td>0.0</td>\n",
       "      <td>0.0</td>\n",
       "      <td>0.0</td>\n",
       "      <td>0.0</td>\n",
       "      <td>0.0</td>\n",
       "      <td>0.0</td>\n",
       "      <td>0.0</td>\n",
       "      <td>0.0</td>\n",
       "    </tr>\n",
       "    <tr>\n",
       "      <th>1</th>\n",
       "      <td>1.008886</td>\n",
       "      <td>0.785713</td>\n",
       "      <td>0.198985</td>\n",
       "      <td>-0.660673</td>\n",
       "      <td>-0.759316</td>\n",
       "      <td>-0.707744</td>\n",
       "      <td>-0.632958</td>\n",
       "      <td>-0.492613</td>\n",
       "      <td>-0.262480</td>\n",
       "      <td>-0.057392</td>\n",
       "      <td>...</td>\n",
       "      <td>0.0</td>\n",
       "      <td>0.0</td>\n",
       "      <td>0.0</td>\n",
       "      <td>0.0</td>\n",
       "      <td>0.0</td>\n",
       "      <td>0.0</td>\n",
       "      <td>0.0</td>\n",
       "      <td>0.0</td>\n",
       "      <td>0.0</td>\n",
       "      <td>0.0</td>\n",
       "    </tr>\n",
       "    <tr>\n",
       "      <th>2</th>\n",
       "      <td>0.680934</td>\n",
       "      <td>0.492878</td>\n",
       "      <td>-0.049686</td>\n",
       "      <td>-0.632399</td>\n",
       "      <td>-0.892528</td>\n",
       "      <td>-0.851296</td>\n",
       "      <td>-0.641743</td>\n",
       "      <td>-0.387790</td>\n",
       "      <td>-0.252640</td>\n",
       "      <td>-0.112257</td>\n",
       "      <td>...</td>\n",
       "      <td>0.0</td>\n",
       "      <td>0.0</td>\n",
       "      <td>0.0</td>\n",
       "      <td>0.0</td>\n",
       "      <td>0.0</td>\n",
       "      <td>0.0</td>\n",
       "      <td>0.0</td>\n",
       "      <td>0.0</td>\n",
       "      <td>0.0</td>\n",
       "      <td>0.0</td>\n",
       "    </tr>\n",
       "    <tr>\n",
       "      <th>3</th>\n",
       "      <td>0.473396</td>\n",
       "      <td>0.182734</td>\n",
       "      <td>-0.407389</td>\n",
       "      <td>-0.708779</td>\n",
       "      <td>-0.511152</td>\n",
       "      <td>-0.340307</td>\n",
       "      <td>-0.156781</td>\n",
       "      <td>-0.138001</td>\n",
       "      <td>-0.139342</td>\n",
       "      <td>-0.141055</td>\n",
       "      <td>...</td>\n",
       "      <td>0.0</td>\n",
       "      <td>0.0</td>\n",
       "      <td>0.0</td>\n",
       "      <td>0.0</td>\n",
       "      <td>0.0</td>\n",
       "      <td>0.0</td>\n",
       "      <td>0.0</td>\n",
       "      <td>0.0</td>\n",
       "      <td>0.0</td>\n",
       "      <td>0.0</td>\n",
       "    </tr>\n",
       "    <tr>\n",
       "      <th>4</th>\n",
       "      <td>0.791194</td>\n",
       "      <td>0.641438</td>\n",
       "      <td>0.162732</td>\n",
       "      <td>-0.411652</td>\n",
       "      <td>-0.848441</td>\n",
       "      <td>-0.480566</td>\n",
       "      <td>-0.284033</td>\n",
       "      <td>-0.147077</td>\n",
       "      <td>-0.043376</td>\n",
       "      <td>-0.015622</td>\n",
       "      <td>...</td>\n",
       "      <td>0.0</td>\n",
       "      <td>0.0</td>\n",
       "      <td>0.0</td>\n",
       "      <td>0.0</td>\n",
       "      <td>0.0</td>\n",
       "      <td>0.0</td>\n",
       "      <td>0.0</td>\n",
       "      <td>0.0</td>\n",
       "      <td>0.0</td>\n",
       "      <td>0.0</td>\n",
       "    </tr>\n",
       "  </tbody>\n",
       "</table>\n",
       "<p>5 rows × 301 columns</p>\n",
       "</div>"
      ],
      "text/plain": [
       "        0         1         2         3         4         5         6    \\\n",
       "0  0.841315  0.208993 -0.401075 -0.674432 -0.640010 -0.551361 -0.430947   \n",
       "1  1.008886  0.785713  0.198985 -0.660673 -0.759316 -0.707744 -0.632958   \n",
       "2  0.680934  0.492878 -0.049686 -0.632399 -0.892528 -0.851296 -0.641743   \n",
       "3  0.473396  0.182734 -0.407389 -0.708779 -0.511152 -0.340307 -0.156781   \n",
       "4  0.791194  0.641438  0.162732 -0.411652 -0.848441 -0.480566 -0.284033   \n",
       "\n",
       "        7         8         9    ...  291  292  293  294  295  296  297  298  \\\n",
       "0 -0.326886 -0.296921 -0.296099  ...  0.0  0.0  0.0  0.0  0.0  0.0  0.0  0.0   \n",
       "1 -0.492613 -0.262480 -0.057392  ...  0.0  0.0  0.0  0.0  0.0  0.0  0.0  0.0   \n",
       "2 -0.387790 -0.252640 -0.112257  ...  0.0  0.0  0.0  0.0  0.0  0.0  0.0  0.0   \n",
       "3 -0.138001 -0.139342 -0.141055  ...  0.0  0.0  0.0  0.0  0.0  0.0  0.0  0.0   \n",
       "4 -0.147077 -0.043376 -0.015622  ...  0.0  0.0  0.0  0.0  0.0  0.0  0.0  0.0   \n",
       "\n",
       "   299  300  \n",
       "0  0.0  0.0  \n",
       "1  0.0  0.0  \n",
       "2  0.0  0.0  \n",
       "3  0.0  0.0  \n",
       "4  0.0  0.0  \n",
       "\n",
       "[5 rows x 301 columns]"
      ]
     },
     "execution_count": 7,
     "metadata": {},
     "output_type": "execute_result"
    }
   ],
   "source": [
    "train_lms_df.head()"
   ]
  },
  {
   "cell_type": "code",
   "execution_count": 8,
   "metadata": {},
   "outputs": [
    {
     "name": "stdout",
     "output_type": "stream",
     "text": [
      "<class 'pandas.core.frame.DataFrame'>\n",
      "RangeIndex: 33060 entries, 0 to 33059\n",
      "Columns: 301 entries, 0 to 300\n",
      "dtypes: float64(301)\n",
      "memory usage: 75.9 MB\n"
     ]
    }
   ],
   "source": [
    "train_lms_df.info()"
   ]
  },
  {
   "cell_type": "code",
   "execution_count": 9,
   "metadata": {},
   "outputs": [
    {
     "name": "stdout",
     "output_type": "stream",
     "text": [
      "<class 'pandas.core.frame.DataFrame'>\n",
      "RangeIndex: 12929 entries, 0 to 12928\n",
      "Columns: 301 entries, 0 to 300\n",
      "dtypes: float64(301)\n",
      "memory usage: 29.7 MB\n"
     ]
    }
   ],
   "source": [
    "test_lms_df.info()"
   ]
  },
  {
   "cell_type": "markdown",
   "metadata": {},
   "source": [
    "## Dataset Augmentation"
   ]
  },
  {
   "cell_type": "code",
   "execution_count": 10,
   "metadata": {},
   "outputs": [],
   "source": [
    "ecg_df = pd.concat([train_df, test_df])"
   ]
  },
  {
   "cell_type": "code",
   "execution_count": 11,
   "metadata": {},
   "outputs": [
    {
     "name": "stdout",
     "output_type": "stream",
     "text": [
      "1    23088\n",
      "0    22901\n",
      "Name: 300, dtype: int64\n"
     ]
    }
   ],
   "source": [
    "ecg_df[300]=ecg_df[300].astype(int)\n",
    "equilibre=ecg_df[300].value_counts()\n",
    "\n",
    "print(equilibre)"
   ]
  },
  {
   "cell_type": "code",
   "execution_count": 12,
   "metadata": {},
   "outputs": [],
   "source": [
    "# sampling and resampling dataset\n",
    "\n",
    "from sklearn.utils import resample\n",
    "n_samples = 30000 \n",
    "random_states = [123, 124]\n",
    "\n",
    "dfs = []\n",
    "\n",
    "for i in range(len(equilibre)):\n",
    "    dfs.append(ecg_df[ecg_df[300]==i])\n",
    "    dfs[i]=resample(dfs[i],replace=True,n_samples=n_samples,random_state=random_states[i])\n",
    "\n",
    "ecg_df=pd.concat(dfs)"
   ]
  },
  {
   "cell_type": "code",
   "execution_count": 13,
   "metadata": {},
   "outputs": [
    {
     "name": "stdout",
     "output_type": "stream",
     "text": [
      "1    30000\n",
      "0    30000\n",
      "Name: 300, dtype: int64\n"
     ]
    }
   ],
   "source": [
    "ecg_df[300]=ecg_df[300].astype(int)\n",
    "equilibre=ecg_df[300].value_counts()\n",
    "\n",
    "print(equilibre)"
   ]
  },
  {
   "cell_type": "markdown",
   "metadata": {},
   "source": [
    "## Split dataset"
   ]
  },
  {
   "cell_type": "code",
   "execution_count": 14,
   "metadata": {},
   "outputs": [],
   "source": [
    "target_train = ecg_df[300]\n",
    "y = to_categorical(target_train)\n",
    "\n",
    "X = ecg_df.iloc[:,:300].values"
   ]
  },
  {
   "cell_type": "code",
   "execution_count": 15,
   "metadata": {},
   "outputs": [],
   "source": [
    "X_train, X_test, y_train, y_test = train_test_split(\n",
    "                                    X, y, test_size=0.15, random_state=42)"
   ]
  },
  {
   "cell_type": "code",
   "execution_count": 16,
   "metadata": {},
   "outputs": [
    {
     "data": {
      "text/plain": [
       "((51000, 300), (9000, 300), (51000, 2), (9000, 2))"
      ]
     },
     "execution_count": 16,
     "metadata": {},
     "output_type": "execute_result"
    }
   ],
   "source": [
    "X_train.shape, X_test.shape, y_train.shape, y_test.shape"
   ]
  },
  {
   "cell_type": "markdown",
   "metadata": {},
   "source": [
    "## Building Convolutional Neural Network\n",
    "\n",
    "- Import Keras library"
   ]
  },
  {
   "cell_type": "code",
   "execution_count": 17,
   "metadata": {},
   "outputs": [],
   "source": [
    "\n",
    "from keras.models import Sequential\n",
    "from keras.layers import Dense, Conv1D, MaxPool1D, Flatten, Dropout\n",
    "from keras.layers import Input\n",
    "from keras.models import Model\n",
    "from keras.layers.normalization import BatchNormalization\n",
    "from keras.callbacks import EarlyStopping, ModelCheckpoint\n",
    "\n",
    "import keras"
   ]
  },
  {
   "cell_type": "markdown",
   "metadata": {},
   "source": [
    "- Buat CNN Model dengan aritektur network : \n",
    "`CONV-POOL-CONV-POOL-CONV-POOL-FC`\n",
    "- CONV : 1D Convolutional Layer\n",
    "- POOL : MAX Pooling Layer\n",
    "- FC   : Dense Layer + Activation"
   ]
  },
  {
   "cell_type": "code",
   "execution_count": 18,
   "metadata": {},
   "outputs": [],
   "source": [
    "def cnn_model(max_len):\n",
    "    \n",
    "    model = Sequential()\n",
    "    \n",
    "    model.add(Conv1D(filters=64,\n",
    "                     kernel_size=5,\n",
    "                     activation='relu',\n",
    "                     input_shape=(max_len, 1)))\n",
    "    model.add(BatchNormalization())\n",
    "    model.add(MaxPool1D(pool_size=2,\n",
    "                        strides=2,\n",
    "                        padding='same'))\n",
    "    \n",
    "    \n",
    "    model.add(Conv1D(filters=64,\n",
    "                     kernel_size=3,\n",
    "                     activation='relu'))\n",
    "    model.add(BatchNormalization())\n",
    "    model.add(MaxPool1D(pool_size=2,\n",
    "                        strides=2,\n",
    "                        padding='same'))\n",
    "    \n",
    "    \n",
    "    model.add(Conv1D(filters=64,\n",
    "                     kernel_size=3,\n",
    "                     activation='relu'))\n",
    "    model.add(BatchNormalization())\n",
    "    model.add(MaxPool1D(pool_size=2,\n",
    "                        strides=2,\n",
    "                        padding='same'))\n",
    "    \n",
    "    \n",
    "    # Fully Connected layer (FC)\n",
    "    model.add(Flatten())\n",
    "    model.add(Dropout(0.3))\n",
    "    model.add(Dense(128, \n",
    "                    activation='relu'))\n",
    "    model.add(Dense(32, \n",
    "                    activation='relu'))\n",
    "    model.add(Dense(2, \n",
    "                    activation='softmax'))\n",
    "              \n",
    "    model.summary()\n",
    "    model.compile(optimizer='adam', \n",
    "                  loss='categorical_crossentropy',\n",
    "                  metrics = ['accuracy'])\n",
    "\n",
    "    return model"
   ]
  },
  {
   "cell_type": "markdown",
   "metadata": {},
   "source": [
    "- sekarang kita akan melakukan proses training model dengan memanfaatkan `.fit()` pada model yang kita buat diatas.\n",
    "- selain itu kita gunakan juka teknik `EarlyStoping()` untuk menghentikan proses training jika terjadi divergensi pada validation data yang diakibatkan oleh overfitting. \n",
    "- pada `EarlyStoping()` kita gunakan parmeter `patience=8` yang artinya jika proses training untuk 8 epoch tidak terjadi peningkatan maka hentikan proses training."
   ]
  },
  {
   "cell_type": "code",
   "execution_count": 19,
   "metadata": {},
   "outputs": [],
   "source": [
    "def check_model(model_, x, y, x_val, y_val, epochs_, batch_size_):\n",
    "    callbacks = [EarlyStopping(monitor='val_loss', patience=8),\n",
    "                 ModelCheckpoint(filepath='best_model.h5', monitor='val_loss', save_best_only=True)]\n",
    "\n",
    "    hist = model_.fit(x, \n",
    "                      y,\n",
    "                      epochs=epochs_,\n",
    "                      callbacks=callbacks, \n",
    "                      batch_size=batch_size_,\n",
    "                      shuffle=True,\n",
    "                      validation_data=(x_val,y_val))\n",
    "    model_.load_weights('best_model.h5')\n",
    "    return hist "
   ]
  },
  {
   "cell_type": "markdown",
   "metadata": {},
   "source": [
    "### Train Model CNN"
   ]
  },
  {
   "cell_type": "markdown",
   "metadata": {},
   "source": [
    "- Prepare training set dan test set"
   ]
  },
  {
   "cell_type": "code",
   "execution_count": 20,
   "metadata": {},
   "outputs": [],
   "source": [
    "X_train = X_train.reshape(len(X_train), X_train.shape[1],1)\n",
    "X_test = X_test.reshape(len(X_test), X_test.shape[1],1)"
   ]
  },
  {
   "cell_type": "markdown",
   "metadata": {},
   "source": [
    "- jalankan proses training dengan `EPOCH` sebanyak 16 dan `BATCH_SIZE` sebesar 32"
   ]
  },
  {
   "cell_type": "code",
   "execution_count": null,
   "metadata": {},
   "outputs": [
    {
     "name": "stdout",
     "output_type": "stream",
     "text": [
      "_________________________________________________________________\n",
      "Layer (type)                 Output Shape              Param #   \n",
      "=================================================================\n",
      "conv1d_1 (Conv1D)            (None, 296, 64)           384       \n",
      "_________________________________________________________________\n",
      "batch_normalization_1 (Batch (None, 296, 64)           256       \n",
      "_________________________________________________________________\n",
      "max_pooling1d_1 (MaxPooling1 (None, 148, 64)           0         \n",
      "_________________________________________________________________\n",
      "conv1d_2 (Conv1D)            (None, 146, 64)           12352     \n",
      "_________________________________________________________________\n",
      "batch_normalization_2 (Batch (None, 146, 64)           256       \n",
      "_________________________________________________________________\n",
      "max_pooling1d_2 (MaxPooling1 (None, 73, 64)            0         \n",
      "_________________________________________________________________\n",
      "conv1d_3 (Conv1D)            (None, 71, 64)            12352     \n",
      "_________________________________________________________________\n",
      "batch_normalization_3 (Batch (None, 71, 64)            256       \n",
      "_________________________________________________________________\n",
      "max_pooling1d_3 (MaxPooling1 (None, 36, 64)            0         \n",
      "_________________________________________________________________\n",
      "flatten_1 (Flatten)          (None, 2304)              0         \n",
      "_________________________________________________________________\n",
      "dropout_1 (Dropout)          (None, 2304)              0         \n",
      "_________________________________________________________________\n",
      "dense_1 (Dense)              (None, 128)               295040    \n",
      "_________________________________________________________________\n",
      "dense_2 (Dense)              (None, 32)                4128      \n",
      "_________________________________________________________________\n",
      "dense_3 (Dense)              (None, 2)                 66        \n",
      "=================================================================\n",
      "Total params: 325,090\n",
      "Trainable params: 324,706\n",
      "Non-trainable params: 384\n",
      "_________________________________________________________________\n",
      "Train on 51000 samples, validate on 9000 samples\n",
      "Epoch 1/16\n",
      "51000/51000 [==============================] - 79s 2ms/step - loss: 0.2956 - acc: 0.8726 - val_loss: 0.2368 - val_acc: 0.9057\n",
      "Epoch 2/16\n",
      "51000/51000 [==============================] - 57s 1ms/step - loss: 0.1895 - acc: 0.9232 - val_loss: 0.1685 - val_acc: 0.9364\n",
      "Epoch 3/16\n",
      "41216/51000 [=======================>......] - ETA: 10s - loss: 0.1479 - acc: 0.9414"
     ]
    }
   ],
   "source": [
    "max_len = X_train.shape[1]  \n",
    "\n",
    "EPOCHS = 16\n",
    "BATCH_SIZE = 128\n",
    "\n",
    "model = cnn_model(max_len)\n",
    "history=check_model(model, X_train,y_train,X_test,y_test, EPOCHS, BATCH_SIZE)"
   ]
  },
  {
   "cell_type": "markdown",
   "metadata": {},
   "source": [
    "## Save model"
   ]
  },
  {
   "cell_type": "code",
   "execution_count": null,
   "metadata": {},
   "outputs": [],
   "source": [
    "model.save(\"CNN_Classification_model_%s.h5\" % denoised)"
   ]
  },
  {
   "cell_type": "markdown",
   "metadata": {},
   "source": [
    "# Evaluate Model\n",
    "\n",
    "- Plot Accuracy vs Epochs\n",
    "- Plot Loss vs Epochs\n",
    "- Plot Confusion Matrix"
   ]
  },
  {
   "cell_type": "code",
   "execution_count": null,
   "metadata": {},
   "outputs": [],
   "source": [
    "def evaluate_model(history, X_test, y_test):\n",
    "    \n",
    "    fig1, ax_acc = plt.subplots()\n",
    "    plt.plot(history.history['acc'])\n",
    "    plt.plot(history.history['val_acc'])\n",
    "    plt.xlabel('Epoch')\n",
    "    plt.ylabel('Accuracy')\n",
    "    plt.title('Model - Accuracy')\n",
    "    plt.legend(['Training', 'Validation'], loc='lower right')\n",
    "    plt.grid()\n",
    "    plt.show()\n",
    "    \n",
    "    fig2, ax_loss = plt.subplots()\n",
    "    plt.plot(history.history['loss'])\n",
    "    plt.plot(history.history['val_loss'])\n",
    "    plt.xlabel('Epoch')\n",
    "    plt.ylabel('Loss')\n",
    "    plt.title('Model - Loss')\n",
    "    plt.legend(['Training', 'Validation'], loc='upper right')\n",
    "    plt.grid()\n",
    "    plt.show()\n",
    "\n",
    "evaluate_model(history, X_test, y_test)    "
   ]
  },
  {
   "cell_type": "markdown",
   "metadata": {},
   "source": [
    "- Dari hasil diatas kita bisa melihat jika akurasi training set = 0.99, sedangkan untuk akurasi validation set = 0.97\n",
    "- Untuk plot loss training set = 0.01 sedangkan untuk loss validation set = 0.13"
   ]
  },
  {
   "cell_type": "code",
   "execution_count": null,
   "metadata": {},
   "outputs": [],
   "source": [
    "import itertools\n",
    "def plot_confusion_matrix(cm, classes,\n",
    "                          normalize=False,\n",
    "                          title='Confusion matrix',\n",
    "                          cmap=plt.cm.Blues):\n",
    "    if normalize:\n",
    "        cm = cm.astype('float') / cm.sum(axis=1)[:, np.newaxis]\n",
    "\n",
    "    plt.figure(figsize=(5, 5))\n",
    "    \n",
    "    plt.imshow(cm, interpolation='nearest', cmap=cmap)\n",
    "    plt.title(title)\n",
    "    plt.colorbar()\n",
    "    tick_marks = np.arange(len(classes))\n",
    "    plt.xticks(tick_marks, classes, rotation=45)\n",
    "    plt.yticks(tick_marks, classes)\n",
    "\n",
    "    fmt = '.2f' if normalize else 'd'\n",
    "    thresh = cm.max() / 2.\n",
    "    for i, j in itertools.product(range(cm.shape[0]), range(cm.shape[1])):\n",
    "        plt.text(j, i, format(cm[i, j], fmt),\n",
    "                 horizontalalignment=\"center\",\n",
    "                 color=\"white\" if cm[i, j] > thresh else \"black\")\n",
    "\n",
    "    plt.tight_layout()\n",
    "    plt.ylabel('True label')\n",
    "    plt.xlabel('Predicted label')\n",
    "    plt.show()"
   ]
  },
  {
   "cell_type": "code",
   "execution_count": null,
   "metadata": {},
   "outputs": [],
   "source": [
    "# predict test data\n",
    "y_pred=model.predict(X_test)\n",
    "\n",
    "\n",
    "# Compute confusion matrix\n",
    "cnf_matrix = confusion_matrix(y_test.argmax(axis=1), y_pred.argmax(axis=1))\n",
    "np.set_printoptions(precision=2)\n",
    "\n",
    "\n",
    "# Plot non-normalized confusion matrix\n",
    "plot_confusion_matrix(cnf_matrix, classes=['AF', 'N'],normalize=True,\n",
    "                      title='Confusion matrix, with normalization')\n"
   ]
  },
  {
   "cell_type": "markdown",
   "metadata": {},
   "source": [
    "- dari hasil plot confusion matrix, dapat dilihat tiap kelas memiliki banyak TRUE POSITIVE predicted data\n",
    "- semakin gelap kebiruan menunjukan banyaknya hasil predicted label untuk true label tersebut"
   ]
  },
  {
   "cell_type": "code",
   "execution_count": null,
   "metadata": {},
   "outputs": [],
   "source": [
    "print(classification_report(y_test.argmax(axis=1), \n",
    "                            y_pred.argmax(axis=1), \n",
    "                            target_names=['AF', 'N']))"
   ]
  },
  {
   "cell_type": "markdown",
   "metadata": {},
   "source": [
    "- Jika kita lihat, nilai report untuk seluruh klas juga bagus, \n",
    "- Nilai recall dan precission juga tinggi, menunjukan model mampu memprediksi data dengan baik untuk seluruh data pada class tersebut "
   ]
  },
  {
   "cell_type": "code",
   "execution_count": null,
   "metadata": {},
   "outputs": [],
   "source": []
  }
 ],
 "metadata": {
  "kernelspec": {
   "display_name": "Python [conda env:GPU_ENV]",
   "language": "python",
   "name": "conda-env-GPU_ENV-py"
  },
  "language_info": {
   "codemirror_mode": {
    "name": "ipython",
    "version": 3
   },
   "file_extension": ".py",
   "mimetype": "text/x-python",
   "name": "python",
   "nbconvert_exporter": "python",
   "pygments_lexer": "ipython3",
   "version": "3.6.12"
  }
 },
 "nbformat": 4,
 "nbformat_minor": 4
}
