{
 "cells": [
  {
   "cell_type": "markdown",
   "metadata": {},
   "source": [
    "# Load dataset\n",
    "\n",
    "**record name , balanced sample**\n",
    "- record 04015 -> 400\n",
    "- record 04043 -> 1000\n",
    "- record 04048 -> 900\n",
    "- record 04908 -> tidak bisa di split karena hanya AF\n",
    "- record 04936 -> 2000\n",
    "- record 05091 -> 1000, class 0 29\n",
    "- record 05121 -> 1000, class 0, 150\n",
    "- record 05261 -> 1000, class 0 105\n",
    "- record 06426 -> 2000\n",
    "- record 06453 -> 300\n",
    "- record 06995 -> 900\n",
    "- record 07910 -> 320\n",
    "- record 08215 -> 400\n",
    "- record 08219 -> 5000\n",
    "- record 08378 -> 220\n",
    "- record 08455 -> 90"
   ]
  },
  {
   "cell_type": "code",
   "execution_count": 1,
   "metadata": {},
   "outputs": [],
   "source": [
    "record = \"08455\"\n",
    "n_samples = 90 "
   ]
  },
  {
   "cell_type": "code",
   "execution_count": 2,
   "metadata": {},
   "outputs": [],
   "source": [
    "import os\n",
    "\n",
    "dataset_folder = 'dataset/'\n",
    "filenames = []\n",
    "for filename in os.listdir(dataset_folder):\n",
    "    if filename.find('sequence') > -1 :\n",
    "        filenames.append(filename)"
   ]
  },
  {
   "cell_type": "code",
   "execution_count": 3,
   "metadata": {},
   "outputs": [
    {
     "data": {
      "text/plain": [
       "['AFDB_04015_sequence_300_pt.csv',\n",
       " 'AFDB_04043_sequence_300_pt.csv',\n",
       " 'AFDB_04048_sequence_300_pt.csv',\n",
       " 'AFDB_04126_sequence_300_pt.csv',\n",
       " 'AFDB_04908_sequence_300_pt.csv',\n",
       " 'AFDB_04936_sequence_300_pt.csv',\n",
       " 'AFDB_05091_sequence_300_pt.csv',\n",
       " 'AFDB_05121_sequence_300_pt.csv',\n",
       " 'AFDB_05261_sequence_300_pt.csv',\n",
       " 'AFDB_06426_sequence_300_pt.csv',\n",
       " 'AFDB_06453_sequence_300_pt.csv',\n",
       " 'AFDB_06995_sequence_300_pt.csv',\n",
       " 'AFDB_07910_sequence_300_pt.csv',\n",
       " 'AFDB_08215_sequence_300_pt.csv',\n",
       " 'AFDB_08219_sequence_300_pt.csv',\n",
       " 'AFDB_08378_sequence_300_pt.csv',\n",
       " 'AFDB_08455_sequence_300_pt.csv']"
      ]
     },
     "execution_count": 3,
     "metadata": {},
     "output_type": "execute_result"
    }
   ],
   "source": [
    "filenames"
   ]
  },
  {
   "cell_type": "code",
   "execution_count": 4,
   "metadata": {},
   "outputs": [],
   "source": [
    "import pandas as pd\n",
    "import numpy as np \n",
    "import matplotlib.pyplot as plt\n",
    "\n",
    "from sklearn.preprocessing import LabelEncoder\n",
    "from sklearn.model_selection import train_test_split"
   ]
  },
  {
   "cell_type": "markdown",
   "metadata": {},
   "source": [
    "- Split Dataset"
   ]
  },
  {
   "cell_type": "code",
   "execution_count": 5,
   "metadata": {},
   "outputs": [],
   "source": [
    "ecg_df = pd.read_csv(dataset_folder + 'AFDB_%s_sequence_300_pt.csv' % record, header=None)"
   ]
  },
  {
   "cell_type": "code",
   "execution_count": 6,
   "metadata": {},
   "outputs": [
    {
     "data": {
      "text/html": [
       "<div>\n",
       "<style scoped>\n",
       "    .dataframe tbody tr th:only-of-type {\n",
       "        vertical-align: middle;\n",
       "    }\n",
       "\n",
       "    .dataframe tbody tr th {\n",
       "        vertical-align: top;\n",
       "    }\n",
       "\n",
       "    .dataframe thead th {\n",
       "        text-align: right;\n",
       "    }\n",
       "</style>\n",
       "<table border=\"1\" class=\"dataframe\">\n",
       "  <thead>\n",
       "    <tr style=\"text-align: right;\">\n",
       "      <th></th>\n",
       "      <th>0</th>\n",
       "      <th>1</th>\n",
       "      <th>2</th>\n",
       "      <th>3</th>\n",
       "      <th>4</th>\n",
       "      <th>5</th>\n",
       "      <th>6</th>\n",
       "      <th>7</th>\n",
       "      <th>8</th>\n",
       "      <th>9</th>\n",
       "      <th>...</th>\n",
       "      <th>291</th>\n",
       "      <th>292</th>\n",
       "      <th>293</th>\n",
       "      <th>294</th>\n",
       "      <th>295</th>\n",
       "      <th>296</th>\n",
       "      <th>297</th>\n",
       "      <th>298</th>\n",
       "      <th>299</th>\n",
       "      <th>300</th>\n",
       "    </tr>\n",
       "  </thead>\n",
       "  <tbody>\n",
       "    <tr>\n",
       "      <th>0</th>\n",
       "      <td>-0.022063</td>\n",
       "      <td>0.023793</td>\n",
       "      <td>0.052812</td>\n",
       "      <td>0.007384</td>\n",
       "      <td>-0.011693</td>\n",
       "      <td>0.050777</td>\n",
       "      <td>0.081983</td>\n",
       "      <td>0.050719</td>\n",
       "      <td>0.024180</td>\n",
       "      <td>0.059964</td>\n",
       "      <td>...</td>\n",
       "      <td>0.0</td>\n",
       "      <td>0.0</td>\n",
       "      <td>0.0</td>\n",
       "      <td>0.0</td>\n",
       "      <td>0.0</td>\n",
       "      <td>0.0</td>\n",
       "      <td>0.0</td>\n",
       "      <td>0.0</td>\n",
       "      <td>0.0</td>\n",
       "      <td>N</td>\n",
       "    </tr>\n",
       "    <tr>\n",
       "      <th>1</th>\n",
       "      <td>0.211886</td>\n",
       "      <td>0.340338</td>\n",
       "      <td>0.564663</td>\n",
       "      <td>0.784049</td>\n",
       "      <td>0.895281</td>\n",
       "      <td>0.862343</td>\n",
       "      <td>0.687615</td>\n",
       "      <td>0.416675</td>\n",
       "      <td>0.133498</td>\n",
       "      <td>-0.097141</td>\n",
       "      <td>...</td>\n",
       "      <td>0.0</td>\n",
       "      <td>0.0</td>\n",
       "      <td>0.0</td>\n",
       "      <td>0.0</td>\n",
       "      <td>0.0</td>\n",
       "      <td>0.0</td>\n",
       "      <td>0.0</td>\n",
       "      <td>0.0</td>\n",
       "      <td>0.0</td>\n",
       "      <td>N</td>\n",
       "    </tr>\n",
       "    <tr>\n",
       "      <th>2</th>\n",
       "      <td>0.359834</td>\n",
       "      <td>0.492563</td>\n",
       "      <td>0.706800</td>\n",
       "      <td>0.908933</td>\n",
       "      <td>0.918940</td>\n",
       "      <td>0.703201</td>\n",
       "      <td>0.427300</td>\n",
       "      <td>0.216014</td>\n",
       "      <td>-0.002688</td>\n",
       "      <td>-0.164033</td>\n",
       "      <td>...</td>\n",
       "      <td>0.0</td>\n",
       "      <td>0.0</td>\n",
       "      <td>0.0</td>\n",
       "      <td>0.0</td>\n",
       "      <td>0.0</td>\n",
       "      <td>0.0</td>\n",
       "      <td>0.0</td>\n",
       "      <td>0.0</td>\n",
       "      <td>0.0</td>\n",
       "      <td>N</td>\n",
       "    </tr>\n",
       "    <tr>\n",
       "      <th>3</th>\n",
       "      <td>0.351851</td>\n",
       "      <td>0.523014</td>\n",
       "      <td>0.761263</td>\n",
       "      <td>0.932185</td>\n",
       "      <td>0.918162</td>\n",
       "      <td>0.697579</td>\n",
       "      <td>0.428818</td>\n",
       "      <td>0.200659</td>\n",
       "      <td>-0.034928</td>\n",
       "      <td>-0.174766</td>\n",
       "      <td>...</td>\n",
       "      <td>0.0</td>\n",
       "      <td>0.0</td>\n",
       "      <td>0.0</td>\n",
       "      <td>0.0</td>\n",
       "      <td>0.0</td>\n",
       "      <td>0.0</td>\n",
       "      <td>0.0</td>\n",
       "      <td>0.0</td>\n",
       "      <td>0.0</td>\n",
       "      <td>N</td>\n",
       "    </tr>\n",
       "    <tr>\n",
       "      <th>4</th>\n",
       "      <td>0.353373</td>\n",
       "      <td>0.522368</td>\n",
       "      <td>0.748840</td>\n",
       "      <td>0.907975</td>\n",
       "      <td>0.906154</td>\n",
       "      <td>0.724158</td>\n",
       "      <td>0.457968</td>\n",
       "      <td>0.193961</td>\n",
       "      <td>-0.058294</td>\n",
       "      <td>-0.183620</td>\n",
       "      <td>...</td>\n",
       "      <td>0.0</td>\n",
       "      <td>0.0</td>\n",
       "      <td>0.0</td>\n",
       "      <td>0.0</td>\n",
       "      <td>0.0</td>\n",
       "      <td>0.0</td>\n",
       "      <td>0.0</td>\n",
       "      <td>0.0</td>\n",
       "      <td>0.0</td>\n",
       "      <td>N</td>\n",
       "    </tr>\n",
       "  </tbody>\n",
       "</table>\n",
       "<p>5 rows × 301 columns</p>\n",
       "</div>"
      ],
      "text/plain": [
       "        0         1         2         3         4         5         6    \\\n",
       "0 -0.022063  0.023793  0.052812  0.007384 -0.011693  0.050777  0.081983   \n",
       "1  0.211886  0.340338  0.564663  0.784049  0.895281  0.862343  0.687615   \n",
       "2  0.359834  0.492563  0.706800  0.908933  0.918940  0.703201  0.427300   \n",
       "3  0.351851  0.523014  0.761263  0.932185  0.918162  0.697579  0.428818   \n",
       "4  0.353373  0.522368  0.748840  0.907975  0.906154  0.724158  0.457968   \n",
       "\n",
       "        7         8         9    ...  291  292  293  294  295  296  297  298  \\\n",
       "0  0.050719  0.024180  0.059964  ...  0.0  0.0  0.0  0.0  0.0  0.0  0.0  0.0   \n",
       "1  0.416675  0.133498 -0.097141  ...  0.0  0.0  0.0  0.0  0.0  0.0  0.0  0.0   \n",
       "2  0.216014 -0.002688 -0.164033  ...  0.0  0.0  0.0  0.0  0.0  0.0  0.0  0.0   \n",
       "3  0.200659 -0.034928 -0.174766  ...  0.0  0.0  0.0  0.0  0.0  0.0  0.0  0.0   \n",
       "4  0.193961 -0.058294 -0.183620  ...  0.0  0.0  0.0  0.0  0.0  0.0  0.0  0.0   \n",
       "\n",
       "   299  300  \n",
       "0  0.0    N  \n",
       "1  0.0    N  \n",
       "2  0.0    N  \n",
       "3  0.0    N  \n",
       "4  0.0    N  \n",
       "\n",
       "[5 rows x 301 columns]"
      ]
     },
     "execution_count": 6,
     "metadata": {},
     "output_type": "execute_result"
    }
   ],
   "source": [
    "ecg_df.head()"
   ]
  },
  {
   "cell_type": "code",
   "execution_count": 7,
   "metadata": {},
   "outputs": [
    {
     "name": "stdout",
     "output_type": "stream",
     "text": [
      " categorical label :  ['AF' 'N']\n"
     ]
    }
   ],
   "source": [
    "X = ecg_df.iloc[:,:300].values\n",
    "y = ecg_df.iloc[:,300].values\n",
    "\n",
    "le = LabelEncoder()\n",
    "le.fit(y)\n",
    "\n",
    "labels = le.classes_\n",
    "print(\" categorical label : \", labels)\n",
    "\n",
    "y = le.transform(y)"
   ]
  },
  {
   "cell_type": "code",
   "execution_count": 8,
   "metadata": {},
   "outputs": [],
   "source": [
    "X_train, X_test, y_train, y_test = train_test_split(\n",
    "                                    X, y, test_size=0.33, random_state=42)"
   ]
  },
  {
   "cell_type": "code",
   "execution_count": 9,
   "metadata": {},
   "outputs": [],
   "source": [
    "train_df = pd.DataFrame(np.hstack((X_train, np.expand_dims(y_train, 1))))\n",
    "test_df = pd.DataFrame(np.hstack((X_test, np.expand_dims(y_test, 1))))"
   ]
  },
  {
   "cell_type": "markdown",
   "metadata": {},
   "source": [
    "- 1 sequence terdiri dari 300 titik data , kolom terakhir merupakan label untuk tiap sequence"
   ]
  },
  {
   "cell_type": "code",
   "execution_count": 10,
   "metadata": {},
   "outputs": [
    {
     "data": {
      "text/html": [
       "<div>\n",
       "<style scoped>\n",
       "    .dataframe tbody tr th:only-of-type {\n",
       "        vertical-align: middle;\n",
       "    }\n",
       "\n",
       "    .dataframe tbody tr th {\n",
       "        vertical-align: top;\n",
       "    }\n",
       "\n",
       "    .dataframe thead th {\n",
       "        text-align: right;\n",
       "    }\n",
       "</style>\n",
       "<table border=\"1\" class=\"dataframe\">\n",
       "  <thead>\n",
       "    <tr style=\"text-align: right;\">\n",
       "      <th></th>\n",
       "      <th>0</th>\n",
       "      <th>1</th>\n",
       "      <th>2</th>\n",
       "      <th>3</th>\n",
       "      <th>4</th>\n",
       "      <th>5</th>\n",
       "      <th>6</th>\n",
       "      <th>7</th>\n",
       "      <th>8</th>\n",
       "      <th>9</th>\n",
       "      <th>...</th>\n",
       "      <th>291</th>\n",
       "      <th>292</th>\n",
       "      <th>293</th>\n",
       "      <th>294</th>\n",
       "      <th>295</th>\n",
       "      <th>296</th>\n",
       "      <th>297</th>\n",
       "      <th>298</th>\n",
       "      <th>299</th>\n",
       "      <th>300</th>\n",
       "    </tr>\n",
       "  </thead>\n",
       "  <tbody>\n",
       "    <tr>\n",
       "      <th>0</th>\n",
       "      <td>0.077448</td>\n",
       "      <td>0.159095</td>\n",
       "      <td>0.335717</td>\n",
       "      <td>0.547274</td>\n",
       "      <td>0.733726</td>\n",
       "      <td>0.875050</td>\n",
       "      <td>0.966232</td>\n",
       "      <td>0.832153</td>\n",
       "      <td>0.500307</td>\n",
       "      <td>0.185790</td>\n",
       "      <td>...</td>\n",
       "      <td>0.0</td>\n",
       "      <td>0.0</td>\n",
       "      <td>0.0</td>\n",
       "      <td>0.0</td>\n",
       "      <td>0.0</td>\n",
       "      <td>0.0</td>\n",
       "      <td>0.0</td>\n",
       "      <td>0.0</td>\n",
       "      <td>0.0</td>\n",
       "      <td>1.0</td>\n",
       "    </tr>\n",
       "    <tr>\n",
       "      <th>1</th>\n",
       "      <td>0.142766</td>\n",
       "      <td>0.246951</td>\n",
       "      <td>0.424413</td>\n",
       "      <td>0.665362</td>\n",
       "      <td>0.852386</td>\n",
       "      <td>0.936553</td>\n",
       "      <td>0.873821</td>\n",
       "      <td>0.649490</td>\n",
       "      <td>0.346694</td>\n",
       "      <td>0.036334</td>\n",
       "      <td>...</td>\n",
       "      <td>0.0</td>\n",
       "      <td>0.0</td>\n",
       "      <td>0.0</td>\n",
       "      <td>0.0</td>\n",
       "      <td>0.0</td>\n",
       "      <td>0.0</td>\n",
       "      <td>0.0</td>\n",
       "      <td>0.0</td>\n",
       "      <td>0.0</td>\n",
       "      <td>1.0</td>\n",
       "    </tr>\n",
       "    <tr>\n",
       "      <th>2</th>\n",
       "      <td>-0.017261</td>\n",
       "      <td>0.080442</td>\n",
       "      <td>0.250059</td>\n",
       "      <td>0.402781</td>\n",
       "      <td>0.560203</td>\n",
       "      <td>0.753519</td>\n",
       "      <td>0.949117</td>\n",
       "      <td>0.964575</td>\n",
       "      <td>0.723070</td>\n",
       "      <td>0.411787</td>\n",
       "      <td>...</td>\n",
       "      <td>0.0</td>\n",
       "      <td>0.0</td>\n",
       "      <td>0.0</td>\n",
       "      <td>0.0</td>\n",
       "      <td>0.0</td>\n",
       "      <td>0.0</td>\n",
       "      <td>0.0</td>\n",
       "      <td>0.0</td>\n",
       "      <td>0.0</td>\n",
       "      <td>1.0</td>\n",
       "    </tr>\n",
       "    <tr>\n",
       "      <th>3</th>\n",
       "      <td>0.046743</td>\n",
       "      <td>0.128240</td>\n",
       "      <td>0.317267</td>\n",
       "      <td>0.523323</td>\n",
       "      <td>0.685255</td>\n",
       "      <td>0.827513</td>\n",
       "      <td>0.901169</td>\n",
       "      <td>0.783912</td>\n",
       "      <td>0.468384</td>\n",
       "      <td>0.157569</td>\n",
       "      <td>...</td>\n",
       "      <td>0.0</td>\n",
       "      <td>0.0</td>\n",
       "      <td>0.0</td>\n",
       "      <td>0.0</td>\n",
       "      <td>0.0</td>\n",
       "      <td>0.0</td>\n",
       "      <td>0.0</td>\n",
       "      <td>0.0</td>\n",
       "      <td>0.0</td>\n",
       "      <td>1.0</td>\n",
       "    </tr>\n",
       "    <tr>\n",
       "      <th>4</th>\n",
       "      <td>-0.041022</td>\n",
       "      <td>0.058016</td>\n",
       "      <td>0.196082</td>\n",
       "      <td>0.309582</td>\n",
       "      <td>0.459661</td>\n",
       "      <td>0.692784</td>\n",
       "      <td>0.884207</td>\n",
       "      <td>0.938530</td>\n",
       "      <td>0.777471</td>\n",
       "      <td>0.535534</td>\n",
       "      <td>...</td>\n",
       "      <td>0.0</td>\n",
       "      <td>0.0</td>\n",
       "      <td>0.0</td>\n",
       "      <td>0.0</td>\n",
       "      <td>0.0</td>\n",
       "      <td>0.0</td>\n",
       "      <td>0.0</td>\n",
       "      <td>0.0</td>\n",
       "      <td>0.0</td>\n",
       "      <td>1.0</td>\n",
       "    </tr>\n",
       "  </tbody>\n",
       "</table>\n",
       "<p>5 rows × 301 columns</p>\n",
       "</div>"
      ],
      "text/plain": [
       "        0         1         2         3         4         5         6    \\\n",
       "0  0.077448  0.159095  0.335717  0.547274  0.733726  0.875050  0.966232   \n",
       "1  0.142766  0.246951  0.424413  0.665362  0.852386  0.936553  0.873821   \n",
       "2 -0.017261  0.080442  0.250059  0.402781  0.560203  0.753519  0.949117   \n",
       "3  0.046743  0.128240  0.317267  0.523323  0.685255  0.827513  0.901169   \n",
       "4 -0.041022  0.058016  0.196082  0.309582  0.459661  0.692784  0.884207   \n",
       "\n",
       "        7         8         9    ...  291  292  293  294  295  296  297  298  \\\n",
       "0  0.832153  0.500307  0.185790  ...  0.0  0.0  0.0  0.0  0.0  0.0  0.0  0.0   \n",
       "1  0.649490  0.346694  0.036334  ...  0.0  0.0  0.0  0.0  0.0  0.0  0.0  0.0   \n",
       "2  0.964575  0.723070  0.411787  ...  0.0  0.0  0.0  0.0  0.0  0.0  0.0  0.0   \n",
       "3  0.783912  0.468384  0.157569  ...  0.0  0.0  0.0  0.0  0.0  0.0  0.0  0.0   \n",
       "4  0.938530  0.777471  0.535534  ...  0.0  0.0  0.0  0.0  0.0  0.0  0.0  0.0   \n",
       "\n",
       "   299  300  \n",
       "0  0.0  1.0  \n",
       "1  0.0  1.0  \n",
       "2  0.0  1.0  \n",
       "3  0.0  1.0  \n",
       "4  0.0  1.0  \n",
       "\n",
       "[5 rows x 301 columns]"
      ]
     },
     "execution_count": 10,
     "metadata": {},
     "output_type": "execute_result"
    }
   ],
   "source": [
    "train_df.head()"
   ]
  },
  {
   "cell_type": "markdown",
   "metadata": {},
   "source": [
    "## Balancing Dataset\n",
    "Untuk kebutuhan training model, kita akan atur agar sample tiap class memiliki proporsi yang sama."
   ]
  },
  {
   "cell_type": "code",
   "execution_count": 11,
   "metadata": {},
   "outputs": [
    {
     "name": "stdout",
     "output_type": "stream",
     "text": [
      "1    97\n",
      "0    58\n",
      "Name: 300, dtype: int64\n"
     ]
    }
   ],
   "source": [
    "#print dataset distribution\n",
    "\n",
    "train_df[300]=train_df[300].astype(int)\n",
    "equilibre=train_df[300].value_counts()\n",
    "\n",
    "print(equilibre)"
   ]
  },
  {
   "cell_type": "markdown",
   "metadata": {},
   "source": [
    "- Terlihat jika tiap katerogi memiliki jumlah sample yang berbeda."
   ]
  },
  {
   "cell_type": "code",
   "execution_count": 12,
   "metadata": {},
   "outputs": [
    {
     "data": {
      "image/png": "[encoded data removed]",
      "text/plain": [
       "<Figure size 1440x720 with 1 Axes>"
      ]
     },
     "metadata": {},
     "output_type": "display_data"
    }
   ],
   "source": [
    "plt.figure(figsize=(20,10))\n",
    "\n",
    "my_circle = plt.Circle( (0,0), 0.7, color='white')\n",
    "plt.pie(equilibre, \n",
    "        labels=labels, \n",
    "        colors=['red','green'],\n",
    "        autopct='%1.1f%%')\n",
    "\n",
    "p = plt.gcf()\n",
    "p.gca().add_artist(my_circle)\n",
    "plt.show()"
   ]
  },
  {
   "cell_type": "markdown",
   "metadata": {},
   "source": [
    "- kita akan membuat seluruh class memiliki jumlah sample sebanyak 20000. \n",
    "- Sehingga untuk class `0` yang memiliki sample 72471, akan dilakukan pemilihan acak sebanyak 20000 dengan menggunakan Pandas Dataframe `.sample()`.\n",
    "- Untuk class lainya, karena dibawah 20000 sample, akan diterapkan proses upsampling menjadi 20000 sample menggunakan sklearn `resample()`."
   ]
  },
  {
   "cell_type": "code",
   "execution_count": 13,
   "metadata": {},
   "outputs": [],
   "source": [
    "# sampling and resampling dataset\n",
    "\n",
    "from sklearn.utils import resample\n",
    "\n",
    "random_states = [42, 123]\n",
    "\n",
    "dfs = []\n",
    "\n",
    "for i in range(len(equilibre)):\n",
    "    dfs.append(train_df[train_df[300]==i])\n",
    "    if(equilibre[i] > n_samples) :\n",
    "        dfs[i]=dfs[i].sample(n=n_samples ,random_state=random_states[i])\n",
    "    else :\n",
    "        dfs[i]=resample(dfs[i],replace=True,n_samples=n_samples,random_state=random_states[i])\n",
    "\n",
    "train_df=pd.concat(dfs)"
   ]
  },
  {
   "cell_type": "code",
   "execution_count": 14,
   "metadata": {},
   "outputs": [
    {
     "data": {
      "text/html": [
       "<div>\n",
       "<style scoped>\n",
       "    .dataframe tbody tr th:only-of-type {\n",
       "        vertical-align: middle;\n",
       "    }\n",
       "\n",
       "    .dataframe tbody tr th {\n",
       "        vertical-align: top;\n",
       "    }\n",
       "\n",
       "    .dataframe thead th {\n",
       "        text-align: right;\n",
       "    }\n",
       "</style>\n",
       "<table border=\"1\" class=\"dataframe\">\n",
       "  <thead>\n",
       "    <tr style=\"text-align: right;\">\n",
       "      <th></th>\n",
       "      <th>0</th>\n",
       "      <th>1</th>\n",
       "      <th>2</th>\n",
       "      <th>3</th>\n",
       "      <th>4</th>\n",
       "      <th>5</th>\n",
       "      <th>6</th>\n",
       "      <th>7</th>\n",
       "      <th>8</th>\n",
       "      <th>9</th>\n",
       "      <th>...</th>\n",
       "      <th>291</th>\n",
       "      <th>292</th>\n",
       "      <th>293</th>\n",
       "      <th>294</th>\n",
       "      <th>295</th>\n",
       "      <th>296</th>\n",
       "      <th>297</th>\n",
       "      <th>298</th>\n",
       "      <th>299</th>\n",
       "      <th>300</th>\n",
       "    </tr>\n",
       "  </thead>\n",
       "  <tbody>\n",
       "    <tr>\n",
       "      <th>113</th>\n",
       "      <td>-0.046689</td>\n",
       "      <td>0.017902</td>\n",
       "      <td>0.166915</td>\n",
       "      <td>0.407602</td>\n",
       "      <td>0.614545</td>\n",
       "      <td>0.768460</td>\n",
       "      <td>0.907951</td>\n",
       "      <td>0.931712</td>\n",
       "      <td>0.714313</td>\n",
       "      <td>0.357060</td>\n",
       "      <td>...</td>\n",
       "      <td>0.0</td>\n",
       "      <td>0.0</td>\n",
       "      <td>0.0</td>\n",
       "      <td>0.0</td>\n",
       "      <td>0.0</td>\n",
       "      <td>0.0</td>\n",
       "      <td>0.0</td>\n",
       "      <td>0.0</td>\n",
       "      <td>0.0</td>\n",
       "      <td>0</td>\n",
       "    </tr>\n",
       "    <tr>\n",
       "      <th>136</th>\n",
       "      <td>0.188273</td>\n",
       "      <td>0.355377</td>\n",
       "      <td>0.573060</td>\n",
       "      <td>0.761713</td>\n",
       "      <td>0.868261</td>\n",
       "      <td>0.849272</td>\n",
       "      <td>0.690255</td>\n",
       "      <td>0.420135</td>\n",
       "      <td>0.128140</td>\n",
       "      <td>-0.062737</td>\n",
       "      <td>...</td>\n",
       "      <td>0.0</td>\n",
       "      <td>0.0</td>\n",
       "      <td>0.0</td>\n",
       "      <td>0.0</td>\n",
       "      <td>0.0</td>\n",
       "      <td>0.0</td>\n",
       "      <td>0.0</td>\n",
       "      <td>0.0</td>\n",
       "      <td>0.0</td>\n",
       "      <td>0</td>\n",
       "    </tr>\n",
       "    <tr>\n",
       "      <th>84</th>\n",
       "      <td>0.145365</td>\n",
       "      <td>0.319007</td>\n",
       "      <td>0.582340</td>\n",
       "      <td>0.790984</td>\n",
       "      <td>0.885869</td>\n",
       "      <td>0.950103</td>\n",
       "      <td>0.867732</td>\n",
       "      <td>0.551236</td>\n",
       "      <td>0.162456</td>\n",
       "      <td>-0.073333</td>\n",
       "      <td>...</td>\n",
       "      <td>0.0</td>\n",
       "      <td>0.0</td>\n",
       "      <td>0.0</td>\n",
       "      <td>0.0</td>\n",
       "      <td>0.0</td>\n",
       "      <td>0.0</td>\n",
       "      <td>0.0</td>\n",
       "      <td>0.0</td>\n",
       "      <td>0.0</td>\n",
       "      <td>0</td>\n",
       "    </tr>\n",
       "    <tr>\n",
       "      <th>48</th>\n",
       "      <td>0.134702</td>\n",
       "      <td>0.263668</td>\n",
       "      <td>0.484529</td>\n",
       "      <td>0.705404</td>\n",
       "      <td>0.869409</td>\n",
       "      <td>0.915280</td>\n",
       "      <td>0.886748</td>\n",
       "      <td>0.656918</td>\n",
       "      <td>0.258572</td>\n",
       "      <td>-0.045827</td>\n",
       "      <td>...</td>\n",
       "      <td>0.0</td>\n",
       "      <td>0.0</td>\n",
       "      <td>0.0</td>\n",
       "      <td>0.0</td>\n",
       "      <td>0.0</td>\n",
       "      <td>0.0</td>\n",
       "      <td>0.0</td>\n",
       "      <td>0.0</td>\n",
       "      <td>0.0</td>\n",
       "      <td>0</td>\n",
       "    </tr>\n",
       "    <tr>\n",
       "      <th>117</th>\n",
       "      <td>-0.002117</td>\n",
       "      <td>0.059391</td>\n",
       "      <td>0.234601</td>\n",
       "      <td>0.416244</td>\n",
       "      <td>0.587152</td>\n",
       "      <td>0.758047</td>\n",
       "      <td>0.913900</td>\n",
       "      <td>0.910965</td>\n",
       "      <td>0.687011</td>\n",
       "      <td>0.368586</td>\n",
       "      <td>...</td>\n",
       "      <td>0.0</td>\n",
       "      <td>0.0</td>\n",
       "      <td>0.0</td>\n",
       "      <td>0.0</td>\n",
       "      <td>0.0</td>\n",
       "      <td>0.0</td>\n",
       "      <td>0.0</td>\n",
       "      <td>0.0</td>\n",
       "      <td>0.0</td>\n",
       "      <td>0</td>\n",
       "    </tr>\n",
       "  </tbody>\n",
       "</table>\n",
       "<p>5 rows × 301 columns</p>\n",
       "</div>"
      ],
      "text/plain": [
       "          0         1         2         3         4         5         6    \\\n",
       "113 -0.046689  0.017902  0.166915  0.407602  0.614545  0.768460  0.907951   \n",
       "136  0.188273  0.355377  0.573060  0.761713  0.868261  0.849272  0.690255   \n",
       "84   0.145365  0.319007  0.582340  0.790984  0.885869  0.950103  0.867732   \n",
       "48   0.134702  0.263668  0.484529  0.705404  0.869409  0.915280  0.886748   \n",
       "117 -0.002117  0.059391  0.234601  0.416244  0.587152  0.758047  0.913900   \n",
       "\n",
       "          7         8         9    ...  291  292  293  294  295  296  297  \\\n",
       "113  0.931712  0.714313  0.357060  ...  0.0  0.0  0.0  0.0  0.0  0.0  0.0   \n",
       "136  0.420135  0.128140 -0.062737  ...  0.0  0.0  0.0  0.0  0.0  0.0  0.0   \n",
       "84   0.551236  0.162456 -0.073333  ...  0.0  0.0  0.0  0.0  0.0  0.0  0.0   \n",
       "48   0.656918  0.258572 -0.045827  ...  0.0  0.0  0.0  0.0  0.0  0.0  0.0   \n",
       "117  0.910965  0.687011  0.368586  ...  0.0  0.0  0.0  0.0  0.0  0.0  0.0   \n",
       "\n",
       "     298  299  300  \n",
       "113  0.0  0.0    0  \n",
       "136  0.0  0.0    0  \n",
       "84   0.0  0.0    0  \n",
       "48   0.0  0.0    0  \n",
       "117  0.0  0.0    0  \n",
       "\n",
       "[5 rows x 301 columns]"
      ]
     },
     "execution_count": 14,
     "metadata": {},
     "output_type": "execute_result"
    }
   ],
   "source": [
    "train_df.head()"
   ]
  },
  {
   "cell_type": "markdown",
   "metadata": {},
   "source": [
    "Sekarang kita memiliki dataset yang sudah balance."
   ]
  },
  {
   "cell_type": "code",
   "execution_count": 15,
   "metadata": {},
   "outputs": [
    {
     "name": "stdout",
     "output_type": "stream",
     "text": [
      "1    90\n",
      "0    90\n",
      "Name: 300, dtype: int64\n"
     ]
    }
   ],
   "source": [
    "# cek balanced dataset\n",
    "\n",
    "equilibre=train_df[300].value_counts()\n",
    "\n",
    "print(equilibre)"
   ]
  },
  {
   "cell_type": "markdown",
   "metadata": {},
   "source": [
    "## Understanding ECG Signal\n",
    "- Sekarang kita ambil 1 sample tiap class untuk melihat profile heart beat masing-masing class.\n",
    "- Ini berguna untuk kita agar dapat memahami karakteristik sinyal ECG untuk tiap class.\n",
    "- Task ini mudah dilakukan menggunakan pandas,  `.groupby()` pada kolom 187 (kolom class) dan dengan menggunakan fungsi `.apply()` kita ambil 1 sample data menggunakan `.sample()`."
   ]
  },
  {
   "cell_type": "code",
   "execution_count": 16,
   "metadata": {},
   "outputs": [],
   "source": [
    "ECG_PER_CLASS =train_df.groupby(300,group_keys=False).apply(lambda train_df : train_df.sample(1))"
   ]
  },
  {
   "cell_type": "code",
   "execution_count": 17,
   "metadata": {},
   "outputs": [
    {
     "data": {
      "text/html": [
       "<div>\n",
       "<style scoped>\n",
       "    .dataframe tbody tr th:only-of-type {\n",
       "        vertical-align: middle;\n",
       "    }\n",
       "\n",
       "    .dataframe tbody tr th {\n",
       "        vertical-align: top;\n",
       "    }\n",
       "\n",
       "    .dataframe thead th {\n",
       "        text-align: right;\n",
       "    }\n",
       "</style>\n",
       "<table border=\"1\" class=\"dataframe\">\n",
       "  <thead>\n",
       "    <tr style=\"text-align: right;\">\n",
       "      <th></th>\n",
       "      <th>0</th>\n",
       "      <th>1</th>\n",
       "      <th>2</th>\n",
       "      <th>3</th>\n",
       "      <th>4</th>\n",
       "      <th>5</th>\n",
       "      <th>6</th>\n",
       "      <th>7</th>\n",
       "      <th>8</th>\n",
       "      <th>9</th>\n",
       "      <th>...</th>\n",
       "      <th>291</th>\n",
       "      <th>292</th>\n",
       "      <th>293</th>\n",
       "      <th>294</th>\n",
       "      <th>295</th>\n",
       "      <th>296</th>\n",
       "      <th>297</th>\n",
       "      <th>298</th>\n",
       "      <th>299</th>\n",
       "      <th>300</th>\n",
       "    </tr>\n",
       "  </thead>\n",
       "  <tbody>\n",
       "    <tr>\n",
       "      <th>33</th>\n",
       "      <td>0.146044</td>\n",
       "      <td>0.274785</td>\n",
       "      <td>0.478207</td>\n",
       "      <td>0.662228</td>\n",
       "      <td>0.790658</td>\n",
       "      <td>0.851423</td>\n",
       "      <td>0.784204</td>\n",
       "      <td>0.540737</td>\n",
       "      <td>0.229546</td>\n",
       "      <td>-0.016726</td>\n",
       "      <td>...</td>\n",
       "      <td>0.0</td>\n",
       "      <td>0.0</td>\n",
       "      <td>0.0</td>\n",
       "      <td>0.0</td>\n",
       "      <td>0.0</td>\n",
       "      <td>0.0</td>\n",
       "      <td>0.0</td>\n",
       "      <td>0.0</td>\n",
       "      <td>0.0</td>\n",
       "      <td>0</td>\n",
       "    </tr>\n",
       "    <tr>\n",
       "      <th>2</th>\n",
       "      <td>-0.017261</td>\n",
       "      <td>0.080442</td>\n",
       "      <td>0.250059</td>\n",
       "      <td>0.402781</td>\n",
       "      <td>0.560203</td>\n",
       "      <td>0.753519</td>\n",
       "      <td>0.949117</td>\n",
       "      <td>0.964575</td>\n",
       "      <td>0.723070</td>\n",
       "      <td>0.411787</td>\n",
       "      <td>...</td>\n",
       "      <td>0.0</td>\n",
       "      <td>0.0</td>\n",
       "      <td>0.0</td>\n",
       "      <td>0.0</td>\n",
       "      <td>0.0</td>\n",
       "      <td>0.0</td>\n",
       "      <td>0.0</td>\n",
       "      <td>0.0</td>\n",
       "      <td>0.0</td>\n",
       "      <td>1</td>\n",
       "    </tr>\n",
       "  </tbody>\n",
       "</table>\n",
       "<p>2 rows × 301 columns</p>\n",
       "</div>"
      ],
      "text/plain": [
       "         0         1         2         3         4         5         6    \\\n",
       "33  0.146044  0.274785  0.478207  0.662228  0.790658  0.851423  0.784204   \n",
       "2  -0.017261  0.080442  0.250059  0.402781  0.560203  0.753519  0.949117   \n",
       "\n",
       "         7         8         9    ...  291  292  293  294  295  296  297  298  \\\n",
       "33  0.540737  0.229546 -0.016726  ...  0.0  0.0  0.0  0.0  0.0  0.0  0.0  0.0   \n",
       "2   0.964575  0.723070  0.411787  ...  0.0  0.0  0.0  0.0  0.0  0.0  0.0  0.0   \n",
       "\n",
       "    299  300  \n",
       "33  0.0    0  \n",
       "2   0.0    1  \n",
       "\n",
       "[2 rows x 301 columns]"
      ]
     },
     "execution_count": 17,
     "metadata": {},
     "output_type": "execute_result"
    }
   ],
   "source": [
    "ECG_PER_CLASS"
   ]
  },
  {
   "cell_type": "markdown",
   "metadata": {},
   "source": [
    "- Pertama kita plot tiap sample pada dataframe `ECG_PER_CLASS` menggunakan pandas `.plot()`.\n",
    "- Setelah itu kita plot 2D histogram untuk keseluruhan sample ECG tiap class menggunakan fungsi `plot_hist()` yang kita buat dibawah.\n",
    "- Pada plot histogram, daerah dengan intensitas lebih terang menandakan banyak titik sample pada waktu dan nilai ECG tersebut.\n",
    "- Sebaliknya untuk daerah yang lebih gelap."
   ]
  },
  {
   "cell_type": "code",
   "execution_count": 18,
   "metadata": {},
   "outputs": [],
   "source": [
    "def plot_1_sample(class_number, fs=250):\n",
    "    data = ECG_PER_CLASS.iloc[class_number,:300]\n",
    "    times = np.arange(data.shape[0], dtype='float') / fs * 1000\n",
    "    \n",
    "    plt.plot(times, data)\n",
    "    plt.title(\"Plot 1 sample in class \" + str(class_number))\n",
    "    plt.xlabel(\"Time (ms)\")\n",
    "    plt.ylabel(\"Normalized Value\")\n",
    "    plt.show()"
   ]
  },
  {
   "cell_type": "code",
   "execution_count": 19,
   "metadata": {},
   "outputs": [],
   "source": [
    "def plot_hist(class_number, min_, size, fs=250):\n",
    "    # filter data berdasarkan class_number \n",
    "    ECG=train_df.loc[train_df[300]==class_number].values\n",
    "    \n",
    "    # scale tm value (*1000) agar bisa ditampilkan dalam satuam (ms)\n",
    "    tm = np.arange(ECG.shape[1], dtype='float') / fs * 1000\n",
    "    \n",
    "    # ambil data hanya pada kolom `min_` sampai `size`\n",
    "    # convert ke 1D array\n",
    "    ECG=ECG[:,min_:size]\n",
    "    ECG_flatten=ECG.flatten()\n",
    "    \n",
    "    # generate time data untuk tiap kolom sample, \n",
    "    # ulang sebanyak ECG.shape[0]\n",
    "    times = np.tile(tm[min_:size], ECG.shape[0]) \n",
    "\n",
    "    # plot sebagai 2D histogram\n",
    "    plt.hist2d(times, ECG_flatten, bins=(80,80), cmap=plt.cm.jet)\n",
    "    plt.title(\"2D histogram on class \" + str(class_number))\n",
    "    plt.xlabel(\"Time (ms)\")\n",
    "    plt.ylabel(\"Normalized Value\")\n",
    "    plt.show()"
   ]
  },
  {
   "cell_type": "code",
   "execution_count": 20,
   "metadata": {},
   "outputs": [
    {
     "data": {
      "image/png": "[encoded data removed]",
      "text/plain": [
       "<Figure size 432x288 with 1 Axes>"
      ]
     },
     "metadata": {
      "needs_background": "light"
     },
     "output_type": "display_data"
    }
   ],
   "source": [
    "plot_1_sample(class_number=0)"
   ]
  },
  {
   "cell_type": "code",
   "execution_count": 21,
   "metadata": {},
   "outputs": [
    {
     "data": {
      "image/png": "[encoded data removed]",
      "text/plain": [
       "<Figure size 432x288 with 1 Axes>"
      ]
     },
     "metadata": {
      "needs_background": "light"
     },
     "output_type": "display_data"
    }
   ],
   "source": [
    "plot_hist(class_number=0, min_=0, size=80)"
   ]
  },
  {
   "cell_type": "code",
   "execution_count": 22,
   "metadata": {},
   "outputs": [
    {
     "data": {
      "image/png": "[encoded data removed]",
      "text/plain": [
       "<Figure size 432x288 with 1 Axes>"
      ]
     },
     "metadata": {
      "needs_background": "light"
     },
     "output_type": "display_data"
    }
   ],
   "source": [
    "plot_1_sample(class_number=1)"
   ]
  },
  {
   "cell_type": "code",
   "execution_count": 23,
   "metadata": {},
   "outputs": [
    {
     "data": {
      "image/png": "[encoded data removed]",
      "text/plain": [
       "<Figure size 432x288 with 1 Axes>"
      ]
     },
     "metadata": {
      "needs_background": "light"
     },
     "output_type": "display_data"
    }
   ],
   "source": [
    "plot_hist(class_number=1, min_=0, size=80)"
   ]
  },
  {
   "cell_type": "markdown",
   "metadata": {},
   "source": [
    "### Save Balanced Training Data and Test Data"
   ]
  },
  {
   "cell_type": "code",
   "execution_count": 24,
   "metadata": {},
   "outputs": [],
   "source": [
    "train_df.to_csv(dataset_folder + \"train_AFDB_%s_balanced.csv\" % record, header=None, index=None)\n",
    "test_df.to_csv(dataset_folder + \"test_AFDB_%s.csv\" % record, header=None, index=None)"
   ]
  },
  {
   "cell_type": "code",
   "execution_count": null,
   "metadata": {},
   "outputs": [],
   "source": []
  }
 ],
 "metadata": {
  "kernelspec": {
   "display_name": "Python [conda env:GPU_ENV]",
   "language": "python",
   "name": "conda-env-GPU_ENV-py"
  },
  "language_info": {
   "codemirror_mode": {
    "name": "ipython",
    "version": 3
   },
   "file_extension": ".py",
   "mimetype": "text/x-python",
   "name": "python",
   "nbconvert_exporter": "python",
   "pygments_lexer": "ipython3",
   "version": "3.6.12"
  }
 },
 "nbformat": 4,
 "nbformat_minor": 4
}
