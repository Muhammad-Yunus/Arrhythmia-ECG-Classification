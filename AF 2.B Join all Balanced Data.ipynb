{
 "cells": [
  {
   "cell_type": "code",
   "execution_count": 1,
   "metadata": {},
   "outputs": [],
   "source": [
    "import pandas as pd\n",
    "import numpy as np \n",
    "import matplotlib.pyplot as plt"
   ]
  },
  {
   "cell_type": "code",
   "execution_count": 2,
   "metadata": {},
   "outputs": [],
   "source": [
    "import os\n",
    "\n",
    "dataset_folder = 'dataset/'\n",
    "filenames = []\n",
    "for filename in os.listdir(dataset_folder):\n",
    "    if filename.find(\"_AFDB_\") > -1:\n",
    "        filenames.append(filename)"
   ]
  },
  {
   "cell_type": "code",
   "execution_count": 3,
   "metadata": {},
   "outputs": [
    {
     "data": {
      "text/plain": [
       "['test_AFDB_04015.csv',\n",
       " 'test_AFDB_04043.csv',\n",
       " 'test_AFDB_04048.csv',\n",
       " 'test_AFDB_04936.csv',\n",
       " 'test_AFDB_05091.csv',\n",
       " 'test_AFDB_05121.csv',\n",
       " 'test_AFDB_05261.csv',\n",
       " 'test_AFDB_06426.csv',\n",
       " 'test_AFDB_06453.csv',\n",
       " 'test_AFDB_06995.csv',\n",
       " 'test_AFDB_07910.csv',\n",
       " 'test_AFDB_08215.csv',\n",
       " 'train_AFDB_04015_balanced.csv',\n",
       " 'train_AFDB_04043_balanced.csv',\n",
       " 'train_AFDB_04048_balanced.csv',\n",
       " 'train_AFDB_04936_balanced.csv',\n",
       " 'train_AFDB_05091_balanced.csv',\n",
       " 'train_AFDB_05121_balanced.csv',\n",
       " 'train_AFDB_05261_balanced.csv',\n",
       " 'train_AFDB_06426_balanced.csv',\n",
       " 'train_AFDB_06453_balanced.csv',\n",
       " 'train_AFDB_06995_balanced.csv',\n",
       " 'train_AFDB_07910_balanced.csv',\n",
       " 'train_AFDB_08215_balanced.csv']"
      ]
     },
     "execution_count": 3,
     "metadata": {},
     "output_type": "execute_result"
    }
   ],
   "source": [
    "filenames"
   ]
  },
  {
   "cell_type": "code",
   "execution_count": 4,
   "metadata": {},
   "outputs": [],
   "source": [
    "train_dfs = []\n",
    "test_dfs = []\n",
    "for name in filenames :\n",
    "    if name.find('train_') > -1:\n",
    "        train_df = pd.read_csv(dataset_folder + name, header=None)\n",
    "        train_dfs.append(train_df)\n",
    "    if name.find('test_') > -1:\n",
    "        test_df = pd.read_csv(dataset_folder + name, header=None)\n",
    "        test_dfs.append(test_df)"
   ]
  },
  {
   "cell_type": "code",
   "execution_count": 5,
   "metadata": {},
   "outputs": [],
   "source": [
    "train_df_all = pd.concat(train_dfs, ignore_index=True)\n",
    "test_df_all = pd.concat(test_dfs, ignore_index=True)"
   ]
  },
  {
   "cell_type": "code",
   "execution_count": 6,
   "metadata": {},
   "outputs": [
    {
     "name": "stdout",
     "output_type": "stream",
     "text": [
      "<class 'pandas.core.frame.DataFrame'>\n",
      "RangeIndex: 22440 entries, 0 to 22439\n",
      "Columns: 301 entries, 0 to 300\n",
      "dtypes: float64(300), int64(1)\n",
      "memory usage: 51.5 MB\n"
     ]
    }
   ],
   "source": [
    "train_df_all.info()"
   ]
  },
  {
   "cell_type": "code",
   "execution_count": 7,
   "metadata": {},
   "outputs": [
    {
     "name": "stdout",
     "output_type": "stream",
     "text": [
      "<class 'pandas.core.frame.DataFrame'>\n",
      "RangeIndex: 9408 entries, 0 to 9407\n",
      "Columns: 301 entries, 0 to 300\n",
      "dtypes: float64(301)\n",
      "memory usage: 21.6 MB\n"
     ]
    }
   ],
   "source": [
    "test_df_all.info()"
   ]
  },
  {
   "cell_type": "code",
   "execution_count": 8,
   "metadata": {},
   "outputs": [],
   "source": [
    "train_df_all.to_csv(dataset_folder + \"train_all.csv\", index=None, header=None)"
   ]
  },
  {
   "cell_type": "code",
   "execution_count": 9,
   "metadata": {},
   "outputs": [],
   "source": [
    "test_df_all.to_csv(dataset_folder + \"test_all.csv\", index=None, header=None)"
   ]
  },
  {
   "cell_type": "code",
   "execution_count": null,
   "metadata": {},
   "outputs": [],
   "source": []
  }
 ],
 "metadata": {
  "kernelspec": {
   "display_name": "Python [conda env:GPU_ENV]",
   "language": "python",
   "name": "conda-env-GPU_ENV-py"
  },
  "language_info": {
   "codemirror_mode": {
    "name": "ipython",
    "version": 3
   },
   "file_extension": ".py",
   "mimetype": "text/x-python",
   "name": "python",
   "nbconvert_exporter": "python",
   "pygments_lexer": "ipython3",
   "version": "3.6.12"
  }
 },
 "nbformat": 4,
 "nbformat_minor": 4
}
