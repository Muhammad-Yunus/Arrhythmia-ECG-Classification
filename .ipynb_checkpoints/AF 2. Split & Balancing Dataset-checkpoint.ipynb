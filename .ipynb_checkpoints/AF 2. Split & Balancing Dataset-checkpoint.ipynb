{
 "cells": [
  {
   "cell_type": "markdown",
   "metadata": {},
   "source": [
    "# Load dataset\n",
    "\n",
    "**record name , balanced sample**\n",
    "- record 04015 -> 400\n",
    "- record 04043 -> 1000\n",
    "- record 04048 -> 900\n",
    "- record 04908 -> tidak bisa di split karena hanya AF\n",
    "- record 04936 -> 2000\n",
    "- record 05091 -> 30, class 0 29\n",
    "- record 05121 -> 1000, class 0, 150\n",
    "- record 05261 -> 200, class 0 105\n",
    "- record 06426 -> 2000\n",
    "- record 06453 -> 300\n",
    "- record 06995 -> 900\n",
    "- record 07910 -> 320\n",
    "- record 08215 -> 400"
   ]
  },
  {
   "cell_type": "code",
   "execution_count": 1,
   "metadata": {},
   "outputs": [
    {
     "name": "stderr",
     "output_type": "stream",
     "text": [
      "C:\\Users\\yunus\\Anaconda3\\envs\\GPU_ENV\\lib\\site-packages\\ipykernel\\parentpoller.py:116: UserWarning: Parent poll failed.  If the frontend dies,\n",
      "                the kernel may be left running.  Please let us know\n",
      "                about your system (bitness, Python, etc.) at\n",
      "                ipython-dev@scipy.org\n",
      "  ipython-dev@scipy.org\"\"\")\n"
     ]
    }
   ],
   "source": [
    "record = \"08215\"\n",
    "n_samples = 400"
   ]
  },
  {
   "cell_type": "code",
   "execution_count": 2,
   "metadata": {},
   "outputs": [],
   "source": [
    "import os\n",
    "\n",
    "dataset_folder = 'dataset/'\n",
    "filenames = []\n",
    "for filename in os.listdir(dataset_folder):\n",
    "    if filename.find('sequence') > -1 :\n",
    "        filenames.append(filename)"
   ]
  },
  {
   "cell_type": "code",
   "execution_count": 3,
   "metadata": {},
   "outputs": [
    {
     "data": {
      "text/plain": [
       "['AFDB_04015_sequence_300_pt.csv',\n",
       " 'AFDB_04043_sequence_300_pt.csv',\n",
       " 'AFDB_04048_sequence_300_pt.csv',\n",
       " 'AFDB_04126_sequence_300_pt.csv',\n",
       " 'AFDB_04908_sequence_300_pt.csv',\n",
       " 'AFDB_04936_sequence_300_pt.csv',\n",
       " 'AFDB_05091_sequence_300_pt.csv',\n",
       " 'AFDB_05121_sequence_300_pt.csv',\n",
       " 'AFDB_05261_sequence_300_pt.csv',\n",
       " 'AFDB_06426_sequence_300_pt.csv',\n",
       " 'AFDB_06453_sequence_300_pt.csv',\n",
       " 'AFDB_06995_sequence_300_pt.csv',\n",
       " 'AFDB_07910_sequence_300_pt.csv',\n",
       " 'AFDB_08215_sequence_300_pt.csv']"
      ]
     },
     "execution_count": 3,
     "metadata": {},
     "output_type": "execute_result"
    }
   ],
   "source": [
    "filenames"
   ]
  },
  {
   "cell_type": "code",
   "execution_count": 4,
   "metadata": {},
   "outputs": [],
   "source": [
    "import pandas as pd\n",
    "import numpy as np \n",
    "import matplotlib.pyplot as plt\n",
    "\n",
    "from sklearn.preprocessing import LabelEncoder\n",
    "from sklearn.model_selection import train_test_split"
   ]
  },
  {
   "cell_type": "markdown",
   "metadata": {},
   "source": [
    "- Split Dataset"
   ]
  },
  {
   "cell_type": "code",
   "execution_count": 5,
   "metadata": {},
   "outputs": [],
   "source": [
    "ecg_df = pd.read_csv(dataset_folder + 'AFDB_%s_sequence_300_pt.csv' % record, header=None)"
   ]
  },
  {
   "cell_type": "markdown",
   "metadata": {},
   "source": [
    "##### ecg_df.head()"
   ]
  },
  {
   "cell_type": "code",
   "execution_count": 6,
   "metadata": {},
   "outputs": [
    {
     "name": "stdout",
     "output_type": "stream",
     "text": [
      "['N' 'N' 'N' 'N' 'N' 'N' 'N' 'N' 'N' 'N' 'N' 'N' 'N' 'N' 'N' 'N' 'N' 'N'\n",
      " 'N' 'N' 'N' 'N' 'N' 'N' 'N' 'N' 'N' 'N' 'N' 'N' 'N' 'N' 'N' 'N' 'N' 'N'\n",
      " 'N' 'N' 'N' 'N' 'N' 'N' 'N' 'N' 'N' 'N' 'N' 'N' 'N' 'N' 'N' 'N' 'N' 'N'\n",
      " 'N' 'N' 'N' 'N' 'N' 'N' 'N' 'N' 'N' 'N' 'N' 'N' 'N' 'N' 'N' 'N' 'N' 'N'\n",
      " 'N' 'N' 'N' 'N' 'N' 'N' 'N' 'N' 'N' 'N' 'N' 'N' 'N' 'N' 'N' 'N' 'N' 'N'\n",
      " 'N' 'N' 'N' 'N' 'N' 'N' 'N' 'N' 'N' 'N' 'N' 'N' 'N' 'N' 'N' 'N' 'N' 'N'\n",
      " 'N' 'N' 'N' 'N' 'N' 'N' 'N' 'N' 'N' 'N' 'N' 'N' 'N' 'N' 'N' 'N' 'N' 'N'\n",
      " 'N' 'N' 'N' 'N' 'N' 'N' 'N' 'N' 'N' 'N' 'N' 'N' 'N' 'N' 'N' 'N' 'N' 'N'\n",
      " 'N' 'N' 'N' 'N' 'N' 'N' 'N' 'N' 'N' 'N' 'N' 'N' 'N' 'N' 'N' 'N' 'N' 'N'\n",
      " 'N' 'N' 'N' 'N' 'N' 'N' 'N' 'N' 'N' 'N' 'N' 'N' 'N' 'N' 'N' 'N' 'N' 'N'\n",
      " 'N' 'N' 'N' 'N' 'N' 'N' 'N' 'N' 'N' 'N' 'N' 'N' 'N' 'N' 'N' 'N' 'N' 'N'\n",
      " 'N' 'N' 'N' 'N' 'N' 'N' 'N' 'N' 'N' 'N' 'N' 'N' 'N' 'N' 'N' 'N' 'N' 'N'\n",
      " 'N' 'N' 'N' 'N' 'N' 'N' 'N' 'N' 'N' 'N' 'N' 'N' 'N' 'N' 'N' 'N' 'N' 'N'\n",
      " 'N' 'N' 'N' 'N' 'N' 'N' 'N' 'N' 'N' 'N' 'N' 'N' 'N' 'N' 'N' 'N' 'N' 'N'\n",
      " 'N' 'N' 'N' 'N' 'N' 'N' 'N' 'N' 'N' 'N' 'N' 'N' 'N' 'N' 'N' 'N' 'N' 'N'\n",
      " 'N' 'N' 'N' 'N' 'N' 'N' 'N' 'N' 'N' 'N' 'N' 'N' 'N' 'N' 'N' 'N' 'N' 'N'\n",
      " 'N' 'N' 'N' 'N' 'N' 'N' 'N' 'N' 'N' 'N' 'N' 'N' 'N' 'N' 'N' 'N' 'N' 'N'\n",
      " 'N' 'N' 'N' 'N' 'N' 'N' 'N' 'N' 'N' 'N' 'N' 'N' 'N' 'N' 'N' 'N' 'N' 'N'\n",
      " 'N' 'N' 'N' 'N' 'N' 'N' 'N' 'N' 'N' 'N' 'N' 'N' 'N' 'N' 'N' 'N' 'N' 'N'\n",
      " 'N' 'N' 'N' 'N' 'N' 'N' 'N' 'N' 'N' 'N' 'N' 'N' 'N' 'N' 'N' 'N' 'N' 'N'\n",
      " 'N' 'N' 'N' 'N' 'N' 'N' 'N' 'N' 'N' 'N' 'N' 'N' 'N' 'N' 'N' 'N' 'N' 'N'\n",
      " 'N' 'N' 'N' 'N' 'N' 'N' 'N' 'N' 'N' 'N' 'N' 'N' 'N' 'N' 'N' 'N' 'N' 'N'\n",
      " 'N' 'N' 'N' 'N' 'N' 'N' 'N' 'N' 'N' 'N' 'N' 'N' 'N' 'N' 'N' 'N' 'N' 'N'\n",
      " 'N' 'N' 'N' 'N' 'N' 'N' 'N' 'N' 'N' 'N' 'N' 'N' 'N' 'N' 'N' 'N' 'N' 'N'\n",
      " 'N' 'N' 'N' 'N' 'N' 'N' 'N' 'N' 'N' 'N' 'N' 'N' 'N' 'N' 'N' 'N' 'N' 'N'\n",
      " 'N' 'N' 'N' 'N' 'N' 'N' 'N' 'N' 'N' 'N' 'N' 'N' 'N' 'N' 'N' 'N' 'N' 'N'\n",
      " 'N' 'N' 'N' 'N' 'N' 'N' 'N' 'N' 'N' 'N' 'N' 'N' 'N' 'N' 'N' 'N' 'N' 'N'\n",
      " 'N' 'N' 'N' 'N' 'N' 'N' 'N' 'N' 'N' 'N' 'N' 'N' 'N' 'N' 'N' 'N' 'N' 'N'\n",
      " 'N' 'N' 'N' 'N' 'N' 'N' 'N' 'N' 'N' 'N' 'N' 'N' 'N' 'N' 'N' 'N' 'N' 'N'\n",
      " 'N' 'N' 'N' 'N' 'N' 'N' 'N' 'N' 'N' 'N' 'N' 'N' 'N' 'N' 'N' 'N' 'N' 'N'\n",
      " 'N' 'N' 'N' 'N' 'N' 'N' 'N' 'N' 'N' 'N' 'N' 'N' 'N' 'N' 'N' 'N' 'N' 'N'\n",
      " 'N' 'N' 'N' 'N' 'N' 'N' 'N' 'N' 'N' 'N' 'N' 'N' 'N' 'N' 'N' 'N' 'N' 'N'\n",
      " 'N' 'N' 'N' 'N' 'N' 'N' 'N' 'N' 'N' 'N' 'N' 'N' 'N' 'N' 'N' 'N' 'N' 'N'\n",
      " 'N' 'N' 'N' 'N' 'N' 'N' 'N' 'N' 'N' 'N' 'N' 'N' 'N' 'N' 'N' 'N' 'N' 'N'\n",
      " 'N' 'AF' 'AF' 'AF' 'AF' 'AF' 'AF' 'AF' 'AF' 'AF' 'AF' 'AF' 'AF' 'AF' 'AF'\n",
      " 'AF' 'AF' 'AF' 'AF' 'AF' 'AF' 'AF' 'AF' 'AF' 'AF' 'AF' 'AF' 'AF' 'AF'\n",
      " 'AF' 'AF' 'AF' 'AF' 'AF' 'AF' 'AF' 'AF' 'AF' 'AF' 'AF' 'AF' 'AF' 'AF'\n",
      " 'AF' 'AF' 'AF' 'AF' 'AF' 'AF' 'AF' 'AF' 'AF' 'AF' 'AF' 'AF' 'AF' 'AF'\n",
      " 'AF' 'AF' 'AF' 'AF' 'AF' 'AF' 'AF' 'AF' 'AF' 'AF' 'AF' 'AF' 'AF' 'AF'\n",
      " 'AF' 'AF' 'AF' 'AF' 'AF' 'AF' 'AF' 'AF' 'AF' 'AF' 'AF' 'AF' 'AF' 'AF'\n",
      " 'AF' 'AF' 'AF' 'AF' 'AF' 'AF' 'AF' 'AF' 'AF' 'AF' 'AF' 'AF' 'AF' 'AF']\n",
      " categorical label :  ['AF' 'N']\n",
      "[1 1 1 1 1 1 1 1 1 1 1 1 1 1 1 1 1 1 1 1 1 1 1 1 1 1 1 1 1 1 1 1 1 1 1 1 1\n",
      " 1 1 1 1 1 1 1 1 1 1 1 1 1 1 1 1 1 1 1 1 1 1 1 1 1 1 1 1 1 1 1 1 1 1 1 1 1\n",
      " 1 1 1 1 1 1 1 1 1 1 1 1 1 1 1 1 1 1 1 1 1 1 1 1 1 1 1 1 1 1 1 1 1 1 1 1 1\n",
      " 1 1 1 1 1 1 1 1 1 1 1 1 1 1 1 1 1 1 1 1 1 1 1 1 1 1 1 1 1 1 1 1 1 1 1 1 1\n",
      " 1 1 1 1 1 1 1 1 1 1 1 1 1 1 1 1 1 1 1 1 1 1 1 1 1 1 1 1 1 1 1 1 1 1 1 1 1\n",
      " 1 1 1 1 1 1 1 1 1 1 1 1 1 1 1 1 1 1 1 1 1 1 1 1 1 1 1 1 1 1 1 1 1 1 1 1 1\n",
      " 1 1 1 1 1 1 1 1 1 1 1 1 1 1 1 1 1 1 1 1 1 1 1 1 1 1 1 1 1 1 1 1 1 1 1 1 1\n",
      " 1 1 1 1 1 1 1 1 1 1 1 1 1 1 1 1 1 1 1 1 1 1 1 1 1 1 1 1 1 1 1 1 1 1 1 1 1\n",
      " 1 1 1 1 1 1 1 1 1 1 1 1 1 1 1 1 1 1 1 1 1 1 1 1 1 1 1 1 1 1 1 1 1 1 1 1 1\n",
      " 1 1 1 1 1 1 1 1 1 1 1 1 1 1 1 1 1 1 1 1 1 1 1 1 1 1 1 1 1 1 1 1 1 1 1 1 1\n",
      " 1 1 1 1 1 1 1 1 1 1 1 1 1 1 1 1 1 1 1 1 1 1 1 1 1 1 1 1 1 1 1 1 1 1 1 1 1\n",
      " 1 1 1 1 1 1 1 1 1 1 1 1 1 1 1 1 1 1 1 1 1 1 1 1 1 1 1 1 1 1 1 1 1 1 1 1 1\n",
      " 1 1 1 1 1 1 1 1 1 1 1 1 1 1 1 1 1 1 1 1 1 1 1 1 1 1 1 1 1 1 1 1 1 1 1 1 1\n",
      " 1 1 1 1 1 1 1 1 1 1 1 1 1 1 1 1 1 1 1 1 1 1 1 1 1 1 1 1 1 1 1 1 1 1 1 1 1\n",
      " 1 1 1 1 1 1 1 1 1 1 1 1 1 1 1 1 1 1 1 1 1 1 1 1 1 1 1 1 1 1 1 1 1 1 1 1 1\n",
      " 1 1 1 1 1 1 1 1 1 1 1 1 1 1 1 1 1 1 1 1 1 1 1 1 1 1 1 1 1 1 1 1 1 1 1 1 1\n",
      " 1 1 1 1 1 1 1 1 1 1 1 1 1 1 1 1 1 1 1 1 1 0 0 0 0 0 0 0 0 0 0 0 0 0 0 0 0\n",
      " 0 0 0 0 0 0 0 0 0 0 0 0 0 0 0 0 0 0 0 0 0 0 0 0 0 0 0 0 0 0 0 0 0 0 0 0 0\n",
      " 0 0 0 0 0 0 0 0 0 0 0 0 0 0 0 0 0 0 0 0 0 0 0 0 0 0 0 0 0 0 0 0 0 0 0 0 0\n",
      " 0 0 0 0 0 0 0 0]\n"
     ]
    }
   ],
   "source": [
    "X = ecg_df.iloc[:,:150].values\n",
    "y = ecg_df.iloc[:,150].values\n",
    "\n",
    "print(y)\n",
    "le = LabelEncoder()\n",
    "le.fit(y)\n",
    "\n",
    "labels = le.classes_\n",
    "print(\" categorical label : \", labels)\n",
    "\n",
    "y = le.transform(y)\n",
    "print(y)"
   ]
  },
  {
   "cell_type": "code",
   "execution_count": 7,
   "metadata": {},
   "outputs": [],
   "source": [
    "X_train, X_test, y_train, y_test = train_test_split(\n",
    "                                    X, y, test_size=0.33, random_state=42)"
   ]
  },
  {
   "cell_type": "code",
   "execution_count": 8,
   "metadata": {},
   "outputs": [],
   "source": [
    "train_df = pd.DataFrame(np.hstack((X_train, np.expand_dims(y_train, 1))))\n",
    "test_df = pd.DataFrame(np.hstack((X_test, np.expand_dims(y_test, 1))))"
   ]
  },
  {
   "cell_type": "markdown",
   "metadata": {},
   "source": [
    "- 1 sequence terdiri dari 150 titik data , kolom terakhir merupakan label untuk tiap sequence"
   ]
  },
  {
   "cell_type": "code",
   "execution_count": 9,
   "metadata": {},
   "outputs": [
    {
     "data": {
      "text/html": [
       "<div>\n",
       "<style scoped>\n",
       "    .dataframe tbody tr th:only-of-type {\n",
       "        vertical-align: middle;\n",
       "    }\n",
       "\n",
       "    .dataframe tbody tr th {\n",
       "        vertical-align: top;\n",
       "    }\n",
       "\n",
       "    .dataframe thead th {\n",
       "        text-align: right;\n",
       "    }\n",
       "</style>\n",
       "<table border=\"1\" class=\"dataframe\">\n",
       "  <thead>\n",
       "    <tr style=\"text-align: right;\">\n",
       "      <th></th>\n",
       "      <th>0</th>\n",
       "      <th>1</th>\n",
       "      <th>2</th>\n",
       "      <th>3</th>\n",
       "      <th>4</th>\n",
       "      <th>5</th>\n",
       "      <th>6</th>\n",
       "      <th>7</th>\n",
       "      <th>8</th>\n",
       "      <th>9</th>\n",
       "      <th>...</th>\n",
       "      <th>141</th>\n",
       "      <th>142</th>\n",
       "      <th>143</th>\n",
       "      <th>144</th>\n",
       "      <th>145</th>\n",
       "      <th>146</th>\n",
       "      <th>147</th>\n",
       "      <th>148</th>\n",
       "      <th>149</th>\n",
       "      <th>150</th>\n",
       "    </tr>\n",
       "  </thead>\n",
       "  <tbody>\n",
       "    <tr>\n",
       "      <th>0</th>\n",
       "      <td>0.432428</td>\n",
       "      <td>0.179529</td>\n",
       "      <td>-0.474501</td>\n",
       "      <td>-0.362158</td>\n",
       "      <td>-0.004248</td>\n",
       "      <td>0.147136</td>\n",
       "      <td>0.172163</td>\n",
       "      <td>0.219679</td>\n",
       "      <td>0.243939</td>\n",
       "      <td>0.267877</td>\n",
       "      <td>...</td>\n",
       "      <td>0.0</td>\n",
       "      <td>0.0</td>\n",
       "      <td>0.0</td>\n",
       "      <td>0.0</td>\n",
       "      <td>0.0</td>\n",
       "      <td>0.0</td>\n",
       "      <td>0.0</td>\n",
       "      <td>0.0</td>\n",
       "      <td>0.0</td>\n",
       "      <td>1.0</td>\n",
       "    </tr>\n",
       "    <tr>\n",
       "      <th>1</th>\n",
       "      <td>0.724366</td>\n",
       "      <td>0.532576</td>\n",
       "      <td>-0.183660</td>\n",
       "      <td>-0.744779</td>\n",
       "      <td>-0.396373</td>\n",
       "      <td>0.100900</td>\n",
       "      <td>0.298176</td>\n",
       "      <td>0.326458</td>\n",
       "      <td>0.366625</td>\n",
       "      <td>0.381329</td>\n",
       "      <td>...</td>\n",
       "      <td>0.0</td>\n",
       "      <td>0.0</td>\n",
       "      <td>0.0</td>\n",
       "      <td>0.0</td>\n",
       "      <td>0.0</td>\n",
       "      <td>0.0</td>\n",
       "      <td>0.0</td>\n",
       "      <td>0.0</td>\n",
       "      <td>0.0</td>\n",
       "      <td>1.0</td>\n",
       "    </tr>\n",
       "    <tr>\n",
       "      <th>2</th>\n",
       "      <td>0.249608</td>\n",
       "      <td>0.238417</td>\n",
       "      <td>0.172566</td>\n",
       "      <td>0.167803</td>\n",
       "      <td>0.162828</td>\n",
       "      <td>0.171247</td>\n",
       "      <td>0.172615</td>\n",
       "      <td>0.153298</td>\n",
       "      <td>0.181374</td>\n",
       "      <td>0.188729</td>\n",
       "      <td>...</td>\n",
       "      <td>0.0</td>\n",
       "      <td>0.0</td>\n",
       "      <td>0.0</td>\n",
       "      <td>0.0</td>\n",
       "      <td>0.0</td>\n",
       "      <td>0.0</td>\n",
       "      <td>0.0</td>\n",
       "      <td>0.0</td>\n",
       "      <td>0.0</td>\n",
       "      <td>1.0</td>\n",
       "    </tr>\n",
       "    <tr>\n",
       "      <th>3</th>\n",
       "      <td>0.821015</td>\n",
       "      <td>0.743822</td>\n",
       "      <td>-0.045289</td>\n",
       "      <td>-0.929037</td>\n",
       "      <td>-0.672779</td>\n",
       "      <td>-0.050150</td>\n",
       "      <td>0.376276</td>\n",
       "      <td>0.458104</td>\n",
       "      <td>0.492375</td>\n",
       "      <td>0.580759</td>\n",
       "      <td>...</td>\n",
       "      <td>0.0</td>\n",
       "      <td>0.0</td>\n",
       "      <td>0.0</td>\n",
       "      <td>0.0</td>\n",
       "      <td>0.0</td>\n",
       "      <td>0.0</td>\n",
       "      <td>0.0</td>\n",
       "      <td>0.0</td>\n",
       "      <td>0.0</td>\n",
       "      <td>1.0</td>\n",
       "    </tr>\n",
       "    <tr>\n",
       "      <th>4</th>\n",
       "      <td>0.900918</td>\n",
       "      <td>0.296124</td>\n",
       "      <td>-0.619141</td>\n",
       "      <td>-0.796698</td>\n",
       "      <td>-0.318660</td>\n",
       "      <td>0.221437</td>\n",
       "      <td>0.350068</td>\n",
       "      <td>0.427264</td>\n",
       "      <td>0.484681</td>\n",
       "      <td>0.516084</td>\n",
       "      <td>...</td>\n",
       "      <td>0.0</td>\n",
       "      <td>0.0</td>\n",
       "      <td>0.0</td>\n",
       "      <td>0.0</td>\n",
       "      <td>0.0</td>\n",
       "      <td>0.0</td>\n",
       "      <td>0.0</td>\n",
       "      <td>0.0</td>\n",
       "      <td>0.0</td>\n",
       "      <td>1.0</td>\n",
       "    </tr>\n",
       "  </tbody>\n",
       "</table>\n",
       "<p>5 rows × 151 columns</p>\n",
       "</div>"
      ],
      "text/plain": [
       "        0         1         2         3         4         5         6    \\\n",
       "0  0.432428  0.179529 -0.474501 -0.362158 -0.004248  0.147136  0.172163   \n",
       "1  0.724366  0.532576 -0.183660 -0.744779 -0.396373  0.100900  0.298176   \n",
       "2  0.249608  0.238417  0.172566  0.167803  0.162828  0.171247  0.172615   \n",
       "3  0.821015  0.743822 -0.045289 -0.929037 -0.672779 -0.050150  0.376276   \n",
       "4  0.900918  0.296124 -0.619141 -0.796698 -0.318660  0.221437  0.350068   \n",
       "\n",
       "        7         8         9    ...  141  142  143  144  145  146  147  148  \\\n",
       "0  0.219679  0.243939  0.267877  ...  0.0  0.0  0.0  0.0  0.0  0.0  0.0  0.0   \n",
       "1  0.326458  0.366625  0.381329  ...  0.0  0.0  0.0  0.0  0.0  0.0  0.0  0.0   \n",
       "2  0.153298  0.181374  0.188729  ...  0.0  0.0  0.0  0.0  0.0  0.0  0.0  0.0   \n",
       "3  0.458104  0.492375  0.580759  ...  0.0  0.0  0.0  0.0  0.0  0.0  0.0  0.0   \n",
       "4  0.427264  0.484681  0.516084  ...  0.0  0.0  0.0  0.0  0.0  0.0  0.0  0.0   \n",
       "\n",
       "   149  150  \n",
       "0  0.0  1.0  \n",
       "1  0.0  1.0  \n",
       "2  0.0  1.0  \n",
       "3  0.0  1.0  \n",
       "4  0.0  1.0  \n",
       "\n",
       "[5 rows x 151 columns]"
      ]
     },
     "execution_count": 9,
     "metadata": {},
     "output_type": "execute_result"
    }
   ],
   "source": [
    "train_df.head()"
   ]
  },
  {
   "cell_type": "markdown",
   "metadata": {},
   "source": [
    "## Balancing Dataset\n",
    "Untuk kebutuhan training model, kita akan atur agar sample tiap class memiliki proporsi yang sama."
   ]
  },
  {
   "cell_type": "code",
   "execution_count": 10,
   "metadata": {},
   "outputs": [
    {
     "name": "stdout",
     "output_type": "stream",
     "text": [
      "1    406\n",
      "0     70\n",
      "Name: 150, dtype: int64\n"
     ]
    }
   ],
   "source": [
    "#print dataset distribution\n",
    "\n",
    "train_df[150]=train_df[150].astype(int)\n",
    "equilibre=train_df[150].value_counts()\n",
    "\n",
    "print(equilibre)"
   ]
  },
  {
   "cell_type": "markdown",
   "metadata": {},
   "source": [
    "- Terlihat jika tiap katerogi memiliki jumlah sample yang berbeda."
   ]
  },
  {
   "cell_type": "code",
   "execution_count": 11,
   "metadata": {},
   "outputs": [
    {
     "data": {
      "image/png": "[encoded data removed]",
      "text/plain": [
       "<Figure size 1440x720 with 1 Axes>"
      ]
     },
     "metadata": {},
     "output_type": "display_data"
    }
   ],
   "source": [
    "plt.figure(figsize=(20,10))\n",
    "\n",
    "my_circle = plt.Circle( (0,0), 0.7, color='white')\n",
    "plt.pie(equilibre, \n",
    "        labels=labels, \n",
    "        colors=['red','green'],\n",
    "        autopct='%1.1f%%')\n",
    "\n",
    "p = plt.gcf()\n",
    "p.gca().add_artist(my_circle)\n",
    "plt.show()"
   ]
  },
  {
   "cell_type": "markdown",
   "metadata": {},
   "source": [
    "- kita akan membuat seluruh class memiliki jumlah sample sebanyak 20000. \n",
    "- Sehingga untuk class `0` yang memiliki sample 72471, akan dilakukan pemilihan acak sebanyak 20000 dengan menggunakan Pandas Dataframe `.sample()`.\n",
    "- Untuk class lainya, karena dibawah 20000 sample, akan diterapkan proses upsampling menjadi 20000 sample menggunakan sklearn `resample()`."
   ]
  },
  {
   "cell_type": "code",
   "execution_count": 12,
   "metadata": {},
   "outputs": [],
   "source": [
    "# sampling and resampling dataset\n",
    "\n",
    "from sklearn.utils import resample\n",
    " \n",
    "random_states = [42, 123]\n",
    "\n",
    "dfs = []\n",
    "\n",
    "for i in range(len(equilibre)):\n",
    "    dfs.append(train_df[train_df[150]==i])\n",
    "    if(equilibre[i] > n_samples) :\n",
    "        dfs[i]=dfs[i].sample(n=n_samples ,random_state=random_states[i])\n",
    "    else :\n",
    "        dfs[i]=resample(dfs[i],replace=True,n_samples=n_samples,random_state=random_states[i])\n",
    "\n",
    "train_df=pd.concat(dfs)"
   ]
  },
  {
   "cell_type": "code",
   "execution_count": 13,
   "metadata": {},
   "outputs": [
    {
     "data": {
      "text/html": [
       "<div>\n",
       "<style scoped>\n",
       "    .dataframe tbody tr th:only-of-type {\n",
       "        vertical-align: middle;\n",
       "    }\n",
       "\n",
       "    .dataframe tbody tr th {\n",
       "        vertical-align: top;\n",
       "    }\n",
       "\n",
       "    .dataframe thead th {\n",
       "        text-align: right;\n",
       "    }\n",
       "</style>\n",
       "<table border=\"1\" class=\"dataframe\">\n",
       "  <thead>\n",
       "    <tr style=\"text-align: right;\">\n",
       "      <th></th>\n",
       "      <th>0</th>\n",
       "      <th>1</th>\n",
       "      <th>2</th>\n",
       "      <th>3</th>\n",
       "      <th>4</th>\n",
       "      <th>5</th>\n",
       "      <th>6</th>\n",
       "      <th>7</th>\n",
       "      <th>8</th>\n",
       "      <th>9</th>\n",
       "      <th>...</th>\n",
       "      <th>141</th>\n",
       "      <th>142</th>\n",
       "      <th>143</th>\n",
       "      <th>144</th>\n",
       "      <th>145</th>\n",
       "      <th>146</th>\n",
       "      <th>147</th>\n",
       "      <th>148</th>\n",
       "      <th>149</th>\n",
       "      <th>150</th>\n",
       "    </tr>\n",
       "  </thead>\n",
       "  <tbody>\n",
       "    <tr>\n",
       "      <th>327</th>\n",
       "      <td>0.753415</td>\n",
       "      <td>0.161260</td>\n",
       "      <td>-0.768017</td>\n",
       "      <td>-0.765203</td>\n",
       "      <td>-0.188690</td>\n",
       "      <td>0.252286</td>\n",
       "      <td>0.356220</td>\n",
       "      <td>0.391988</td>\n",
       "      <td>0.419407</td>\n",
       "      <td>0.468425</td>\n",
       "      <td>...</td>\n",
       "      <td>0.0</td>\n",
       "      <td>0.0</td>\n",
       "      <td>0.0</td>\n",
       "      <td>0.0</td>\n",
       "      <td>0.0</td>\n",
       "      <td>0.0</td>\n",
       "      <td>0.0</td>\n",
       "      <td>0.0</td>\n",
       "      <td>0.0</td>\n",
       "      <td>0</td>\n",
       "    </tr>\n",
       "    <tr>\n",
       "      <th>100</th>\n",
       "      <td>0.568983</td>\n",
       "      <td>0.569567</td>\n",
       "      <td>0.135903</td>\n",
       "      <td>-0.593611</td>\n",
       "      <td>-0.553513</td>\n",
       "      <td>-0.098980</td>\n",
       "      <td>0.222225</td>\n",
       "      <td>0.283743</td>\n",
       "      <td>0.302346</td>\n",
       "      <td>0.338291</td>\n",
       "      <td>...</td>\n",
       "      <td>0.0</td>\n",
       "      <td>0.0</td>\n",
       "      <td>0.0</td>\n",
       "      <td>0.0</td>\n",
       "      <td>0.0</td>\n",
       "      <td>0.0</td>\n",
       "      <td>0.0</td>\n",
       "      <td>0.0</td>\n",
       "      <td>0.0</td>\n",
       "      <td>0</td>\n",
       "    </tr>\n",
       "    <tr>\n",
       "      <th>384</th>\n",
       "      <td>0.595384</td>\n",
       "      <td>0.357464</td>\n",
       "      <td>-0.383257</td>\n",
       "      <td>-1.000000</td>\n",
       "      <td>-0.566441</td>\n",
       "      <td>-0.036782</td>\n",
       "      <td>0.296529</td>\n",
       "      <td>0.398761</td>\n",
       "      <td>0.416280</td>\n",
       "      <td>0.488483</td>\n",
       "      <td>...</td>\n",
       "      <td>0.0</td>\n",
       "      <td>0.0</td>\n",
       "      <td>0.0</td>\n",
       "      <td>0.0</td>\n",
       "      <td>0.0</td>\n",
       "      <td>0.0</td>\n",
       "      <td>0.0</td>\n",
       "      <td>0.0</td>\n",
       "      <td>0.0</td>\n",
       "      <td>0</td>\n",
       "    </tr>\n",
       "    <tr>\n",
       "      <th>139</th>\n",
       "      <td>0.683539</td>\n",
       "      <td>0.667673</td>\n",
       "      <td>0.135474</td>\n",
       "      <td>-0.738994</td>\n",
       "      <td>-0.653296</td>\n",
       "      <td>-0.143754</td>\n",
       "      <td>0.329989</td>\n",
       "      <td>0.412782</td>\n",
       "      <td>0.418140</td>\n",
       "      <td>0.464545</td>\n",
       "      <td>...</td>\n",
       "      <td>0.0</td>\n",
       "      <td>0.0</td>\n",
       "      <td>0.0</td>\n",
       "      <td>0.0</td>\n",
       "      <td>0.0</td>\n",
       "      <td>0.0</td>\n",
       "      <td>0.0</td>\n",
       "      <td>0.0</td>\n",
       "      <td>0.0</td>\n",
       "      <td>0</td>\n",
       "    </tr>\n",
       "    <tr>\n",
       "      <th>143</th>\n",
       "      <td>0.507142</td>\n",
       "      <td>0.276167</td>\n",
       "      <td>-0.359231</td>\n",
       "      <td>-0.386771</td>\n",
       "      <td>-0.020322</td>\n",
       "      <td>0.136565</td>\n",
       "      <td>0.164723</td>\n",
       "      <td>0.197264</td>\n",
       "      <td>0.229473</td>\n",
       "      <td>0.242376</td>\n",
       "      <td>...</td>\n",
       "      <td>0.0</td>\n",
       "      <td>0.0</td>\n",
       "      <td>0.0</td>\n",
       "      <td>0.0</td>\n",
       "      <td>0.0</td>\n",
       "      <td>0.0</td>\n",
       "      <td>0.0</td>\n",
       "      <td>0.0</td>\n",
       "      <td>0.0</td>\n",
       "      <td>0</td>\n",
       "    </tr>\n",
       "  </tbody>\n",
       "</table>\n",
       "<p>5 rows × 151 columns</p>\n",
       "</div>"
      ],
      "text/plain": [
       "          0         1         2         3         4         5         6    \\\n",
       "327  0.753415  0.161260 -0.768017 -0.765203 -0.188690  0.252286  0.356220   \n",
       "100  0.568983  0.569567  0.135903 -0.593611 -0.553513 -0.098980  0.222225   \n",
       "384  0.595384  0.357464 -0.383257 -1.000000 -0.566441 -0.036782  0.296529   \n",
       "139  0.683539  0.667673  0.135474 -0.738994 -0.653296 -0.143754  0.329989   \n",
       "143  0.507142  0.276167 -0.359231 -0.386771 -0.020322  0.136565  0.164723   \n",
       "\n",
       "          7         8         9    ...  141  142  143  144  145  146  147  \\\n",
       "327  0.391988  0.419407  0.468425  ...  0.0  0.0  0.0  0.0  0.0  0.0  0.0   \n",
       "100  0.283743  0.302346  0.338291  ...  0.0  0.0  0.0  0.0  0.0  0.0  0.0   \n",
       "384  0.398761  0.416280  0.488483  ...  0.0  0.0  0.0  0.0  0.0  0.0  0.0   \n",
       "139  0.412782  0.418140  0.464545  ...  0.0  0.0  0.0  0.0  0.0  0.0  0.0   \n",
       "143  0.197264  0.229473  0.242376  ...  0.0  0.0  0.0  0.0  0.0  0.0  0.0   \n",
       "\n",
       "     148  149  150  \n",
       "327  0.0  0.0    0  \n",
       "100  0.0  0.0    0  \n",
       "384  0.0  0.0    0  \n",
       "139  0.0  0.0    0  \n",
       "143  0.0  0.0    0  \n",
       "\n",
       "[5 rows x 151 columns]"
      ]
     },
     "execution_count": 13,
     "metadata": {},
     "output_type": "execute_result"
    }
   ],
   "source": [
    "train_df.head()"
   ]
  },
  {
   "cell_type": "markdown",
   "metadata": {},
   "source": [
    "Sekarang kita memiliki dataset yang sudah balance."
   ]
  },
  {
   "cell_type": "code",
   "execution_count": 14,
   "metadata": {},
   "outputs": [
    {
     "name": "stdout",
     "output_type": "stream",
     "text": [
      "1    400\n",
      "0    400\n",
      "Name: 150, dtype: int64\n"
     ]
    }
   ],
   "source": [
    "# cek balanced dataset\n",
    "\n",
    "equilibre=train_df[150].value_counts()\n",
    "\n",
    "print(equilibre)"
   ]
  },
  {
   "cell_type": "markdown",
   "metadata": {},
   "source": [
    "## Understanding ECG Signal\n",
    "- Sekarang kita ambil 1 sample tiap class untuk melihat profile heart beat masing-masing class.\n",
    "- Ini berguna untuk kita agar dapat memahami karakteristik sinyal ECG untuk tiap class.\n",
    "- Task ini mudah dilakukan menggunakan pandas,  `.groupby()` pada kolom 187 (kolom class) dan dengan menggunakan fungsi `.apply()` kita ambil 1 sample data menggunakan `.sample()`."
   ]
  },
  {
   "cell_type": "code",
   "execution_count": 15,
   "metadata": {},
   "outputs": [],
   "source": [
    "ECG_PER_CLASS =train_df.groupby(150,group_keys=False).apply(lambda train_df : train_df.sample(1))"
   ]
  },
  {
   "cell_type": "code",
   "execution_count": 16,
   "metadata": {},
   "outputs": [
    {
     "data": {
      "text/html": [
       "<div>\n",
       "<style scoped>\n",
       "    .dataframe tbody tr th:only-of-type {\n",
       "        vertical-align: middle;\n",
       "    }\n",
       "\n",
       "    .dataframe tbody tr th {\n",
       "        vertical-align: top;\n",
       "    }\n",
       "\n",
       "    .dataframe thead th {\n",
       "        text-align: right;\n",
       "    }\n",
       "</style>\n",
       "<table border=\"1\" class=\"dataframe\">\n",
       "  <thead>\n",
       "    <tr style=\"text-align: right;\">\n",
       "      <th></th>\n",
       "      <th>0</th>\n",
       "      <th>1</th>\n",
       "      <th>2</th>\n",
       "      <th>3</th>\n",
       "      <th>4</th>\n",
       "      <th>5</th>\n",
       "      <th>6</th>\n",
       "      <th>7</th>\n",
       "      <th>8</th>\n",
       "      <th>9</th>\n",
       "      <th>...</th>\n",
       "      <th>141</th>\n",
       "      <th>142</th>\n",
       "      <th>143</th>\n",
       "      <th>144</th>\n",
       "      <th>145</th>\n",
       "      <th>146</th>\n",
       "      <th>147</th>\n",
       "      <th>148</th>\n",
       "      <th>149</th>\n",
       "      <th>150</th>\n",
       "    </tr>\n",
       "  </thead>\n",
       "  <tbody>\n",
       "    <tr>\n",
       "      <th>307</th>\n",
       "      <td>0.234320</td>\n",
       "      <td>0.258378</td>\n",
       "      <td>0.289492</td>\n",
       "      <td>0.264957</td>\n",
       "      <td>0.296196</td>\n",
       "      <td>0.271744</td>\n",
       "      <td>0.303024</td>\n",
       "      <td>0.299462</td>\n",
       "      <td>0.295860</td>\n",
       "      <td>0.306121</td>\n",
       "      <td>...</td>\n",
       "      <td>0.0</td>\n",
       "      <td>0.0</td>\n",
       "      <td>0.0</td>\n",
       "      <td>0.0</td>\n",
       "      <td>0.0</td>\n",
       "      <td>0.0</td>\n",
       "      <td>0.0</td>\n",
       "      <td>0.0</td>\n",
       "      <td>0.0</td>\n",
       "      <td>0</td>\n",
       "    </tr>\n",
       "    <tr>\n",
       "      <th>19</th>\n",
       "      <td>0.856854</td>\n",
       "      <td>0.756239</td>\n",
       "      <td>0.076578</td>\n",
       "      <td>-0.838353</td>\n",
       "      <td>-0.675764</td>\n",
       "      <td>-0.060817</td>\n",
       "      <td>0.373573</td>\n",
       "      <td>0.424304</td>\n",
       "      <td>0.435299</td>\n",
       "      <td>0.492593</td>\n",
       "      <td>...</td>\n",
       "      <td>0.0</td>\n",
       "      <td>0.0</td>\n",
       "      <td>0.0</td>\n",
       "      <td>0.0</td>\n",
       "      <td>0.0</td>\n",
       "      <td>0.0</td>\n",
       "      <td>0.0</td>\n",
       "      <td>0.0</td>\n",
       "      <td>0.0</td>\n",
       "      <td>1</td>\n",
       "    </tr>\n",
       "  </tbody>\n",
       "</table>\n",
       "<p>2 rows × 151 columns</p>\n",
       "</div>"
      ],
      "text/plain": [
       "          0         1         2         3         4         5         6    \\\n",
       "307  0.234320  0.258378  0.289492  0.264957  0.296196  0.271744  0.303024   \n",
       "19   0.856854  0.756239  0.076578 -0.838353 -0.675764 -0.060817  0.373573   \n",
       "\n",
       "          7         8         9    ...  141  142  143  144  145  146  147  \\\n",
       "307  0.299462  0.295860  0.306121  ...  0.0  0.0  0.0  0.0  0.0  0.0  0.0   \n",
       "19   0.424304  0.435299  0.492593  ...  0.0  0.0  0.0  0.0  0.0  0.0  0.0   \n",
       "\n",
       "     148  149  150  \n",
       "307  0.0  0.0    0  \n",
       "19   0.0  0.0    1  \n",
       "\n",
       "[2 rows x 151 columns]"
      ]
     },
     "execution_count": 16,
     "metadata": {},
     "output_type": "execute_result"
    }
   ],
   "source": [
    "ECG_PER_CLASS"
   ]
  },
  {
   "cell_type": "markdown",
   "metadata": {},
   "source": [
    "- Pertama kita plot tiap sample pada dataframe `ECG_PER_CLASS` menggunakan pandas `.plot()`.\n",
    "- Setelah itu kita plot 2D histogram untuk keseluruhan sample ECG tiap class menggunakan fungsi `plot_hist()` yang kita buat dibawah.\n",
    "- Pada plot histogram, daerah dengan intensitas lebih terang menandakan banyak titik sample pada waktu dan nilai ECG tersebut.\n",
    "- Sebaliknya untuk daerah yang lebih gelap."
   ]
  },
  {
   "cell_type": "code",
   "execution_count": 17,
   "metadata": {},
   "outputs": [],
   "source": [
    "def plot_1_sample(class_number, fs=125):\n",
    "    data = ECG_PER_CLASS.iloc[class_number,:150]\n",
    "    times = np.arange(data.shape[0], dtype='float') / fs * 1000\n",
    "    \n",
    "    plt.plot(times, data)\n",
    "    plt.title(\"Plot 1 sample in class \" + str(class_number))\n",
    "    plt.xlabel(\"Time (ms)\")\n",
    "    plt.ylabel(\"Normalized Value\")\n",
    "    plt.show()"
   ]
  },
  {
   "cell_type": "code",
   "execution_count": 18,
   "metadata": {},
   "outputs": [],
   "source": [
    "def plot_hist(class_number, min_, size, fs=125):\n",
    "    # filter data berdasarkan class_number \n",
    "    ECG=train_df.loc[train_df[150]==class_number].values\n",
    "    \n",
    "    # scale tm value (*1000) agar bisa ditampilkan dalam satuam (ms)\n",
    "    tm = np.arange(ECG.shape[1], dtype='float') / fs * 1000\n",
    "    \n",
    "    # ambil data hanya pada kolom `min_` sampai `size`\n",
    "    # convert ke 1D array\n",
    "    ECG=ECG[:,min_:size]\n",
    "    ECG_flatten=ECG.flatten()\n",
    "    \n",
    "    # generate time data untuk tiap kolom sample, \n",
    "    # ulang sebanyak ECG.shape[0]\n",
    "    times = np.tile(tm[min_:size], ECG.shape[0]) \n",
    "\n",
    "    # plot sebagai 2D histogram\n",
    "    plt.hist2d(times, ECG_flatten, bins=(80,80), cmap=plt.cm.jet)\n",
    "    plt.title(\"2D histogram on class \" + str(class_number))\n",
    "    plt.xlabel(\"Time (ms)\")\n",
    "    plt.ylabel(\"Normalized Value\")\n",
    "    plt.show()"
   ]
  },
  {
   "cell_type": "code",
   "execution_count": 19,
   "metadata": {},
   "outputs": [
    {
     "data": {
      "image/png": "[encoded data removed]",
      "text/plain": [
       "<Figure size 432x288 with 1 Axes>"
      ]
     },
     "metadata": {
      "needs_background": "light"
     },
     "output_type": "display_data"
    }
   ],
   "source": [
    "plot_1_sample(class_number=0)"
   ]
  },
  {
   "cell_type": "code",
   "execution_count": 20,
   "metadata": {},
   "outputs": [
    {
     "data": {
      "image/png": "[encoded data removed]",
      "text/plain": [
       "<Figure size 432x288 with 1 Axes>"
      ]
     },
     "metadata": {
      "needs_background": "light"
     },
     "output_type": "display_data"
    }
   ],
   "source": [
    "plot_hist(class_number=0, min_=0, size=80)"
   ]
  },
  {
   "cell_type": "code",
   "execution_count": 21,
   "metadata": {},
   "outputs": [
    {
     "data": {
      "image/png": "[encoded data removed]",
      "text/plain": [
       "<Figure size 432x288 with 1 Axes>"
      ]
     },
     "metadata": {
      "needs_background": "light"
     },
     "output_type": "display_data"
    }
   ],
   "source": [
    "plot_1_sample(class_number=1)"
   ]
  },
  {
   "cell_type": "code",
   "execution_count": 22,
   "metadata": {},
   "outputs": [
    {
     "data": {
      "image/png": "[encoded data removed]",
      "text/plain": [
       "<Figure size 432x288 with 1 Axes>"
      ]
     },
     "metadata": {
      "needs_background": "light"
     },
     "output_type": "display_data"
    }
   ],
   "source": [
    "plot_hist(class_number=1, min_=0, size=80)"
   ]
  },
  {
   "cell_type": "markdown",
   "metadata": {},
   "source": [
    "### Save Balanced Training Data and Test Data"
   ]
  },
  {
   "cell_type": "code",
   "execution_count": 23,
   "metadata": {},
   "outputs": [],
   "source": [
    "train_df.to_csv(dataset_folder + \"train_AFDB_%s_balanced.csv\" % record, header=None, index=None)\n",
    "test_df.to_csv(dataset_folder + \"test_AFDB_%s.csv\" % record, header=None, index=None)"
   ]
  },
  {
   "cell_type": "code",
   "execution_count": null,
   "metadata": {},
   "outputs": [],
   "source": []
  }
 ],
 "metadata": {
  "kernelspec": {
   "display_name": "Python [conda env:GPU_ENV]",
   "language": "python",
   "name": "conda-env-GPU_ENV-py"
  },
  "language_info": {
   "codemirror_mode": {
    "name": "ipython",
    "version": 3
   },
   "file_extension": ".py",
   "mimetype": "text/x-python",
   "name": "python",
   "nbconvert_exporter": "python",
   "pygments_lexer": "ipython3",
   "version": "3.6.12"
  }
 },
 "nbformat": 4,
 "nbformat_minor": 4
}
