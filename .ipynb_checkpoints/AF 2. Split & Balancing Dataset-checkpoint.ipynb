{
 "cells": [
  {
   "cell_type": "markdown",
   "metadata": {},
   "source": [
    "# Load dataset\n",
    "\n",
    "**record name , balanced sample**\n",
    "- record 04015 -> 400\n",
    "- record 04043 -> 1000\n",
    "- record 04048 -> 900\n",
    "- record 04908 -> tidak bisa di split karena hanya AF\n",
    "- record 04936 -> 2000\n",
    "- record 05091 -> 1000, class 0 29\n",
    "- record 05121 -> 1000, class 0, 150\n",
    "- record 05261 -> 1000, class 0 105\n",
    "- record 06426 -> 2000\n",
    "- record 06453 -> 300\n",
    "- record 06995 -> 900\n",
    "- record 07910 -> 320\n",
    "- record 08215 -> 400"
   ]
  },
  {
   "cell_type": "code",
   "execution_count": 1,
   "metadata": {},
   "outputs": [],
   "source": [
    "import os\n",
    "\n",
    "dataset_folder = 'dataset/'\n",
    "filenames = []\n",
    "for filename in os.listdir(dataset_folder):\n",
    "    if filename.find('sequence') > -1 :\n",
    "        filenames.append(filename)"
   ]
  },
  {
   "cell_type": "code",
   "execution_count": 2,
   "metadata": {},
   "outputs": [
    {
     "data": {
      "text/plain": [
       "['AFDB_04015_sequence_300_pt.csv',\n",
       " 'AFDB_04043_sequence_300_pt.csv',\n",
       " 'AFDB_04048_sequence_300_pt.csv',\n",
       " 'AFDB_04126_sequence_300_pt.csv',\n",
       " 'AFDB_04908_sequence_300_pt.csv',\n",
       " 'AFDB_04936_sequence_300_pt.csv',\n",
       " 'AFDB_05091_sequence_300_pt.csv',\n",
       " 'AFDB_05121_sequence_300_pt.csv',\n",
       " 'AFDB_05261_sequence_300_pt.csv',\n",
       " 'AFDB_06426_sequence_300_pt.csv',\n",
       " 'AFDB_06453_sequence_300_pt.csv',\n",
       " 'AFDB_06995_sequence_300_pt.csv',\n",
       " 'AFDB_07910_sequence_300_pt.csv',\n",
       " 'AFDB_08215_sequence_300_pt.csv']"
      ]
     },
     "execution_count": 2,
     "metadata": {},
     "output_type": "execute_result"
    }
   ],
   "source": [
    "filenames"
   ]
  },
  {
   "cell_type": "code",
   "execution_count": 3,
   "metadata": {},
   "outputs": [],
   "source": [
    "import pandas as pd\n",
    "import numpy as np \n",
    "import matplotlib.pyplot as plt\n",
    "\n",
    "from sklearn.preprocessing import LabelEncoder\n",
    "from sklearn.model_selection import train_test_split"
   ]
  },
  {
   "cell_type": "markdown",
   "metadata": {},
   "source": [
    "- Split Dataset"
   ]
  },
  {
   "cell_type": "code",
   "execution_count": 4,
   "metadata": {},
   "outputs": [],
   "source": [
    "record = \"08215\""
   ]
  },
  {
   "cell_type": "code",
   "execution_count": 5,
   "metadata": {},
   "outputs": [],
   "source": [
    "ecg_df = pd.read_csv(dataset_folder + 'AFDB_%s_sequence_300_pt.csv' % record, header=None)"
   ]
  },
  {
   "cell_type": "code",
   "execution_count": 6,
   "metadata": {},
   "outputs": [
    {
     "data": {
      "text/html": [
       "<div>\n",
       "<style scoped>\n",
       "    .dataframe tbody tr th:only-of-type {\n",
       "        vertical-align: middle;\n",
       "    }\n",
       "\n",
       "    .dataframe tbody tr th {\n",
       "        vertical-align: top;\n",
       "    }\n",
       "\n",
       "    .dataframe thead th {\n",
       "        text-align: right;\n",
       "    }\n",
       "</style>\n",
       "<table border=\"1\" class=\"dataframe\">\n",
       "  <thead>\n",
       "    <tr style=\"text-align: right;\">\n",
       "      <th></th>\n",
       "      <th>0</th>\n",
       "      <th>1</th>\n",
       "      <th>2</th>\n",
       "      <th>3</th>\n",
       "      <th>4</th>\n",
       "      <th>5</th>\n",
       "      <th>6</th>\n",
       "      <th>7</th>\n",
       "      <th>8</th>\n",
       "      <th>9</th>\n",
       "      <th>...</th>\n",
       "      <th>291</th>\n",
       "      <th>292</th>\n",
       "      <th>293</th>\n",
       "      <th>294</th>\n",
       "      <th>295</th>\n",
       "      <th>296</th>\n",
       "      <th>297</th>\n",
       "      <th>298</th>\n",
       "      <th>299</th>\n",
       "      <th>300</th>\n",
       "    </tr>\n",
       "  </thead>\n",
       "  <tbody>\n",
       "    <tr>\n",
       "      <th>0</th>\n",
       "      <td>-0.006802</td>\n",
       "      <td>-0.005941</td>\n",
       "      <td>0.021012</td>\n",
       "      <td>-0.003950</td>\n",
       "      <td>-0.008009</td>\n",
       "      <td>-0.001562</td>\n",
       "      <td>0.004998</td>\n",
       "      <td>0.016876</td>\n",
       "      <td>0.008076</td>\n",
       "      <td>0.025412</td>\n",
       "      <td>...</td>\n",
       "      <td>0.0</td>\n",
       "      <td>0.0</td>\n",
       "      <td>0.0</td>\n",
       "      <td>0.0</td>\n",
       "      <td>0.0</td>\n",
       "      <td>0.0</td>\n",
       "      <td>0.0</td>\n",
       "      <td>0.0</td>\n",
       "      <td>0.0</td>\n",
       "      <td>N</td>\n",
       "    </tr>\n",
       "    <tr>\n",
       "      <th>1</th>\n",
       "      <td>0.431132</td>\n",
       "      <td>0.447091</td>\n",
       "      <td>0.478305</td>\n",
       "      <td>0.477915</td>\n",
       "      <td>0.497882</td>\n",
       "      <td>0.517347</td>\n",
       "      <td>0.546658</td>\n",
       "      <td>0.611761</td>\n",
       "      <td>0.691790</td>\n",
       "      <td>0.823090</td>\n",
       "      <td>...</td>\n",
       "      <td>0.0</td>\n",
       "      <td>0.0</td>\n",
       "      <td>0.0</td>\n",
       "      <td>0.0</td>\n",
       "      <td>0.0</td>\n",
       "      <td>0.0</td>\n",
       "      <td>0.0</td>\n",
       "      <td>0.0</td>\n",
       "      <td>0.0</td>\n",
       "      <td>N</td>\n",
       "    </tr>\n",
       "    <tr>\n",
       "      <th>2</th>\n",
       "      <td>0.894211</td>\n",
       "      <td>0.726851</td>\n",
       "      <td>0.449301</td>\n",
       "      <td>0.103087</td>\n",
       "      <td>-0.244260</td>\n",
       "      <td>-0.509609</td>\n",
       "      <td>-0.521389</td>\n",
       "      <td>-0.326421</td>\n",
       "      <td>-0.127506</td>\n",
       "      <td>0.059820</td>\n",
       "      <td>...</td>\n",
       "      <td>0.0</td>\n",
       "      <td>0.0</td>\n",
       "      <td>0.0</td>\n",
       "      <td>0.0</td>\n",
       "      <td>0.0</td>\n",
       "      <td>0.0</td>\n",
       "      <td>0.0</td>\n",
       "      <td>0.0</td>\n",
       "      <td>0.0</td>\n",
       "      <td>N</td>\n",
       "    </tr>\n",
       "    <tr>\n",
       "      <th>3</th>\n",
       "      <td>0.825851</td>\n",
       "      <td>0.595404</td>\n",
       "      <td>0.239109</td>\n",
       "      <td>-0.133897</td>\n",
       "      <td>-0.435282</td>\n",
       "      <td>-0.550695</td>\n",
       "      <td>-0.417755</td>\n",
       "      <td>-0.202872</td>\n",
       "      <td>0.005599</td>\n",
       "      <td>0.202538</td>\n",
       "      <td>...</td>\n",
       "      <td>0.0</td>\n",
       "      <td>0.0</td>\n",
       "      <td>0.0</td>\n",
       "      <td>0.0</td>\n",
       "      <td>0.0</td>\n",
       "      <td>0.0</td>\n",
       "      <td>0.0</td>\n",
       "      <td>0.0</td>\n",
       "      <td>0.0</td>\n",
       "      <td>N</td>\n",
       "    </tr>\n",
       "    <tr>\n",
       "      <th>4</th>\n",
       "      <td>0.845216</td>\n",
       "      <td>0.598803</td>\n",
       "      <td>0.262972</td>\n",
       "      <td>-0.105150</td>\n",
       "      <td>-0.417229</td>\n",
       "      <td>-0.532909</td>\n",
       "      <td>-0.431422</td>\n",
       "      <td>-0.221970</td>\n",
       "      <td>-0.013716</td>\n",
       "      <td>0.240227</td>\n",
       "      <td>...</td>\n",
       "      <td>0.0</td>\n",
       "      <td>0.0</td>\n",
       "      <td>0.0</td>\n",
       "      <td>0.0</td>\n",
       "      <td>0.0</td>\n",
       "      <td>0.0</td>\n",
       "      <td>0.0</td>\n",
       "      <td>0.0</td>\n",
       "      <td>0.0</td>\n",
       "      <td>N</td>\n",
       "    </tr>\n",
       "  </tbody>\n",
       "</table>\n",
       "<p>5 rows × 301 columns</p>\n",
       "</div>"
      ],
      "text/plain": [
       "        0         1         2         3         4         5         6    \\\n",
       "0 -0.006802 -0.005941  0.021012 -0.003950 -0.008009 -0.001562  0.004998   \n",
       "1  0.431132  0.447091  0.478305  0.477915  0.497882  0.517347  0.546658   \n",
       "2  0.894211  0.726851  0.449301  0.103087 -0.244260 -0.509609 -0.521389   \n",
       "3  0.825851  0.595404  0.239109 -0.133897 -0.435282 -0.550695 -0.417755   \n",
       "4  0.845216  0.598803  0.262972 -0.105150 -0.417229 -0.532909 -0.431422   \n",
       "\n",
       "        7         8         9    ...  291  292  293  294  295  296  297  298  \\\n",
       "0  0.016876  0.008076  0.025412  ...  0.0  0.0  0.0  0.0  0.0  0.0  0.0  0.0   \n",
       "1  0.611761  0.691790  0.823090  ...  0.0  0.0  0.0  0.0  0.0  0.0  0.0  0.0   \n",
       "2 -0.326421 -0.127506  0.059820  ...  0.0  0.0  0.0  0.0  0.0  0.0  0.0  0.0   \n",
       "3 -0.202872  0.005599  0.202538  ...  0.0  0.0  0.0  0.0  0.0  0.0  0.0  0.0   \n",
       "4 -0.221970 -0.013716  0.240227  ...  0.0  0.0  0.0  0.0  0.0  0.0  0.0  0.0   \n",
       "\n",
       "   299  300  \n",
       "0  0.0    N  \n",
       "1  0.0    N  \n",
       "2  0.0    N  \n",
       "3  0.0    N  \n",
       "4  0.0    N  \n",
       "\n",
       "[5 rows x 301 columns]"
      ]
     },
     "execution_count": 6,
     "metadata": {},
     "output_type": "execute_result"
    }
   ],
   "source": [
    "ecg_df.head()"
   ]
  },
  {
   "cell_type": "code",
   "execution_count": 7,
   "metadata": {},
   "outputs": [
    {
     "name": "stdout",
     "output_type": "stream",
     "text": [
      " categorical label :  ['AF' 'N']\n"
     ]
    }
   ],
   "source": [
    "X = ecg_df.iloc[:,:300].values\n",
    "y = ecg_df.iloc[:,300].values\n",
    "\n",
    "le = LabelEncoder()\n",
    "le.fit(y)\n",
    "\n",
    "labels = le.classes_\n",
    "print(\" categorical label : \", labels)\n",
    "\n",
    "y = le.transform(y)"
   ]
  },
  {
   "cell_type": "code",
   "execution_count": 8,
   "metadata": {},
   "outputs": [],
   "source": [
    "X_train, X_test, y_train, y_test = train_test_split(\n",
    "                                    X, y, test_size=0.33, random_state=42)"
   ]
  },
  {
   "cell_type": "code",
   "execution_count": 9,
   "metadata": {},
   "outputs": [],
   "source": [
    "train_df = pd.DataFrame(np.hstack((X_train, np.expand_dims(y_train, 1))))\n",
    "test_df = pd.DataFrame(np.hstack((X_test, np.expand_dims(y_test, 1))))"
   ]
  },
  {
   "cell_type": "markdown",
   "metadata": {},
   "source": [
    "- 1 sequence terdiri dari 300 titik data , kolom terakhir merupakan label untuk tiap sequence"
   ]
  },
  {
   "cell_type": "code",
   "execution_count": 10,
   "metadata": {},
   "outputs": [
    {
     "data": {
      "text/html": [
       "<div>\n",
       "<style scoped>\n",
       "    .dataframe tbody tr th:only-of-type {\n",
       "        vertical-align: middle;\n",
       "    }\n",
       "\n",
       "    .dataframe tbody tr th {\n",
       "        vertical-align: top;\n",
       "    }\n",
       "\n",
       "    .dataframe thead th {\n",
       "        text-align: right;\n",
       "    }\n",
       "</style>\n",
       "<table border=\"1\" class=\"dataframe\">\n",
       "  <thead>\n",
       "    <tr style=\"text-align: right;\">\n",
       "      <th></th>\n",
       "      <th>0</th>\n",
       "      <th>1</th>\n",
       "      <th>2</th>\n",
       "      <th>3</th>\n",
       "      <th>4</th>\n",
       "      <th>5</th>\n",
       "      <th>6</th>\n",
       "      <th>7</th>\n",
       "      <th>8</th>\n",
       "      <th>9</th>\n",
       "      <th>...</th>\n",
       "      <th>291</th>\n",
       "      <th>292</th>\n",
       "      <th>293</th>\n",
       "      <th>294</th>\n",
       "      <th>295</th>\n",
       "      <th>296</th>\n",
       "      <th>297</th>\n",
       "      <th>298</th>\n",
       "      <th>299</th>\n",
       "      <th>300</th>\n",
       "    </tr>\n",
       "  </thead>\n",
       "  <tbody>\n",
       "    <tr>\n",
       "      <th>0</th>\n",
       "      <td>0.761591</td>\n",
       "      <td>0.502904</td>\n",
       "      <td>0.125659</td>\n",
       "      <td>-0.252720</td>\n",
       "      <td>-0.563196</td>\n",
       "      <td>-0.577723</td>\n",
       "      <td>-0.344699</td>\n",
       "      <td>-0.099099</td>\n",
       "      <td>0.131505</td>\n",
       "      <td>0.340288</td>\n",
       "      <td>...</td>\n",
       "      <td>0.0</td>\n",
       "      <td>0.0</td>\n",
       "      <td>0.0</td>\n",
       "      <td>0.0</td>\n",
       "      <td>0.0</td>\n",
       "      <td>0.0</td>\n",
       "      <td>0.0</td>\n",
       "      <td>0.0</td>\n",
       "      <td>0.0</td>\n",
       "      <td>1.0</td>\n",
       "    </tr>\n",
       "    <tr>\n",
       "      <th>1</th>\n",
       "      <td>0.894624</td>\n",
       "      <td>0.648092</td>\n",
       "      <td>0.286504</td>\n",
       "      <td>-0.127541</td>\n",
       "      <td>-0.463060</td>\n",
       "      <td>-0.560566</td>\n",
       "      <td>-0.454284</td>\n",
       "      <td>-0.223981</td>\n",
       "      <td>-0.017762</td>\n",
       "      <td>0.215746</td>\n",
       "      <td>...</td>\n",
       "      <td>0.0</td>\n",
       "      <td>0.0</td>\n",
       "      <td>0.0</td>\n",
       "      <td>0.0</td>\n",
       "      <td>0.0</td>\n",
       "      <td>0.0</td>\n",
       "      <td>0.0</td>\n",
       "      <td>0.0</td>\n",
       "      <td>0.0</td>\n",
       "      <td>1.0</td>\n",
       "    </tr>\n",
       "    <tr>\n",
       "      <th>2</th>\n",
       "      <td>0.780775</td>\n",
       "      <td>0.692311</td>\n",
       "      <td>0.459837</td>\n",
       "      <td>0.138695</td>\n",
       "      <td>-0.174214</td>\n",
       "      <td>-0.391223</td>\n",
       "      <td>-0.452360</td>\n",
       "      <td>-0.353026</td>\n",
       "      <td>-0.162468</td>\n",
       "      <td>0.008541</td>\n",
       "      <td>...</td>\n",
       "      <td>0.0</td>\n",
       "      <td>0.0</td>\n",
       "      <td>0.0</td>\n",
       "      <td>0.0</td>\n",
       "      <td>0.0</td>\n",
       "      <td>0.0</td>\n",
       "      <td>0.0</td>\n",
       "      <td>0.0</td>\n",
       "      <td>0.0</td>\n",
       "      <td>1.0</td>\n",
       "    </tr>\n",
       "    <tr>\n",
       "      <th>3</th>\n",
       "      <td>0.831039</td>\n",
       "      <td>0.638621</td>\n",
       "      <td>0.294452</td>\n",
       "      <td>-0.084270</td>\n",
       "      <td>-0.419442</td>\n",
       "      <td>-0.599447</td>\n",
       "      <td>-0.378599</td>\n",
       "      <td>-0.158954</td>\n",
       "      <td>0.037211</td>\n",
       "      <td>0.254649</td>\n",
       "      <td>...</td>\n",
       "      <td>0.0</td>\n",
       "      <td>0.0</td>\n",
       "      <td>0.0</td>\n",
       "      <td>0.0</td>\n",
       "      <td>0.0</td>\n",
       "      <td>0.0</td>\n",
       "      <td>0.0</td>\n",
       "      <td>0.0</td>\n",
       "      <td>0.0</td>\n",
       "      <td>1.0</td>\n",
       "    </tr>\n",
       "    <tr>\n",
       "      <th>4</th>\n",
       "      <td>0.638541</td>\n",
       "      <td>0.471200</td>\n",
       "      <td>0.194806</td>\n",
       "      <td>-0.154636</td>\n",
       "      <td>-0.412301</td>\n",
       "      <td>-0.454571</td>\n",
       "      <td>-0.281461</td>\n",
       "      <td>-0.099054</td>\n",
       "      <td>0.087553</td>\n",
       "      <td>0.257815</td>\n",
       "      <td>...</td>\n",
       "      <td>0.0</td>\n",
       "      <td>0.0</td>\n",
       "      <td>0.0</td>\n",
       "      <td>0.0</td>\n",
       "      <td>0.0</td>\n",
       "      <td>0.0</td>\n",
       "      <td>0.0</td>\n",
       "      <td>0.0</td>\n",
       "      <td>0.0</td>\n",
       "      <td>1.0</td>\n",
       "    </tr>\n",
       "  </tbody>\n",
       "</table>\n",
       "<p>5 rows × 301 columns</p>\n",
       "</div>"
      ],
      "text/plain": [
       "        0         1         2         3         4         5         6    \\\n",
       "0  0.761591  0.502904  0.125659 -0.252720 -0.563196 -0.577723 -0.344699   \n",
       "1  0.894624  0.648092  0.286504 -0.127541 -0.463060 -0.560566 -0.454284   \n",
       "2  0.780775  0.692311  0.459837  0.138695 -0.174214 -0.391223 -0.452360   \n",
       "3  0.831039  0.638621  0.294452 -0.084270 -0.419442 -0.599447 -0.378599   \n",
       "4  0.638541  0.471200  0.194806 -0.154636 -0.412301 -0.454571 -0.281461   \n",
       "\n",
       "        7         8         9    ...  291  292  293  294  295  296  297  298  \\\n",
       "0 -0.099099  0.131505  0.340288  ...  0.0  0.0  0.0  0.0  0.0  0.0  0.0  0.0   \n",
       "1 -0.223981 -0.017762  0.215746  ...  0.0  0.0  0.0  0.0  0.0  0.0  0.0  0.0   \n",
       "2 -0.353026 -0.162468  0.008541  ...  0.0  0.0  0.0  0.0  0.0  0.0  0.0  0.0   \n",
       "3 -0.158954  0.037211  0.254649  ...  0.0  0.0  0.0  0.0  0.0  0.0  0.0  0.0   \n",
       "4 -0.099054  0.087553  0.257815  ...  0.0  0.0  0.0  0.0  0.0  0.0  0.0  0.0   \n",
       "\n",
       "   299  300  \n",
       "0  0.0  1.0  \n",
       "1  0.0  1.0  \n",
       "2  0.0  1.0  \n",
       "3  0.0  1.0  \n",
       "4  0.0  1.0  \n",
       "\n",
       "[5 rows x 301 columns]"
      ]
     },
     "execution_count": 10,
     "metadata": {},
     "output_type": "execute_result"
    }
   ],
   "source": [
    "train_df.head()"
   ]
  },
  {
   "cell_type": "markdown",
   "metadata": {},
   "source": [
    "## Balancing Dataset\n",
    "Untuk kebutuhan training model, kita akan atur agar sample tiap class memiliki proporsi yang sama."
   ]
  },
  {
   "cell_type": "code",
   "execution_count": 11,
   "metadata": {},
   "outputs": [
    {
     "name": "stdout",
     "output_type": "stream",
     "text": [
      "1    415\n",
      "0    112\n",
      "Name: 300, dtype: int64\n"
     ]
    }
   ],
   "source": [
    "#print dataset distribution\n",
    "\n",
    "train_df[300]=train_df[300].astype(int)\n",
    "equilibre=train_df[300].value_counts()\n",
    "\n",
    "print(equilibre)"
   ]
  },
  {
   "cell_type": "markdown",
   "metadata": {},
   "source": [
    "- Terlihat jika tiap katerogi memiliki jumlah sample yang berbeda."
   ]
  },
  {
   "cell_type": "code",
   "execution_count": 12,
   "metadata": {},
   "outputs": [
    {
     "data": {
      "image/png": "[encoded data removed]",
      "text/plain": [
       "<Figure size 1440x720 with 1 Axes>"
      ]
     },
     "metadata": {},
     "output_type": "display_data"
    }
   ],
   "source": [
    "plt.figure(figsize=(20,10))\n",
    "\n",
    "my_circle = plt.Circle( (0,0), 0.7, color='white')\n",
    "plt.pie(equilibre, \n",
    "        labels=labels, \n",
    "        colors=['red','green'],\n",
    "        autopct='%1.1f%%')\n",
    "\n",
    "p = plt.gcf()\n",
    "p.gca().add_artist(my_circle)\n",
    "plt.show()"
   ]
  },
  {
   "cell_type": "markdown",
   "metadata": {},
   "source": [
    "- kita akan membuat seluruh class memiliki jumlah sample sebanyak 20000. \n",
    "- Sehingga untuk class `0` yang memiliki sample 72471, akan dilakukan pemilihan acak sebanyak 20000 dengan menggunakan Pandas Dataframe `.sample()`.\n",
    "- Untuk class lainya, karena dibawah 20000 sample, akan diterapkan proses upsampling menjadi 20000 sample menggunakan sklearn `resample()`."
   ]
  },
  {
   "cell_type": "code",
   "execution_count": 13,
   "metadata": {},
   "outputs": [],
   "source": [
    "# sampling and resampling dataset\n",
    "\n",
    "from sklearn.utils import resample\n",
    "n_samples = 400 \n",
    "random_states = [42, 123]\n",
    "\n",
    "dfs = []\n",
    "\n",
    "for i in range(len(equilibre)):\n",
    "    dfs.append(train_df[train_df[300]==i])\n",
    "    if(equilibre[i] > n_samples) :\n",
    "        dfs[i]=dfs[i].sample(n=n_samples ,random_state=random_states[i])\n",
    "    else :\n",
    "        dfs[i]=resample(dfs[i],replace=True,n_samples=n_samples,random_state=random_states[i])\n",
    "\n",
    "train_df=pd.concat(dfs)"
   ]
  },
  {
   "cell_type": "code",
   "execution_count": 14,
   "metadata": {},
   "outputs": [
    {
     "data": {
      "text/html": [
       "<div>\n",
       "<style scoped>\n",
       "    .dataframe tbody tr th:only-of-type {\n",
       "        vertical-align: middle;\n",
       "    }\n",
       "\n",
       "    .dataframe tbody tr th {\n",
       "        vertical-align: top;\n",
       "    }\n",
       "\n",
       "    .dataframe thead th {\n",
       "        text-align: right;\n",
       "    }\n",
       "</style>\n",
       "<table border=\"1\" class=\"dataframe\">\n",
       "  <thead>\n",
       "    <tr style=\"text-align: right;\">\n",
       "      <th></th>\n",
       "      <th>0</th>\n",
       "      <th>1</th>\n",
       "      <th>2</th>\n",
       "      <th>3</th>\n",
       "      <th>4</th>\n",
       "      <th>5</th>\n",
       "      <th>6</th>\n",
       "      <th>7</th>\n",
       "      <th>8</th>\n",
       "      <th>9</th>\n",
       "      <th>...</th>\n",
       "      <th>291</th>\n",
       "      <th>292</th>\n",
       "      <th>293</th>\n",
       "      <th>294</th>\n",
       "      <th>295</th>\n",
       "      <th>296</th>\n",
       "      <th>297</th>\n",
       "      <th>298</th>\n",
       "      <th>299</th>\n",
       "      <th>300</th>\n",
       "    </tr>\n",
       "  </thead>\n",
       "  <tbody>\n",
       "    <tr>\n",
       "      <th>478</th>\n",
       "      <td>0.658833</td>\n",
       "      <td>0.811685</td>\n",
       "      <td>0.915360</td>\n",
       "      <td>0.955959</td>\n",
       "      <td>0.940313</td>\n",
       "      <td>0.806133</td>\n",
       "      <td>0.463478</td>\n",
       "      <td>0.022840</td>\n",
       "      <td>-0.405291</td>\n",
       "      <td>-0.668952</td>\n",
       "      <td>...</td>\n",
       "      <td>0.0</td>\n",
       "      <td>0.0</td>\n",
       "      <td>0.0</td>\n",
       "      <td>0.0</td>\n",
       "      <td>0.0</td>\n",
       "      <td>0.0</td>\n",
       "      <td>0.0</td>\n",
       "      <td>0.0</td>\n",
       "      <td>0.0</td>\n",
       "      <td>0</td>\n",
       "    </tr>\n",
       "    <tr>\n",
       "      <th>258</th>\n",
       "      <td>0.920091</td>\n",
       "      <td>0.783382</td>\n",
       "      <td>0.422058</td>\n",
       "      <td>-0.017276</td>\n",
       "      <td>-0.457872</td>\n",
       "      <td>-0.655333</td>\n",
       "      <td>-0.504922</td>\n",
       "      <td>-0.209194</td>\n",
       "      <td>0.022361</td>\n",
       "      <td>0.294608</td>\n",
       "      <td>...</td>\n",
       "      <td>0.0</td>\n",
       "      <td>0.0</td>\n",
       "      <td>0.0</td>\n",
       "      <td>0.0</td>\n",
       "      <td>0.0</td>\n",
       "      <td>0.0</td>\n",
       "      <td>0.0</td>\n",
       "      <td>0.0</td>\n",
       "      <td>0.0</td>\n",
       "      <td>0</td>\n",
       "    </tr>\n",
       "    <tr>\n",
       "      <th>401</th>\n",
       "      <td>0.626725</td>\n",
       "      <td>0.286123</td>\n",
       "      <td>-0.158415</td>\n",
       "      <td>-0.531008</td>\n",
       "      <td>-0.655757</td>\n",
       "      <td>-0.459371</td>\n",
       "      <td>-0.198459</td>\n",
       "      <td>0.046396</td>\n",
       "      <td>0.267953</td>\n",
       "      <td>0.458972</td>\n",
       "      <td>...</td>\n",
       "      <td>0.0</td>\n",
       "      <td>0.0</td>\n",
       "      <td>0.0</td>\n",
       "      <td>0.0</td>\n",
       "      <td>0.0</td>\n",
       "      <td>0.0</td>\n",
       "      <td>0.0</td>\n",
       "      <td>0.0</td>\n",
       "      <td>0.0</td>\n",
       "      <td>0</td>\n",
       "    </tr>\n",
       "    <tr>\n",
       "      <th>73</th>\n",
       "      <td>0.928876</td>\n",
       "      <td>0.729838</td>\n",
       "      <td>0.316991</td>\n",
       "      <td>-0.141110</td>\n",
       "      <td>-0.527243</td>\n",
       "      <td>-0.650846</td>\n",
       "      <td>-0.489954</td>\n",
       "      <td>-0.191187</td>\n",
       "      <td>0.040217</td>\n",
       "      <td>0.292345</td>\n",
       "      <td>...</td>\n",
       "      <td>0.0</td>\n",
       "      <td>0.0</td>\n",
       "      <td>0.0</td>\n",
       "      <td>0.0</td>\n",
       "      <td>0.0</td>\n",
       "      <td>0.0</td>\n",
       "      <td>0.0</td>\n",
       "      <td>0.0</td>\n",
       "      <td>0.0</td>\n",
       "      <td>0</td>\n",
       "    </tr>\n",
       "    <tr>\n",
       "      <th>488</th>\n",
       "      <td>0.746267</td>\n",
       "      <td>0.433362</td>\n",
       "      <td>0.016097</td>\n",
       "      <td>-0.423044</td>\n",
       "      <td>-0.719004</td>\n",
       "      <td>-0.438336</td>\n",
       "      <td>-0.186529</td>\n",
       "      <td>0.070887</td>\n",
       "      <td>0.306471</td>\n",
       "      <td>0.465261</td>\n",
       "      <td>...</td>\n",
       "      <td>0.0</td>\n",
       "      <td>0.0</td>\n",
       "      <td>0.0</td>\n",
       "      <td>0.0</td>\n",
       "      <td>0.0</td>\n",
       "      <td>0.0</td>\n",
       "      <td>0.0</td>\n",
       "      <td>0.0</td>\n",
       "      <td>0.0</td>\n",
       "      <td>0</td>\n",
       "    </tr>\n",
       "  </tbody>\n",
       "</table>\n",
       "<p>5 rows × 301 columns</p>\n",
       "</div>"
      ],
      "text/plain": [
       "          0         1         2         3         4         5         6    \\\n",
       "478  0.658833  0.811685  0.915360  0.955959  0.940313  0.806133  0.463478   \n",
       "258  0.920091  0.783382  0.422058 -0.017276 -0.457872 -0.655333 -0.504922   \n",
       "401  0.626725  0.286123 -0.158415 -0.531008 -0.655757 -0.459371 -0.198459   \n",
       "73   0.928876  0.729838  0.316991 -0.141110 -0.527243 -0.650846 -0.489954   \n",
       "488  0.746267  0.433362  0.016097 -0.423044 -0.719004 -0.438336 -0.186529   \n",
       "\n",
       "          7         8         9    ...  291  292  293  294  295  296  297  \\\n",
       "478  0.022840 -0.405291 -0.668952  ...  0.0  0.0  0.0  0.0  0.0  0.0  0.0   \n",
       "258 -0.209194  0.022361  0.294608  ...  0.0  0.0  0.0  0.0  0.0  0.0  0.0   \n",
       "401  0.046396  0.267953  0.458972  ...  0.0  0.0  0.0  0.0  0.0  0.0  0.0   \n",
       "73  -0.191187  0.040217  0.292345  ...  0.0  0.0  0.0  0.0  0.0  0.0  0.0   \n",
       "488  0.070887  0.306471  0.465261  ...  0.0  0.0  0.0  0.0  0.0  0.0  0.0   \n",
       "\n",
       "     298  299  300  \n",
       "478  0.0  0.0    0  \n",
       "258  0.0  0.0    0  \n",
       "401  0.0  0.0    0  \n",
       "73   0.0  0.0    0  \n",
       "488  0.0  0.0    0  \n",
       "\n",
       "[5 rows x 301 columns]"
      ]
     },
     "execution_count": 14,
     "metadata": {},
     "output_type": "execute_result"
    }
   ],
   "source": [
    "train_df.head()"
   ]
  },
  {
   "cell_type": "markdown",
   "metadata": {},
   "source": [
    "Sekarang kita memiliki dataset yang sudah balance."
   ]
  },
  {
   "cell_type": "code",
   "execution_count": 15,
   "metadata": {},
   "outputs": [
    {
     "name": "stdout",
     "output_type": "stream",
     "text": [
      "1    400\n",
      "0    400\n",
      "Name: 300, dtype: int64\n"
     ]
    }
   ],
   "source": [
    "# cek balanced dataset\n",
    "\n",
    "equilibre=train_df[300].value_counts()\n",
    "\n",
    "print(equilibre)"
   ]
  },
  {
   "cell_type": "markdown",
   "metadata": {},
   "source": [
    "## Understanding ECG Signal\n",
    "- Sekarang kita ambil 1 sample tiap class untuk melihat profile heart beat masing-masing class.\n",
    "- Ini berguna untuk kita agar dapat memahami karakteristik sinyal ECG untuk tiap class.\n",
    "- Task ini mudah dilakukan menggunakan pandas,  `.groupby()` pada kolom 187 (kolom class) dan dengan menggunakan fungsi `.apply()` kita ambil 1 sample data menggunakan `.sample()`."
   ]
  },
  {
   "cell_type": "code",
   "execution_count": 16,
   "metadata": {},
   "outputs": [],
   "source": [
    "ECG_PER_CLASS =train_df.groupby(300,group_keys=False).apply(lambda train_df : train_df.sample(1))"
   ]
  },
  {
   "cell_type": "code",
   "execution_count": 17,
   "metadata": {},
   "outputs": [
    {
     "data": {
      "text/html": [
       "<div>\n",
       "<style scoped>\n",
       "    .dataframe tbody tr th:only-of-type {\n",
       "        vertical-align: middle;\n",
       "    }\n",
       "\n",
       "    .dataframe tbody tr th {\n",
       "        vertical-align: top;\n",
       "    }\n",
       "\n",
       "    .dataframe thead th {\n",
       "        text-align: right;\n",
       "    }\n",
       "</style>\n",
       "<table border=\"1\" class=\"dataframe\">\n",
       "  <thead>\n",
       "    <tr style=\"text-align: right;\">\n",
       "      <th></th>\n",
       "      <th>0</th>\n",
       "      <th>1</th>\n",
       "      <th>2</th>\n",
       "      <th>3</th>\n",
       "      <th>4</th>\n",
       "      <th>5</th>\n",
       "      <th>6</th>\n",
       "      <th>7</th>\n",
       "      <th>8</th>\n",
       "      <th>9</th>\n",
       "      <th>...</th>\n",
       "      <th>291</th>\n",
       "      <th>292</th>\n",
       "      <th>293</th>\n",
       "      <th>294</th>\n",
       "      <th>295</th>\n",
       "      <th>296</th>\n",
       "      <th>297</th>\n",
       "      <th>298</th>\n",
       "      <th>299</th>\n",
       "      <th>300</th>\n",
       "    </tr>\n",
       "  </thead>\n",
       "  <tbody>\n",
       "    <tr>\n",
       "      <th>346</th>\n",
       "      <td>0.830382</td>\n",
       "      <td>0.590942</td>\n",
       "      <td>0.218423</td>\n",
       "      <td>-0.199273</td>\n",
       "      <td>-0.522916</td>\n",
       "      <td>-0.613260</td>\n",
       "      <td>-0.404332</td>\n",
       "      <td>-0.116070</td>\n",
       "      <td>0.075623</td>\n",
       "      <td>0.310152</td>\n",
       "      <td>...</td>\n",
       "      <td>0.0</td>\n",
       "      <td>0.0</td>\n",
       "      <td>0.0</td>\n",
       "      <td>0.0</td>\n",
       "      <td>0.0</td>\n",
       "      <td>0.0</td>\n",
       "      <td>0.0</td>\n",
       "      <td>0.0</td>\n",
       "      <td>0.0</td>\n",
       "      <td>0</td>\n",
       "    </tr>\n",
       "    <tr>\n",
       "      <th>174</th>\n",
       "      <td>0.901455</td>\n",
       "      <td>0.803944</td>\n",
       "      <td>0.588996</td>\n",
       "      <td>0.204794</td>\n",
       "      <td>-0.212958</td>\n",
       "      <td>-0.528555</td>\n",
       "      <td>-0.580409</td>\n",
       "      <td>-0.407338</td>\n",
       "      <td>-0.132165</td>\n",
       "      <td>0.096458</td>\n",
       "      <td>...</td>\n",
       "      <td>0.0</td>\n",
       "      <td>0.0</td>\n",
       "      <td>0.0</td>\n",
       "      <td>0.0</td>\n",
       "      <td>0.0</td>\n",
       "      <td>0.0</td>\n",
       "      <td>0.0</td>\n",
       "      <td>0.0</td>\n",
       "      <td>0.0</td>\n",
       "      <td>1</td>\n",
       "    </tr>\n",
       "  </tbody>\n",
       "</table>\n",
       "<p>2 rows × 301 columns</p>\n",
       "</div>"
      ],
      "text/plain": [
       "          0         1         2         3         4         5         6    \\\n",
       "346  0.830382  0.590942  0.218423 -0.199273 -0.522916 -0.613260 -0.404332   \n",
       "174  0.901455  0.803944  0.588996  0.204794 -0.212958 -0.528555 -0.580409   \n",
       "\n",
       "          7         8         9    ...  291  292  293  294  295  296  297  \\\n",
       "346 -0.116070  0.075623  0.310152  ...  0.0  0.0  0.0  0.0  0.0  0.0  0.0   \n",
       "174 -0.407338 -0.132165  0.096458  ...  0.0  0.0  0.0  0.0  0.0  0.0  0.0   \n",
       "\n",
       "     298  299  300  \n",
       "346  0.0  0.0    0  \n",
       "174  0.0  0.0    1  \n",
       "\n",
       "[2 rows x 301 columns]"
      ]
     },
     "execution_count": 17,
     "metadata": {},
     "output_type": "execute_result"
    }
   ],
   "source": [
    "ECG_PER_CLASS"
   ]
  },
  {
   "cell_type": "markdown",
   "metadata": {},
   "source": [
    "- Pertama kita plot tiap sample pada dataframe `ECG_PER_CLASS` menggunakan pandas `.plot()`.\n",
    "- Setelah itu kita plot 2D histogram untuk keseluruhan sample ECG tiap class menggunakan fungsi `plot_hist()` yang kita buat dibawah.\n",
    "- Pada plot histogram, daerah dengan intensitas lebih terang menandakan banyak titik sample pada waktu dan nilai ECG tersebut.\n",
    "- Sebaliknya untuk daerah yang lebih gelap."
   ]
  },
  {
   "cell_type": "code",
   "execution_count": 18,
   "metadata": {},
   "outputs": [],
   "source": [
    "def plot_1_sample(class_number, fs=250):\n",
    "    data = ECG_PER_CLASS.iloc[class_number,:300]\n",
    "    times = np.arange(data.shape[0], dtype='float') / fs * 1000\n",
    "    \n",
    "    plt.plot(times, data)\n",
    "    plt.title(\"Plot 1 sample in class \" + str(class_number))\n",
    "    plt.xlabel(\"Time (ms)\")\n",
    "    plt.ylabel(\"Normalized Value\")\n",
    "    plt.show()"
   ]
  },
  {
   "cell_type": "code",
   "execution_count": 19,
   "metadata": {},
   "outputs": [],
   "source": [
    "def plot_hist(class_number, min_, size, fs=250):\n",
    "    # filter data berdasarkan class_number \n",
    "    ECG=train_df.loc[train_df[300]==class_number].values\n",
    "    \n",
    "    # scale tm value (*1000) agar bisa ditampilkan dalam satuam (ms)\n",
    "    tm = np.arange(ECG.shape[1], dtype='float') / fs * 1000\n",
    "    \n",
    "    # ambil data hanya pada kolom `min_` sampai `size`\n",
    "    # convert ke 1D array\n",
    "    ECG=ECG[:,min_:size]\n",
    "    ECG_flatten=ECG.flatten()\n",
    "    \n",
    "    # generate time data untuk tiap kolom sample, \n",
    "    # ulang sebanyak ECG.shape[0]\n",
    "    times = np.tile(tm[min_:size], ECG.shape[0]) \n",
    "\n",
    "    # plot sebagai 2D histogram\n",
    "    plt.hist2d(times, ECG_flatten, bins=(80,80), cmap=plt.cm.jet)\n",
    "    plt.title(\"2D histogram on class \" + str(class_number))\n",
    "    plt.xlabel(\"Time (ms)\")\n",
    "    plt.ylabel(\"Normalized Value\")\n",
    "    plt.show()"
   ]
  },
  {
   "cell_type": "code",
   "execution_count": 20,
   "metadata": {},
   "outputs": [
    {
     "data": {
      "image/png": "[encoded data removed]",
      "text/plain": [
       "<Figure size 432x288 with 1 Axes>"
      ]
     },
     "metadata": {
      "needs_background": "light"
     },
     "output_type": "display_data"
    }
   ],
   "source": [
    "plot_1_sample(class_number=0)"
   ]
  },
  {
   "cell_type": "code",
   "execution_count": 21,
   "metadata": {},
   "outputs": [
    {
     "data": {
      "image/png": "[encoded data removed]",
      "text/plain": [
       "<Figure size 432x288 with 1 Axes>"
      ]
     },
     "metadata": {
      "needs_background": "light"
     },
     "output_type": "display_data"
    }
   ],
   "source": [
    "plot_hist(class_number=0, min_=0, size=70)"
   ]
  },
  {
   "cell_type": "code",
   "execution_count": 22,
   "metadata": {},
   "outputs": [
    {
     "data": {
      "image/png": "[encoded data removed]",
      "text/plain": [
       "<Figure size 432x288 with 1 Axes>"
      ]
     },
     "metadata": {
      "needs_background": "light"
     },
     "output_type": "display_data"
    }
   ],
   "source": [
    "plot_1_sample(class_number=1)"
   ]
  },
  {
   "cell_type": "code",
   "execution_count": 23,
   "metadata": {},
   "outputs": [
    {
     "data": {
      "image/png": "[encoded data removed]",
      "text/plain": [
       "<Figure size 432x288 with 1 Axes>"
      ]
     },
     "metadata": {
      "needs_background": "light"
     },
     "output_type": "display_data"
    }
   ],
   "source": [
    "plot_hist(class_number=1, min_=0, size=70)"
   ]
  },
  {
   "cell_type": "markdown",
   "metadata": {},
   "source": [
    "### Save Balanced Training Data and Test Data"
   ]
  },
  {
   "cell_type": "code",
   "execution_count": 24,
   "metadata": {},
   "outputs": [],
   "source": [
    "train_df.to_csv(dataset_folder + \"train_AFDB_%s_balanced.csv\" % record, header=None, index=None)\n",
    "test_df.to_csv(dataset_folder + \"test_AFDB_%s.csv\" % record, header=None, index=None)"
   ]
  },
  {
   "cell_type": "code",
   "execution_count": null,
   "metadata": {},
   "outputs": [],
   "source": []
  }
 ],
 "metadata": {
  "kernelspec": {
   "display_name": "Python [conda env:GPU_ENV]",
   "language": "python",
   "name": "conda-env-GPU_ENV-py"
  },
  "language_info": {
   "codemirror_mode": {
    "name": "ipython",
    "version": 3
   },
   "file_extension": ".py",
   "mimetype": "text/x-python",
   "name": "python",
   "nbconvert_exporter": "python",
   "pygments_lexer": "ipython3",
   "version": "3.6.12"
  }
 },
 "nbformat": 4,
 "nbformat_minor": 4
}
