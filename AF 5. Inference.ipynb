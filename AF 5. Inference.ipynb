{
 "cells": [
  {
   "cell_type": "markdown",
   "metadata": {},
   "source": [
    "### Inference Model Denoising & Classification\n"
   ]
  },
  {
   "cell_type": "code",
   "execution_count": null,
   "metadata": {},
   "outputs": [],
   "source": [
    "import os\n",
    "import pickle\n",
    "import numpy as np\n",
    "import pandas as pd\n",
    "import matplotlib.pyplot as plt\n",
    "from keras import models\n",
    "from AdaptiveFilterWrapper import adapfilt_modeler"
   ]
  },
  {
   "cell_type": "code",
   "execution_count": null,
   "metadata": {},
   "outputs": [],
   "source": [
    "denoising  = 'nlms' # change to 'lms' / 'nlms' / 'rls'"
   ]
  },
  {
   "cell_type": "code",
   "execution_count": null,
   "metadata": {},
   "outputs": [],
   "source": [
    "def read_adapfilt_model(filename, path=\"\"):\n",
    "    with open(os.path.join(path, filename), 'rb') as in_name:\n",
    "        model = pickle.load(in_name)\n",
    "        return model"
   ]
  },
  {
   "cell_type": "markdown",
   "metadata": {},
   "source": [
    "- load model"
   ]
  },
  {
   "cell_type": "code",
   "execution_count": null,
   "metadata": {},
   "outputs": [],
   "source": [
    "lms_model = read_adapfilt_model(\"LMS_adapfilt_model_afdb.pkl\")\n",
    "nlms_model = read_adapfilt_model(\"NLMS_adapfilt_model_afdb.pkl\")\n",
    "rls_model = read_adapfilt_model(\"RLS_adapfilt_model_afdb.pkl\")"
   ]
  },
  {
   "cell_type": "code",
   "execution_count": null,
   "metadata": {},
   "outputs": [],
   "source": [
    "cnn_lms_model = models.load_model('CNN_Classification_model_lms.h5')\n",
    "cnn_nlms_model = models.load_model('CNN_Classification_model_nlms.h5')\n",
    "cnn_rls_model = models.load_model('CNN_Classification_model_rls.h5')"
   ]
  },
  {
   "cell_type": "code",
   "execution_count": null,
   "metadata": {},
   "outputs": [],
   "source": [
    "label_names = ['AF', 'N']"
   ]
  },
  {
   "cell_type": "code",
   "execution_count": null,
   "metadata": {},
   "outputs": [],
   "source": [
    "dataset_folder =\"dataset/\"\n",
    "filenames = []\n",
    "for filename in os.listdir(dataset_folder):\n",
    "    if filename.find(\"AFDB_pasien_\") > -1:\n",
    "        filenames.append(filename)"
   ]
  },
  {
   "cell_type": "code",
   "execution_count": null,
   "metadata": {},
   "outputs": [],
   "source": [
    "filenames"
   ]
  },
  {
   "cell_type": "markdown",
   "metadata": {},
   "source": [
    "- load inference data"
   ]
  },
  {
   "cell_type": "code",
   "execution_count": null,
   "metadata": {},
   "outputs": [],
   "source": [
    "inference_data = {}\n",
    "for name in filenames:\n",
    "    infer = pd.read_csv(dataset_folder + name, header=None)\n",
    "    inference_data[name] = infer"
   ]
  },
  {
   "cell_type": "code",
   "execution_count": null,
   "metadata": {},
   "outputs": [],
   "source": [
    "inference_data[filenames[0]].head()"
   ]
  },
  {
   "cell_type": "code",
   "execution_count": null,
   "metadata": {},
   "outputs": [],
   "source": [
    "mat_infer_data = {}\n",
    "for name in filenames:\n",
    "    infer_df = inference_data[name]\n",
    "    mat_infer_data[name] = infer_df.values"
   ]
  },
  {
   "cell_type": "markdown",
   "metadata": {},
   "source": [
    "- plot histogram"
   ]
  },
  {
   "cell_type": "code",
   "execution_count": null,
   "metadata": {},
   "outputs": [],
   "source": [
    "def plot_hist(df, name, min_, size, fs=250):\n",
    "    # filter data berdasarkan class_number \n",
    "    ECG=df.values\n",
    "    \n",
    "    # scale tm value (*1000) agar bisa ditampilkan dalam satuam (ms)\n",
    "    tm = np.arange(ECG.shape[1], dtype='float') / fs * 1000\n",
    "    \n",
    "    # ambil data hanya pada kolom `min_` sampai `size`\n",
    "    # convert ke 1D array\n",
    "    ECG=ECG[:,min_:size]\n",
    "    ECG_flatten=ECG.flatten()\n",
    "    \n",
    "    # generate time data untuk tiap kolom sample, \n",
    "    # ulang sebanyak ECG.shape[0]\n",
    "    times = np.tile(tm[min_:size], ECG.shape[0]) \n",
    "\n",
    "    # plot sebagai 2D histogram\n",
    "    plt.hist2d(times, ECG_flatten, bins=(80,80), cmap=plt.cm.jet)\n",
    "    plt.title(\"2D histogram on data - \" + name)\n",
    "    plt.xlabel(\"Time (ms)\")\n",
    "    plt.ylabel(\"Normalized Value\")\n",
    "    plt.show()"
   ]
  },
  {
   "cell_type": "code",
   "execution_count": null,
   "metadata": {},
   "outputs": [],
   "source": [
    "for fn in filenames:\n",
    "    df = inference_data[fn]\n",
    "    plot_hist(df, fn, min_=0, size=80)"
   ]
  },
  {
   "cell_type": "markdown",
   "metadata": {},
   "source": [
    "- Apply denoising model to inference data"
   ]
  },
  {
   "cell_type": "code",
   "execution_count": null,
   "metadata": {},
   "outputs": [],
   "source": [
    "lms_den_res = {}\n",
    "nlms_den_res = {}\n",
    "rls_den_res = {}\n",
    "for name in filenames:\n",
    "    lms_den_res[name] = lms_model.transform(mat_infer_data[name])\n",
    "    nlms_den_res[name] = nlms_model.transform(mat_infer_data[name])\n",
    "    rls_den_res[name] = rls_model.transform(mat_infer_data[name])\n",
    "    print(\"denoising data - %s\" % name)"
   ]
  },
  {
   "cell_type": "code",
   "execution_count": null,
   "metadata": {},
   "outputs": [],
   "source": [
    "def plot_denoising_test(y, x, model='lms', fs=250):\n",
    "    times = np.arange(y.shape[0]) / fs * 1000 \n",
    "    # show results\n",
    "    plt.figure(figsize=(6,4))\n",
    "    plt.title(\"Adaptation Result %s - Inference Dataset\" % model.upper())\n",
    "    plt.xlabel(\"time (ms)\")\n",
    "    plt.plot(times, y,\"b\", label=\"y - denoised signal\")\n",
    "    plt.plot(times, x,\"g\", label=\"x - original signal\")\n",
    "    plt.tight_layout()\n",
    "    plt.legend()\n",
    "    plt.grid()\n",
    "    plt.show()"
   ]
  },
  {
   "cell_type": "markdown",
   "metadata": {},
   "source": [
    "- Check result"
   ]
  },
  {
   "cell_type": "code",
   "execution_count": null,
   "metadata": {},
   "outputs": [],
   "source": [
    "name = filenames[0]\n",
    "idx = 246\n",
    "\n",
    "y = lms_den_res[name][idx]\n",
    "x = mat_infer_data[name][idx]\n",
    "\n",
    "plot_denoising_test(y, x, model='lms')"
   ]
  },
  {
   "cell_type": "markdown",
   "metadata": {},
   "source": [
    "## Reshape matrix result of denoising"
   ]
  },
  {
   "cell_type": "code",
   "execution_count": null,
   "metadata": {},
   "outputs": [],
   "source": [
    "lms_mat_3d = {}\n",
    "nlms_mat_3d = {}\n",
    "rls_mat_3d = {}\n",
    "for name in filenames:\n",
    "    lms_mat_3d[name] = lms_den_res[name].reshape(len(lms_den_res[name]), lms_den_res[name].shape[1], 1)\n",
    "    nlms_mat_3d[name] = nlms_den_res[name].reshape(len(nlms_den_res[name]), nlms_den_res[name].shape[1], 1)\n",
    "    rls_mat_3d[name] = rls_den_res[name].reshape(len(rls_den_res[name]), rls_den_res[name].shape[1], 1)\n"
   ]
  },
  {
   "cell_type": "markdown",
   "metadata": {},
   "source": [
    "- Apply to CNN model"
   ]
  },
  {
   "cell_type": "code",
   "execution_count": null,
   "metadata": {},
   "outputs": [],
   "source": [
    "cnn_lms_classif_result = {}\n",
    "cnn_nlms_classif_result = {}\n",
    "cnn_rls_classif_result = {}\n",
    "for name in filenames:\n",
    "    cnn_lms_classif_result[name] = cnn_lms_model.predict(lms_mat_3d[name])\n",
    "    cnn_nlms_classif_result[name] = cnn_nlms_model.predict(nlms_mat_3d[name])\n",
    "    cnn_rls_classif_result[name] = cnn_rls_model.predict(rls_mat_3d[name])\n",
    "    print(\"predicting data - %s\" % name)"
   ]
  },
  {
   "cell_type": "markdown",
   "metadata": {},
   "source": [
    "- Check result"
   ]
  },
  {
   "cell_type": "code",
   "execution_count": null,
   "metadata": {},
   "outputs": [],
   "source": [
    "def plot_cnn_result(data, label='lms', confidence=0.0, fs = 250):\n",
    "    times = np.arange(data.shape[0]) / fs * 1000 \n",
    "    confidence = confidence*100\n",
    "    # show results\n",
    "    plt.figure(figsize=(6,4))\n",
    "    plt.title(\"Classification Result : %s - confidence (%.2f%%)\" % (label, confidence))\n",
    "    plt.xlabel(\"time (ms)\")\n",
    "    plt.plot(times, data,\"g\", label=\"signal\")\n",
    "    plt.tight_layout()\n",
    "    plt.legend()\n",
    "    plt.grid()\n",
    "    plt.show()"
   ]
  },
  {
   "cell_type": "code",
   "execution_count": null,
   "metadata": {
    "scrolled": true
   },
   "outputs": [],
   "source": [
    "pred_result = []\n",
    "for name in filenames :\n",
    "    cnn_res = cnn_rls_classif_result[name] if denoising == 'rls' else cnn_nlms_classif_result[name] if denoising == 'nlms' else cnn_lms_classif_result[name]\n",
    "    print(\"\\n\\n\\nPrediction Result - %s\\n\" % name)\n",
    "    for i, res in enumerate(cnn_res):\n",
    "        predicted_id = np.argmax(res)\n",
    "        label = label_names[predicted_id]\n",
    "        confidence = res[predicted_id]\n",
    "        label = label if confidence > 0.40 else '?' # threshold for confidence level , set to 70%\n",
    "        pred_result.append([name, i, label, confidence])\n",
    "        \n",
    "        print('%s \\t index - %d \\t %s \\t %s \\t %.2f %%' % (name, i, label, labels[i], confidence*100))"
   ]
  },
  {
   "cell_type": "code",
   "execution_count": null,
   "metadata": {},
   "outputs": [],
   "source": [
    "len(cnn_res), len(labels)"
   ]
  },
  {
   "cell_type": "code",
   "execution_count": null,
   "metadata": {},
   "outputs": [],
   "source": [
    "name = filenames[0]\n",
    "idx = np.where(name == np.array(pred_result)[:, 0])[0]"
   ]
  },
  {
   "cell_type": "code",
   "execution_count": null,
   "metadata": {},
   "outputs": [],
   "source": [
    "res = pred_result[idx[30]]\n",
    "data = lms_den_res[name][res[1]]\n",
    "plot_cnn_result(data, res[2], res[3])"
   ]
  },
  {
   "cell_type": "code",
   "execution_count": null,
   "metadata": {},
   "outputs": [],
   "source": [
    "res = pred_result[idx[-3]]\n",
    "\n",
    "data = lms_den_res[name][res[1]]\n",
    "plot_cnn_result(data, res[2], res[3])"
   ]
  },
  {
   "cell_type": "code",
   "execution_count": null,
   "metadata": {},
   "outputs": [],
   "source": [
    "pred_result_df = pd.DataFrame(pred_result, columns=['filename', 'idx', 'label', 'confidence'])"
   ]
  },
  {
   "cell_type": "code",
   "execution_count": null,
   "metadata": {},
   "outputs": [],
   "source": [
    "pred_result_df.head()"
   ]
  },
  {
   "cell_type": "code",
   "execution_count": null,
   "metadata": {},
   "outputs": [],
   "source": [
    "for name in filenames:\n",
    "    print(name)\n",
    "    count = dict(pred_result_df[pred_result_df['filename'] == name]['label'].value_counts())\n",
    "    for key in count :\n",
    "        print(\"%s \\t: %d\" % (key, count[key]))\n",
    "    print('\\n')"
   ]
  },
  {
   "cell_type": "code",
   "execution_count": null,
   "metadata": {},
   "outputs": [],
   "source": [
    "def plot_donat(porsion, title, labels, colors=['red', 'green', 'blue']):\n",
    "    plt.figure(figsize=(10,5))\n",
    "\n",
    "    circle = plt.Circle( (0,0), 0.7, color='white')\n",
    "    plt.pie(porsion, \n",
    "            labels=labels, \n",
    "            colors=colors,\n",
    "            autopct='%1.1f%%')\n",
    "\n",
    "    plt.title(title)\n",
    "    p = plt.gcf()\n",
    "    p.gca().add_artist(circle)\n",
    "    plt.show()"
   ]
  },
  {
   "cell_type": "code",
   "execution_count": null,
   "metadata": {},
   "outputs": [],
   "source": [
    "for name in filenames:\n",
    "    count = dict(pred_result_df[pred_result_df['filename'] == name]['label'].value_counts())\n",
    "    plot_donat(count.values(), name, count.keys())"
   ]
  },
  {
   "cell_type": "markdown",
   "metadata": {},
   "source": [
    "- save result as csv"
   ]
  },
  {
   "cell_type": "code",
   "execution_count": null,
   "metadata": {},
   "outputs": [],
   "source": [
    "pred_result_df.to_csv(dataset_folder + 'inference_result_cnn_%s_pasien_AF_dan_Normal.csv' % denoising)"
   ]
  },
  {
   "cell_type": "code",
   "execution_count": null,
   "metadata": {},
   "outputs": [],
   "source": []
  }
 ],
 "metadata": {
  "kernelspec": {
   "display_name": "Python [conda env:GPU_ENV]",
   "language": "python",
   "name": "conda-env-GPU_ENV-py"
  },
  "language_info": {
   "codemirror_mode": {
    "name": "ipython",
    "version": 3
   },
   "file_extension": ".py",
   "mimetype": "text/x-python",
   "name": "python",
   "nbconvert_exporter": "python",
   "pygments_lexer": "ipython3",
   "version": "3.6.12"
  }
 },
 "nbformat": 4,
 "nbformat_minor": 4
}
